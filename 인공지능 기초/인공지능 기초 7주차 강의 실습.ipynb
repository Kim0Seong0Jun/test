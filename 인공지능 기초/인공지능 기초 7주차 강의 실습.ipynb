{
 "cells": [
  {
   "cell_type": "code",
   "execution_count": 1,
   "id": "cdcfb92d",
   "metadata": {},
   "outputs": [],
   "source": [
    "import numpy as np\n",
    "import matplotlib.pyplot as plt\n",
    "from IPython.core.interactiveshell import InteractiveShell\n",
    "InteractiveShell.ast_node_interactivity = \"all\""
   ]
  },
  {
   "cell_type": "code",
   "execution_count": null,
   "id": "07ddf0cd",
   "metadata": {},
   "outputs": [],
   "source": [
    "# y = x³+3x²+3x+1 의 도함수와 그래프를 그려본다고 하심.\n",
    "# 도함수 = y'=3x²+6x+3 <- 이걸 그림으로 일단 그려본다고 하심\n",
    "# 일단 x데이터가 있어야하니까 x값을 가져와야함 \n"
   ]
  },
  {
   "cell_type": "code",
   "execution_count": 17,
   "id": "62a7b459",
   "metadata": {},
   "outputs": [
    {
     "data": {
      "text/plain": [
       "[<matplotlib.lines.Line2D at 0x7fd630e1fc10>]"
      ]
     },
     "execution_count": 17,
     "metadata": {},
     "output_type": "execute_result"
    },
    {
     "data": {
      "text/plain": [
       "[<matplotlib.lines.Line2D at 0x7fd630d93070>]"
      ]
     },
     "execution_count": 17,
     "metadata": {},
     "output_type": "execute_result"
    },
    {
     "data": {
      "text/plain": [
       "(-4000.0, 4000.0)"
      ]
     },
     "execution_count": 17,
     "metadata": {},
     "output_type": "execute_result"
    },
    {
     "data": {
      "text/plain": [
       "<matplotlib.legend.Legend at 0x7fd630d93220>"
      ]
     },
     "execution_count": 17,
     "metadata": {},
     "output_type": "execute_result"
    },
    {
     "data": {
      "image/png": "[encoded data removed]",
      "text/plain": [
       "<Figure size 432x288 with 1 Axes>"
      ]
     },
     "metadata": {
      "needs_background": "light"
     },
     "output_type": "display_data"
    }
   ],
   "source": [
    "x = np.arange(-30, 30, 0.1)\n",
    "y = x**3 + 3*x**2 + 3*x + 1\n",
    "plt.plot(x, y, label = 'f(x)');\n",
    "#plt.grid(alpha=0.3, color = 'y') # plt.grid -> 그래프에 격자를 넣어주는것, (alpha = 0.3 - 투명도를 0.3 만큼 한다.)\n",
    "\n",
    "y1 = 2*x**2 + 6*x\n",
    "plt.plot(x, y1, label = \"f'(x)\");\n",
    "#plt.xlim(-30, 30) # 그래프의 범위를 바꿔주는 명령\n",
    "plt.ylim(-4000, 4000) # 범위에 따라서 겹치는 부분이 보였다 안보였다가 한다.... \n",
    "plt.legend() # 그래프 안에 선들을 구분할수 있도록 박스안에 이름을 넣어준다. \n",
    "plt.grid(alpha=0.3)"
   ]
  },
  {
   "cell_type": "code",
   "execution_count": null,
   "id": "a624cf68",
   "metadata": {},
   "outputs": [],
   "source": []
  },
  {
   "cell_type": "code",
   "execution_count": null,
   "id": "19732dd5",
   "metadata": {},
   "outputs": [],
   "source": []
  },
  {
   "cell_type": "code",
   "execution_count": null,
   "id": "6241441f",
   "metadata": {},
   "outputs": [],
   "source": []
  }
 ],
 "metadata": {
  "kernelspec": {
   "display_name": "Python 3 (ipykernel)",
   "language": "python",
   "name": "python3"
  },
  "language_info": {
   "codemirror_mode": {
    "name": "ipython",
    "version": 3
   },
   "file_extension": ".py",
   "mimetype": "text/x-python",
   "name": "python",
   "nbconvert_exporter": "python",
   "pygments_lexer": "ipython3",
   "version": "3.9.7"
  }
 },
 "nbformat": 4,
 "nbformat_minor": 5
}
