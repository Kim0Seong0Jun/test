{
 "cells": [
  {
   "cell_type": "code",
   "execution_count": 2,
   "id": "473b8e04",
   "metadata": {},
   "outputs": [],
   "source": [
    "import numpy as np  # 넘파인 라이브러리 붙히기 as np <- 편리를 위해 써줌\n",
    "import math # 매스 라이브러리 붙히기 \n",
    "import matplotlib.pyplot as plt # 매트플롯립 라이브러리 붙히기 as plt <- 편리를 위해 써줌"
   ]
  },
  {
   "cell_type": "code",
   "execution_count": 3,
   "id": "451b41cc",
   "metadata": {},
   "outputs": [],
   "source": [
    "from IPython.core.interactiveshell import InteractiveShell\n",
    "InteractiveShell.ast_node_interactivity='all' \n",
    "# 코딩한 줄을 다 보여주게 되는 것 \n",
    "# 갯수대로 다 실행이 된다는 것임 이걸 안하면 맨 마지막 줄만 나오게 된다는 것임"
   ]
  },
  {
   "cell_type": "code",
   "execution_count": 16,
   "id": "46648ed0",
   "metadata": {
    "scrolled": true
   },
   "outputs": [
    {
     "data": {
      "text/plain": [
       "4.0"
      ]
     },
     "execution_count": 16,
     "metadata": {},
     "output_type": "execute_result"
    },
    {
     "data": {
      "text/plain": [
       "4.0"
      ]
     },
     "execution_count": 16,
     "metadata": {},
     "output_type": "execute_result"
    }
   ],
   "source": [
    "math.sqrt(16)\n",
    "np.sqrt(16)"
   ]
  },
  {
   "cell_type": "code",
   "execution_count": 17,
   "id": "a969cc58",
   "metadata": {},
   "outputs": [
    {
     "data": {
      "text/plain": [
       "4.3267487109222245"
      ]
     },
     "execution_count": 17,
     "metadata": {},
     "output_type": "execute_result"
    },
    {
     "data": {
      "text/plain": [
       "4.3267487109222245"
      ]
     },
     "execution_count": 17,
     "metadata": {},
     "output_type": "execute_result"
    }
   ],
   "source": [
    "math.pow(81,1/3)\n",
    "np.power(81,1/3)\n",
    "\n",
    "# 여기까지 정리함 3월 26일에 마저 정리 다하기 "
   ]
  },
  {
   "cell_type": "code",
   "execution_count": 30,
   "id": "eba7a281",
   "metadata": {},
   "outputs": [
    {
     "data": {
      "text/plain": [
       "array([2.        , 2.41421356, 2.73205081])"
      ]
     },
     "execution_count": 30,
     "metadata": {},
     "output_type": "execute_result"
    }
   ],
   "source": [
    "x = [1,2,3] # np는 넘파인을 사용한 것이다. 넘파인에서는 리스트를 불러왔을때 출력이 가능하다.\n",
    "y = np.sqrt(x) + 1\n",
    "y"
   ]
  },
  {
   "cell_type": "code",
   "execution_count": 15,
   "id": "75a41f58",
   "metadata": {},
   "outputs": [
    {
     "ename": "TypeError",
     "evalue": "must be real number, not list",
     "output_type": "error",
     "traceback": [
      "\u001b[0;31m---------------------------------------------------------------------------\u001b[0m",
      "\u001b[0;31mTypeError\u001b[0m                                 Traceback (most recent call last)",
      "\u001b[0;32m/var/folders/m5/4y33sbsx3v916xjwgc6_bx1h0000gn/T/ipykernel_848/2047316987.py\u001b[0m in \u001b[0;36m<module>\u001b[0;34m\u001b[0m\n\u001b[1;32m      1\u001b[0m \u001b[0mx\u001b[0m \u001b[0;34m=\u001b[0m \u001b[0;34m[\u001b[0m\u001b[0;36m1\u001b[0m\u001b[0;34m,\u001b[0m\u001b[0;36m2\u001b[0m\u001b[0;34m,\u001b[0m\u001b[0;36m3\u001b[0m\u001b[0;34m]\u001b[0m  \u001b[0;31m# math는 파이썬을 사용한것인데, 파이썬에서는 제곱근의 리스트를 불러올수 없음\u001b[0m\u001b[0;34m\u001b[0m\u001b[0;34m\u001b[0m\u001b[0m\n\u001b[0;32m----> 2\u001b[0;31m \u001b[0my\u001b[0m \u001b[0;34m=\u001b[0m \u001b[0mmath\u001b[0m\u001b[0;34m.\u001b[0m\u001b[0msqrt\u001b[0m\u001b[0;34m(\u001b[0m\u001b[0mx\u001b[0m\u001b[0;34m)\u001b[0m \u001b[0;34m+\u001b[0m \u001b[0;36m1\u001b[0m\u001b[0;34m\u001b[0m\u001b[0;34m\u001b[0m\u001b[0m\n\u001b[0m\u001b[1;32m      3\u001b[0m \u001b[0my\u001b[0m\u001b[0;34m\u001b[0m\u001b[0;34m\u001b[0m\u001b[0m\n",
      "\u001b[0;31mTypeError\u001b[0m: must be real number, not list"
     ]
    }
   ],
   "source": [
    "x = [1,2,3]  # math는 파이썬을 사용한것인데, 파이썬에서는 제곱근의 리스트를 불러올수 없음\n",
    "y = math.sqrt(x) + 1\n",
    "y"
   ]
  },
  {
   "cell_type": "code",
   "execution_count": null,
   "id": "a3316cfc",
   "metadata": {},
   "outputs": [],
   "source": []
  },
  {
   "cell_type": "code",
   "execution_count": 8,
   "id": "bff6a075",
   "metadata": {},
   "outputs": [
    {
     "data": {
      "image/png": "[encoded data removed]",
      "text/plain": [
       "<Figure size 432x288 with 1 Axes>"
      ]
     },
     "metadata": {
      "needs_background": "light"
     },
     "output_type": "display_data"
    }
   ],
   "source": [
    "# 표 만드는거는 중요하다고 하셨음 -> 몇번더 공부해서 하기\n",
    "x = [1,2,3] # np는 넘파인을 사용한 것이다. 넘파인에서는 리스트를 불러왔을때 출력이 가능하다.\n",
    "y = np.sqrt(x) + 1\n",
    "y\n",
    "plt.plot(x, y, color = 'g', linewidth=5, alpha = 0.5, \n",
    "         marker='o', markersize = 20, markerfacecolor = 'r', markeredgecolor= 'b')\n",
    "plt.grid(axis='x', alpha = 0.2)\n",
    "# 직전강의 참고해서 plt랑 plot 다시 한번 공부하기!! # linewidrh는 선의 굵기를 말하는 것임\n",
    "# 위에 처럼 선의 스타일들을 지정해줄수 있는데 다른 것을 더 알고싶다면, 구글에서 plt.pyplot를 검색\n",
    "plt. show();"
   ]
  },
  {
   "cell_type": "code",
   "execution_count": null,
   "id": "3151bb06",
   "metadata": {},
   "outputs": [],
   "source": []
  },
  {
   "cell_type": "code",
   "execution_count": null,
   "id": "56d27e6b",
   "metadata": {},
   "outputs": [],
   "source": []
  },
  {
   "cell_type": "code",
   "execution_count": null,
   "id": "39c13c41",
   "metadata": {},
   "outputs": [],
   "source": []
  },
  {
   "cell_type": "code",
   "execution_count": null,
   "id": "37f85866",
   "metadata": {},
   "outputs": [],
   "source": []
  },
  {
   "cell_type": "code",
   "execution_count": null,
   "id": "e1560b1a",
   "metadata": {},
   "outputs": [],
   "source": [
    "# 로그 함수 "
   ]
  },
  {
   "cell_type": "code",
   "execution_count": 17,
   "id": "096ce8f3",
   "metadata": {},
   "outputs": [],
   "source": [
    "import math \n",
    "import numpy as np"
   ]
  },
  {
   "cell_type": "code",
   "execution_count": 10,
   "id": "df61ba99",
   "metadata": {},
   "outputs": [],
   "source": [
    "from IPython.core.interactiveshell import InteractiveShell # 코딩한 줄을 다 보여주게 되는 것 \n",
    "InteractiveShell.ast_node_interactivity='all'"
   ]
  },
  {
   "cell_type": "code",
   "execution_count": null,
   "id": "0ea6dc49",
   "metadata": {},
   "outputs": [],
   "source": [
    "# 넘파이(지수로그)"
   ]
  },
  {
   "cell_type": "code",
   "execution_count": 11,
   "id": "520ad42b",
   "metadata": {},
   "outputs": [
    {
     "data": {
      "text/plain": [
       "1.6487212707001282"
      ]
     },
     "execution_count": 11,
     "metadata": {},
     "output_type": "execute_result"
    },
    {
     "data": {
      "text/plain": [
       "0.1353352832366127"
      ]
     },
     "execution_count": 11,
     "metadata": {},
     "output_type": "execute_result"
    },
    {
     "data": {
      "text/plain": [
       "0.1353352832366127"
      ]
     },
     "execution_count": 11,
     "metadata": {},
     "output_type": "execute_result"
    }
   ],
   "source": [
    "np.exp(0.5)\n",
    "np.exp(-2)\n",
    "np.power(np.e,-2)"
   ]
  },
  {
   "cell_type": "code",
   "execution_count": null,
   "id": "535f841d",
   "metadata": {},
   "outputs": [],
   "source": [
    "# 파이썬(지수로그)"
   ]
  },
  {
   "cell_type": "code",
   "execution_count": 5,
   "id": "ecb85fa2",
   "metadata": {},
   "outputs": [
    {
     "data": {
      "text/plain": [
       "148.4131591025766"
      ]
     },
     "execution_count": 5,
     "metadata": {},
     "output_type": "execute_result"
    },
    {
     "data": {
      "text/plain": [
       "8.0"
      ]
     },
     "execution_count": 5,
     "metadata": {},
     "output_type": "execute_result"
    }
   ],
   "source": [
    "math.exp(5)\n",
    "math.pow(2,3)"
   ]
  },
  {
   "cell_type": "code",
   "execution_count": null,
   "id": "c0ffb40b",
   "metadata": {},
   "outputs": [],
   "source": []
  },
  {
   "cell_type": "code",
   "execution_count": null,
   "id": "2ced5f23",
   "metadata": {},
   "outputs": [],
   "source": [
    "#파이썬(로그함수)"
   ]
  },
  {
   "cell_type": "code",
   "execution_count": 24,
   "id": "f8b658c0",
   "metadata": {},
   "outputs": [
    {
     "data": {
      "text/plain": [
       "0.0"
      ]
     },
     "execution_count": 24,
     "metadata": {},
     "output_type": "execute_result"
    },
    {
     "data": {
      "text/plain": [
       "1.0"
      ]
     },
     "execution_count": 24,
     "metadata": {},
     "output_type": "execute_result"
    },
    {
     "data": {
      "text/plain": [
       "1.6094379124341003"
      ]
     },
     "execution_count": 24,
     "metadata": {},
     "output_type": "execute_result"
    },
    {
     "data": {
      "text/plain": [
       "0.6989700043360189"
      ]
     },
     "execution_count": 24,
     "metadata": {},
     "output_type": "execute_result"
    },
    {
     "data": {
      "text/plain": [
       "1.4649735207179269"
      ]
     },
     "execution_count": 24,
     "metadata": {},
     "output_type": "execute_result"
    }
   ],
   "source": [
    "math.log(1) # In1\n",
    "math.log(math.e) # Ine\n",
    "math.log(5) # In5\n",
    "math.log10(5) # log5\n",
    "math.log(5,3)"
   ]
  },
  {
   "cell_type": "code",
   "execution_count": null,
   "id": "d9a27dcc",
   "metadata": {},
   "outputs": [],
   "source": []
  },
  {
   "cell_type": "code",
   "execution_count": null,
   "id": "52c6382a",
   "metadata": {},
   "outputs": [],
   "source": [
    "# 넘파이(로그함수)"
   ]
  },
  {
   "cell_type": "code",
   "execution_count": 11,
   "id": "1b0b5680",
   "metadata": {},
   "outputs": [
    {
     "data": {
      "text/plain": [
       "0.0"
      ]
     },
     "execution_count": 11,
     "metadata": {},
     "output_type": "execute_result"
    },
    {
     "data": {
      "text/plain": [
       "1.0"
      ]
     },
     "execution_count": 11,
     "metadata": {},
     "output_type": "execute_result"
    },
    {
     "data": {
      "text/plain": [
       "1.6094379124341003"
      ]
     },
     "execution_count": 11,
     "metadata": {},
     "output_type": "execute_result"
    },
    {
     "data": {
      "text/plain": [
       "0.6989700043360189"
      ]
     },
     "execution_count": 11,
     "metadata": {},
     "output_type": "execute_result"
    },
    {
     "data": {
      "text/plain": [
       "2.321928094887362"
      ]
     },
     "execution_count": 11,
     "metadata": {},
     "output_type": "execute_result"
    },
    {
     "data": {
      "text/plain": [
       "1.4649735207179269"
      ]
     },
     "execution_count": 11,
     "metadata": {},
     "output_type": "execute_result"
    }
   ],
   "source": [
    "np.log(1)       # In1\n",
    "np.log(np.e)    # Ine\n",
    "np.log(5)       # In5\n",
    "np.log10(5)     # log5\n",
    "np.log2(5)\n",
    "np.log(5)/np.log(3) # 계속 오류가 남... -> 괄호 안넣어서 오류났음.. "
   ]
  },
  {
   "cell_type": "code",
   "execution_count": 28,
   "id": "000e0593",
   "metadata": {},
   "outputs": [
    {
     "data": {
      "text/plain": [
       "1.4649735207179269"
      ]
     },
     "execution_count": 28,
     "metadata": {},
     "output_type": "execute_result"
    }
   ],
   "source": [
    "np.log(5)/np.log(3)"
   ]
  },
  {
   "cell_type": "code",
   "execution_count": null,
   "id": "ef5b8c78",
   "metadata": {},
   "outputs": [],
   "source": []
  },
  {
   "cell_type": "code",
   "execution_count": null,
   "id": "ec5475ab",
   "metadata": {},
   "outputs": [],
   "source": []
  },
  {
   "cell_type": "code",
   "execution_count": null,
   "id": "ed39a632",
   "metadata": {},
   "outputs": [],
   "source": []
  }
 ],
 "metadata": {
  "kernelspec": {
   "display_name": "Python 3 (ipykernel)",
   "language": "python",
   "name": "python3"
  },
  "language_info": {
   "codemirror_mode": {
    "name": "ipython",
    "version": 3
   },
   "file_extension": ".py",
   "mimetype": "text/x-python",
   "name": "python",
   "nbconvert_exporter": "python",
   "pygments_lexer": "ipython3",
   "version": "3.9.7"
  }
 },
 "nbformat": 4,
 "nbformat_minor": 5
}
