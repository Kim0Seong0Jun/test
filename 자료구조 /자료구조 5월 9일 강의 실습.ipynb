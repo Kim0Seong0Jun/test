{
 "cells": [
  {
   "cell_type": "code",
   "execution_count": null,
   "id": "0a372bf7",
   "metadata": {},
   "outputs": [],
   "source": [
    "# 1. class 호출 관련\n",
    "# 자료구조, 파이썬 기반은 class를 사용한다고 함. "
   ]
  },
  {
   "cell_type": "code",
   "execution_count": 11,
   "id": "82047123",
   "metadata": {},
   "outputs": [],
   "source": [
    "class MainHandler: \n",
    "    def __init__(self):\n",
    "        pass\n",
    "    \n",
    "    def get_sum(self, data):\n",
    "        return sum(data)\n",
    "    \n",
    "    def get_avg(self, data):\n",
    "        return sum(data)/len(data)"
   ]
  },
  {
   "cell_type": "code",
   "execution_count": null,
   "id": "7771c62c",
   "metadata": {},
   "outputs": [],
   "source": []
  },
  {
   "cell_type": "code",
   "execution_count": 12,
   "id": "b92704e5",
   "metadata": {},
   "outputs": [],
   "source": [
    "tmp = [1,2,3,4,5]"
   ]
  },
  {
   "cell_type": "code",
   "execution_count": 13,
   "id": "cdbc6487",
   "metadata": {},
   "outputs": [],
   "source": [
    "MH = MainHandler()"
   ]
  },
  {
   "cell_type": "code",
   "execution_count": 14,
   "id": "0b91d992",
   "metadata": {},
   "outputs": [
    {
     "data": {
      "text/plain": [
       "15"
      ]
     },
     "execution_count": 14,
     "metadata": {},
     "output_type": "execute_result"
    }
   ],
   "source": [
    "MH.get_sum(tmp)"
   ]
  },
  {
   "cell_type": "code",
   "execution_count": 15,
   "id": "9ecf29cf",
   "metadata": {},
   "outputs": [
    {
     "data": {
      "text/plain": [
       "3.0"
      ]
     },
     "execution_count": 15,
     "metadata": {},
     "output_type": "execute_result"
    }
   ],
   "source": [
    "MH.get_avg(tmp)"
   ]
  },
  {
   "cell_type": "code",
   "execution_count": null,
   "id": "6401b7df",
   "metadata": {},
   "outputs": [],
   "source": [
    "# 2. 여러개의 class 사용하는 것 "
   ]
  },
  {
   "cell_type": "code",
   "execution_count": 17,
   "id": "e33095fb",
   "metadata": {},
   "outputs": [],
   "source": [
    "class HandlerA:  # 데이터 계산을 하고\n",
    "    def __init__(self):\n",
    "        pass\n",
    "    \n",
    "    def get_sum(self, data):\n",
    "        return sum(data)\n",
    "    \n",
    "    def get_avg(self, data):\n",
    "        return sum(data)/len(data)\n",
    "    \n",
    "class HandlerB: # 데이터 수집을 하고\n",
    "    def get_data(self):\n",
    "        return [1,2,3,4,5]\n",
    "    \n",
    "    # 이런식으로 각각 분담을 하고, 메인 부분에서는 연산만 하도록 구성을 한다. "
   ]
  },
  {
   "cell_type": "code",
   "execution_count": null,
   "id": "5e3e69be",
   "metadata": {},
   "outputs": [],
   "source": []
  },
  {
   "cell_type": "code",
   "execution_count": 19,
   "id": "164269ac",
   "metadata": {},
   "outputs": [
    {
     "data": {
      "text/plain": [
       "15"
      ]
     },
     "execution_count": 19,
     "metadata": {},
     "output_type": "execute_result"
    }
   ],
   "source": [
    "HA = HandlerA()\n",
    "HA.get_sum(HB.get_data())"
   ]
  },
  {
   "cell_type": "code",
   "execution_count": null,
   "id": "959bced2",
   "metadata": {},
   "outputs": [],
   "source": []
  },
  {
   "cell_type": "code",
   "execution_count": null,
   "id": "ebdd27bd",
   "metadata": {},
   "outputs": [],
   "source": []
  },
  {
   "cell_type": "code",
   "execution_count": null,
   "id": "5d294a49",
   "metadata": {},
   "outputs": [],
   "source": []
  },
  {
   "cell_type": "code",
   "execution_count": null,
   "id": "101a79e6",
   "metadata": {},
   "outputs": [],
   "source": []
  },
  {
   "cell_type": "code",
   "execution_count": null,
   "id": "a411796d",
   "metadata": {},
   "outputs": [],
   "source": []
  },
  {
   "cell_type": "code",
   "execution_count": null,
   "id": "6cff3756",
   "metadata": {},
   "outputs": [],
   "source": []
  },
  {
   "cell_type": "code",
   "execution_count": null,
   "id": "29979e10",
   "metadata": {},
   "outputs": [],
   "source": []
  },
  {
   "cell_type": "code",
   "execution_count": null,
   "id": "4883d259",
   "metadata": {},
   "outputs": [],
   "source": []
  }
 ],
 "metadata": {
  "kernelspec": {
   "display_name": "Python 3 (ipykernel)",
   "language": "python",
   "name": "python3"
  },
  "language_info": {
   "codemirror_mode": {
    "name": "ipython",
    "version": 3
   },
   "file_extension": ".py",
   "mimetype": "text/x-python",
   "name": "python",
   "nbconvert_exporter": "python",
   "pygments_lexer": "ipython3",
   "version": "3.9.7"
  }
 },
 "nbformat": 4,
 "nbformat_minor": 5
}
