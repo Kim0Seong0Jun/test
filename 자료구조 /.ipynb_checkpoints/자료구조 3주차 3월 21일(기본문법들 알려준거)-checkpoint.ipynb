{
 "cells": [
  {
   "cell_type": "code",
   "execution_count": 1,
   "id": "9a709c56",
   "metadata": {},
   "outputs": [],
   "source": [
    "# 3 주차"
   ]
  },
  {
   "cell_type": "code",
   "execution_count": null,
   "id": "b620321f",
   "metadata": {},
   "outputs": [],
   "source": [
    "# 변수, \n",
    "# 리스트.\n",
    "# while\n",
    "# For, if\n",
    "\n",
    "# Tuple\n",
    "# Dict\n",
    "# Float\n",
    "# Int\n",
    "# Set\n",
    "\n",
    "# import os 함수\n",
    "# try : except\n",
    "\n",
    "# 기본적인 구조들을 할거라고 했음\n",
    "# C언어나 자바를 한번 해본사람들은 알겠지만 파이썬은 배우기가 쉽다고 함 아마 이해하기 쉬울거라고 했음"
   ]
  },
  {
   "cell_type": "code",
   "execution_count": null,
   "id": "33605c61",
   "metadata": {},
   "outputs": [],
   "source": [
    "# http://wikidocs.net/43 -> 위키독스 사이트인데 여기서 파이썬 책 2~3책이 무료라고 여기서 보면서 공부좀 해보래 \n",
    "# 전체적으로 기초적인 내용들로 되어있어서 파이썬의 언어를 감을 잡을수 있다고 했음"
   ]
  },
  {
   "cell_type": "code",
   "execution_count": null,
   "id": "296e7ffb",
   "metadata": {},
   "outputs": [],
   "source": []
  },
  {
   "cell_type": "markdown",
   "id": "c5163ea4",
   "metadata": {},
   "source": [
    "# list tuple"
   ]
  },
  {
   "cell_type": "code",
   "execution_count": 7,
   "id": "20d2f335",
   "metadata": {},
   "outputs": [],
   "source": [
    "# 파이썬같은 경우는 자바와 c언어보다 쉽다는 말을 해주는 중이다. \n",
    "a = 'test'"
   ]
  },
  {
   "cell_type": "code",
   "execution_count": 8,
   "id": "b3737d77",
   "metadata": {},
   "outputs": [
    {
     "name": "stdout",
     "output_type": "stream",
     "text": [
      "test\n"
     ]
    }
   ],
   "source": [
    "print(a)"
   ]
  },
  {
   "cell_type": "code",
   "execution_count": 9,
   "id": "ccf5c5f7",
   "metadata": {},
   "outputs": [
    {
     "name": "stdout",
     "output_type": "stream",
     "text": [
      "<class 'str'>\n"
     ]
    }
   ],
   "source": [
    "print(type(a)) # 이런식으로 a가 무슨 타입인지 말을 해준다. \n",
    "# c언어와 비교를 했을때 a에 무엇을 태그를 했을때 속도가 파이썬이 훨씬 느리다고 볼수 있지만\n",
    "# 하드웨어의 성능이 높아지면서 사용자의 편리성을 따지게 되면서 파이썬이 각광을 받고 있는것이다. \n",
    "# 하드웨어가 좋아지면서 이제 c언어와 파이썬의 퍼포먼스의 기능이 이제 별로 차이가 안난다.\n",
    "# 확장성을 고려했을때 파이썬이 이제 좋아졌다. -> 잘 구성이 되어있음"
   ]
  },
  {
   "cell_type": "code",
   "execution_count": 10,
   "id": "cc53aa5c",
   "metadata": {},
   "outputs": [],
   "source": [
    "b = [1,2,3,4,5] "
   ]
  },
  {
   "cell_type": "code",
   "execution_count": 12,
   "id": "b3ac4bfc",
   "metadata": {},
   "outputs": [
    {
     "data": {
      "text/plain": [
       "2"
      ]
     },
     "execution_count": 12,
     "metadata": {},
     "output_type": "execute_result"
    }
   ],
   "source": [
    "b[0] # 파이썬은 어제도 공부했지만 0부터 시작해서 0 1 2 3 4 5 순으로 생각을 해야한다."
   ]
  },
  {
   "cell_type": "code",
   "execution_count": 16,
   "id": "e8088983",
   "metadata": {},
   "outputs": [
    {
     "data": {
      "text/plain": [
       "5"
      ]
     },
     "execution_count": 16,
     "metadata": {},
     "output_type": "execute_result"
    }
   ],
   "source": [
    "b[-1] # -붙히고 1을 붙히면 마지막 값을 보여준다."
   ]
  },
  {
   "cell_type": "code",
   "execution_count": 18,
   "id": "895cadbf",
   "metadata": {},
   "outputs": [
    {
     "data": {
      "text/plain": [
       "[3, 2, 3, 4, 5]"
      ]
     },
     "execution_count": 18,
     "metadata": {},
     "output_type": "execute_result"
    }
   ],
   "source": [
    "b[0] = 3\n",
    "b"
   ]
  },
  {
   "cell_type": "code",
   "execution_count": 21,
   "id": "c3f3d60f",
   "metadata": {},
   "outputs": [
    {
     "ename": "TypeError",
     "evalue": "'tuple' object does not support item assignment",
     "output_type": "error",
     "traceback": [
      "\u001b[0;31m---------------------------------------------------------------------------\u001b[0m",
      "\u001b[0;31mTypeError\u001b[0m                                 Traceback (most recent call last)",
      "\u001b[0;32m/var/folders/m5/4y33sbsx3v916xjwgc6_bx1h0000gn/T/ipykernel_5753/1440316941.py\u001b[0m in \u001b[0;36m<module>\u001b[0;34m\u001b[0m\n\u001b[1;32m      2\u001b[0m \u001b[0mc\u001b[0m \u001b[0;34m=\u001b[0m \u001b[0;34m(\u001b[0m\u001b[0;36m1\u001b[0m\u001b[0;34m,\u001b[0m\u001b[0;36m2\u001b[0m\u001b[0;34m,\u001b[0m\u001b[0;36m3\u001b[0m\u001b[0;34m,\u001b[0m\u001b[0;36m4\u001b[0m\u001b[0;34m,\u001b[0m\u001b[0;36m5\u001b[0m\u001b[0;34m)\u001b[0m\u001b[0;34m\u001b[0m\u001b[0;34m\u001b[0m\u001b[0m\n\u001b[1;32m      3\u001b[0m \u001b[0mc\u001b[0m\u001b[0;34m[\u001b[0m\u001b[0;36m0\u001b[0m\u001b[0;34m]\u001b[0m\u001b[0;34m\u001b[0m\u001b[0;34m\u001b[0m\u001b[0m\n\u001b[0;32m----> 4\u001b[0;31m \u001b[0mc\u001b[0m\u001b[0;34m[\u001b[0m\u001b[0;36m0\u001b[0m\u001b[0;34m]\u001b[0m \u001b[0;34m=\u001b[0m \u001b[0;36m2\u001b[0m  \u001b[0;31m# 이런식으로 위에 대괄호를 사용했을때는 아웃이 나왔지만 tuple을 사용하면 오류가 발생한다.\u001b[0m\u001b[0;34m\u001b[0m\u001b[0;34m\u001b[0m\u001b[0m\n\u001b[0m",
      "\u001b[0;31mTypeError\u001b[0m: 'tuple' object does not support item assignment"
     ]
    }
   ],
   "source": [
    "# tuple -> 파이썬에서는 list랑 tuple을 대부분 사용을 한다고 함. \n",
    "# tuple은 리스트랑 비슷하지만 최종값의 값으로 변경이 되지 않는 값을 사용할때 이것을 사용한다.\n",
    "\n",
    "c = (1,2,3,4,5)\n",
    "c[0]\n",
    "c[0] = 2  # 이런식으로 위에 대괄호를 사용했을때는 아웃이 나왔지만 tuple을 사용하면 오류가 발생한다.\n"
   ]
  },
  {
   "cell_type": "code",
   "execution_count": null,
   "id": "570383d3",
   "metadata": {},
   "outputs": [],
   "source": []
  },
  {
   "cell_type": "markdown",
   "id": "2cd9cfaf",
   "metadata": {},
   "source": [
    "# for"
   ]
  },
  {
   "cell_type": "code",
   "execution_count": 22,
   "id": "0f7bedf7",
   "metadata": {},
   "outputs": [
    {
     "data": {
      "text/plain": [
       "[3, 2, 3, 4, 5]"
      ]
     },
     "execution_count": 22,
     "metadata": {},
     "output_type": "execute_result"
    }
   ],
   "source": [
    "b"
   ]
  },
  {
   "cell_type": "code",
   "execution_count": 24,
   "id": "28112df3",
   "metadata": {},
   "outputs": [
    {
     "data": {
      "text/plain": [
       "5"
      ]
     },
     "execution_count": 24,
     "metadata": {},
     "output_type": "execute_result"
    }
   ],
   "source": [
    "len(b) -> # c++ b, length()와 같은말 "
   ]
  },
  {
   "cell_type": "code",
   "execution_count": 27,
   "id": "cfbee196",
   "metadata": {},
   "outputs": [
    {
     "name": "stdout",
     "output_type": "stream",
     "text": [
      "3\n",
      "2\n",
      "3\n",
      "4\n",
      "5\n"
     ]
    }
   ],
   "source": [
    "for x in range(len(b)):\n",
    "    print(b[x])\n",
    "    \n",
    "    "
   ]
  },
  {
   "cell_type": "code",
   "execution_count": null,
   "id": "b96f463f",
   "metadata": {},
   "outputs": [],
   "source": []
  },
  {
   "cell_type": "markdown",
   "id": "9b23458c",
   "metadata": {},
   "source": [
    "# while문"
   ]
  },
  {
   "cell_type": "code",
   "execution_count": 30,
   "id": "6ee27126",
   "metadata": {},
   "outputs": [
    {
     "name": "stdout",
     "output_type": "stream",
     "text": [
      "0\n",
      "1\n",
      "2\n",
      "3\n",
      "4\n"
     ]
    }
   ],
   "source": [
    "# for 와 while과 비슷하다.\n",
    "import time\n",
    "\n",
    "count = 0\n",
    "while(True):\n",
    "    time.sleep(1)\n",
    "    print(count)\n",
    "    count += 1\n",
    "    if count == 5 : \n",
    "        break"
   ]
  },
  {
   "cell_type": "code",
   "execution_count": null,
   "id": "c0583e6d",
   "metadata": {},
   "outputs": [],
   "source": []
  },
  {
   "cell_type": "markdown",
   "id": "d7e4ae9c",
   "metadata": {},
   "source": [
    "# if, else"
   ]
  },
  {
   "cell_type": "code",
   "execution_count": 37,
   "id": "721d8e42",
   "metadata": {},
   "outputs": [],
   "source": [
    "a = 19"
   ]
  },
  {
   "cell_type": "code",
   "execution_count": 38,
   "id": "16a3157a",
   "metadata": {},
   "outputs": [
    {
     "name": "stdout",
     "output_type": "stream",
     "text": [
      "C\n"
     ]
    }
   ],
   "source": [
    "if a == 10:  # -> 10 이면 A\n",
    "    print('A')\n",
    "elif a == 11:  # -> 11이면 B\n",
    "    print('B')\n",
    "else: print('C') # -> 12이상부터는 C가 나오는 것이다."
   ]
  },
  {
   "cell_type": "code",
   "execution_count": null,
   "id": "8e8921d2",
   "metadata": {},
   "outputs": [],
   "source": []
  },
  {
   "cell_type": "code",
   "execution_count": null,
   "id": "79bc298e",
   "metadata": {},
   "outputs": [],
   "source": [
    "# 파이썬에서 자주 사용하는것중에 하나가 딕서너리? 작명?? "
   ]
  },
  {
   "cell_type": "markdown",
   "id": "1b3567d6",
   "metadata": {},
   "source": [
    "# Dictionary"
   ]
  },
  {
   "cell_type": "code",
   "execution_count": 40,
   "id": "d2228081",
   "metadata": {},
   "outputs": [],
   "source": [
    " a = {'apple':1000, 'banana':1500} # 데이터 자료구조를 구할때 이런식으로 많이 쓴다고 하네\n",
    "                                   # 제이슨 타입?임\n"
   ]
  },
  {
   "cell_type": "code",
   "execution_count": 44,
   "id": "b57fe5b6",
   "metadata": {},
   "outputs": [
    {
     "data": {
      "text/plain": [
       "dict"
      ]
     },
     "execution_count": 44,
     "metadata": {},
     "output_type": "execute_result"
    }
   ],
   "source": [
    "type(a)\n"
   ]
  },
  {
   "cell_type": "code",
   "execution_count": 45,
   "id": "f2203506",
   "metadata": {},
   "outputs": [
    {
     "data": {
      "text/plain": [
       "1000"
      ]
     },
     "execution_count": 45,
     "metadata": {},
     "output_type": "execute_result"
    }
   ],
   "source": [
    "\n",
    "items =  {'apple':1000, 'banana':1500}\n",
    "items['apple']"
   ]
  },
  {
   "cell_type": "code",
   "execution_count": 46,
   "id": "26db6dc0",
   "metadata": {},
   "outputs": [
    {
     "data": {
      "text/plain": [
       "dict_keys(['apple', 'banana'])"
      ]
     },
     "execution_count": 46,
     "metadata": {},
     "output_type": "execute_result"
    }
   ],
   "source": [
    "items.keys()   # 딕셔널리(dictionary)의 키값들을 말해주는것을 말한다."
   ]
  },
  {
   "cell_type": "code",
   "execution_count": 47,
   "id": "2315efdc",
   "metadata": {},
   "outputs": [
    {
     "data": {
      "text/plain": [
       "['apple', 'banana']"
      ]
     },
     "execution_count": 47,
     "metadata": {},
     "output_type": "execute_result"
    }
   ],
   "source": [
    "list(items.keys())"
   ]
  },
  {
   "cell_type": "code",
   "execution_count": 48,
   "id": "0a5578e1",
   "metadata": {},
   "outputs": [
    {
     "name": "stdout",
     "output_type": "stream",
     "text": [
      "apple\n",
      "1000\n",
      "banana\n",
      "1500\n"
     ]
    }
   ],
   "source": [
    "# 이거 무슨말인지 모르겠어 이거 다시 공부해보기\n",
    "for k,v in items.items():  \n",
    "    print(k)\n",
    "    print(v)"
   ]
  },
  {
   "cell_type": "code",
   "execution_count": 49,
   "id": "4e026997",
   "metadata": {},
   "outputs": [
    {
     "name": "stdout",
     "output_type": "stream",
     "text": [
      "apple:1000\n",
      "banana:1500\n"
     ]
    }
   ],
   "source": [
    "for k,v in items.items():  \n",
    "    print(\"{}:{}\".format(k, v))\n",
    "    "
   ]
  },
  {
   "cell_type": "code",
   "execution_count": 50,
   "id": "9ffdb21f",
   "metadata": {},
   "outputs": [
    {
     "name": "stdout",
     "output_type": "stream",
     "text": [
      "apple:1000\n",
      "banana:1500\n"
     ]
    }
   ],
   "source": [
    "# 이건 요즘에 사용하는 방식이라고 함. \n",
    "for k,v in items.items():  \n",
    "    print(f\"{k}:{v}\")"
   ]
  },
  {
   "cell_type": "code",
   "execution_count": 51,
   "id": "2c10bf8b",
   "metadata": {},
   "outputs": [
    {
     "name": "stdout",
     "output_type": "stream",
     "text": [
      "apple:1,000\n",
      "banana:1,500\n"
     ]
    }
   ],
   "source": [
    "for k,v in items.items():  \n",
    "    print(f\"{k}:{v:,}\")"
   ]
  },
  {
   "cell_type": "code",
   "execution_count": null,
   "id": "02cb054e",
   "metadata": {},
   "outputs": [],
   "source": []
  },
  {
   "cell_type": "markdown",
   "id": "0059ee42",
   "metadata": {},
   "source": [
    "# list"
   ]
  },
  {
   "cell_type": "code",
   "execution_count": 53,
   "id": "aded8b97",
   "metadata": {},
   "outputs": [],
   "source": [
    "a = [1,2,3,4,5]"
   ]
  },
  {
   "cell_type": "code",
   "execution_count": 54,
   "id": "34a17dd3",
   "metadata": {},
   "outputs": [],
   "source": [
    "sum1 = 0\n",
    "for x in a:\n",
    "    sum1 += x"
   ]
  },
  {
   "cell_type": "code",
   "execution_count": 55,
   "id": "548d9b4c",
   "metadata": {},
   "outputs": [
    {
     "name": "stdout",
     "output_type": "stream",
     "text": [
      "15\n"
     ]
    }
   ],
   "source": [
    "print(sum)"
   ]
  },
  {
   "cell_type": "code",
   "execution_count": 65,
   "id": "8837f583",
   "metadata": {},
   "outputs": [
    {
     "data": {
      "text/plain": [
       "[1, 2, 3, 4, 5]"
      ]
     },
     "execution_count": 65,
     "metadata": {},
     "output_type": "execute_result"
    }
   ],
   "source": [
    "[ x for x in a ] # 이안에서 for문이 반복하게 된다는 말이다. "
   ]
  },
  {
   "cell_type": "code",
   "execution_count": null,
   "id": "c53c013c",
   "metadata": {},
   "outputs": [],
   "source": []
  },
  {
   "cell_type": "markdown",
   "id": "3181f8ad",
   "metadata": {},
   "source": [
    "# set"
   ]
  },
  {
   "cell_type": "code",
   "execution_count": null,
   "id": "21d73a3d",
   "metadata": {},
   "outputs": [],
   "source": [
    "# list랑 같이 나오는 set펑션임 펑션은 리스트에 있는 값들을 중복성을 제거해주는거로 생각하면 될듯"
   ]
  },
  {
   "cell_type": "code",
   "execution_count": 68,
   "id": "ff715947",
   "metadata": {},
   "outputs": [],
   "source": [
    "a = [1,1,1,2,4,5,3,2,3,4,5,4,3,2,7]"
   ]
  },
  {
   "cell_type": "code",
   "execution_count": 69,
   "id": "324fdfa7",
   "metadata": {},
   "outputs": [
    {
     "data": {
      "text/plain": [
       "{1, 2, 3, 4, 5, 7}"
      ]
     },
     "execution_count": 69,
     "metadata": {},
     "output_type": "execute_result"
    }
   ],
   "source": [
    "set(a) #이런식으로 중복된값을 없애서 보여주는것이다."
   ]
  },
  {
   "cell_type": "code",
   "execution_count": 70,
   "id": "248f1390",
   "metadata": {},
   "outputs": [
    {
     "data": {
      "text/plain": [
       "[1, 2, 3, 4, 5, 7]"
      ]
     },
     "execution_count": 70,
     "metadata": {},
     "output_type": "execute_result"
    }
   ],
   "source": [
    "list(set(a)) #list를 명령어를 넣어줘야 대괄호로 리스트 보여줌"
   ]
  },
  {
   "cell_type": "code",
   "execution_count": null,
   "id": "8d6e1a92",
   "metadata": {},
   "outputs": [],
   "source": []
  },
  {
   "cell_type": "markdown",
   "id": "d9e785e1",
   "metadata": {},
   "source": [
    "# os, time, datetime - 기본적으로 내장되어있는 함수"
   ]
  },
  {
   "cell_type": "code",
   "execution_count": 77,
   "id": "0671fd5f",
   "metadata": {},
   "outputs": [],
   "source": [
    "import os, time, datetime"
   ]
  },
  {
   "cell_type": "code",
   "execution_count": 79,
   "id": "c6e4dacc",
   "metadata": {},
   "outputs": [
    {
     "data": {
      "text/plain": [
       "'/Users/gimseongjun'"
      ]
     },
     "execution_count": 79,
     "metadata": {},
     "output_type": "execute_result"
    }
   ],
   "source": [
    "os.getcwd() # 지금 os의 경로가 어떻게 되는지 알수 있음"
   ]
  },
  {
   "cell_type": "code",
   "execution_count": 80,
   "id": "38d29a71",
   "metadata": {},
   "outputs": [],
   "source": [
    "time.sleep(1)"
   ]
  },
  {
   "cell_type": "code",
   "execution_count": 82,
   "id": "f5154c92",
   "metadata": {},
   "outputs": [],
   "source": [
    "start = time.time()"
   ]
  },
  {
   "cell_type": "code",
   "execution_count": 83,
   "id": "bacc8fc6",
   "metadata": {},
   "outputs": [],
   "source": [
    "end = time.time() - start"
   ]
  },
  {
   "cell_type": "code",
   "execution_count": 85,
   "id": "ac43462e",
   "metadata": {},
   "outputs": [
    {
     "data": {
      "text/plain": [
       "1.4733631610870361"
      ]
     },
     "execution_count": 85,
     "metadata": {},
     "output_type": "execute_result"
    }
   ],
   "source": [
    "end"
   ]
  },
  {
   "cell_type": "code",
   "execution_count": null,
   "id": "dc311b9e",
   "metadata": {},
   "outputs": [],
   "source": []
  },
  {
   "cell_type": "code",
   "execution_count": 86,
   "id": "3a476431",
   "metadata": {},
   "outputs": [
    {
     "data": {
      "text/plain": [
       "<module 'datetime' from '/Users/gimseongjun/opt/anaconda3/lib/python3.9/datetime.py'>"
      ]
     },
     "execution_count": 86,
     "metadata": {},
     "output_type": "execute_result"
    }
   ],
   "source": [
    "datetime"
   ]
  },
  {
   "cell_type": "code",
   "execution_count": 87,
   "id": "ed6e31dd",
   "metadata": {},
   "outputs": [
    {
     "data": {
      "text/plain": [
       "datetime.datetime(2022, 3, 21, 16, 50, 51, 868055)"
      ]
     },
     "execution_count": 87,
     "metadata": {},
     "output_type": "execute_result"
    }
   ],
   "source": [
    "datetime.datetime.now()"
   ]
  },
  {
   "cell_type": "code",
   "execution_count": 89,
   "id": "236bb3de",
   "metadata": {},
   "outputs": [
    {
     "ename": "NameError",
     "evalue": "name 'now' is not defined",
     "output_type": "error",
     "traceback": [
      "\u001b[0;31m---------------------------------------------------------------------------\u001b[0m",
      "\u001b[0;31mNameError\u001b[0m                                 Traceback (most recent call last)",
      "\u001b[0;32m/var/folders/m5/4y33sbsx3v916xjwgc6_bx1h0000gn/T/ipykernel_5753/233556787.py\u001b[0m in \u001b[0;36m<module>\u001b[0;34m\u001b[0m\n\u001b[0;32m----> 1\u001b[0;31m \u001b[0mnow\u001b[0m\u001b[0;34m.\u001b[0m\u001b[0myear\u001b[0m\u001b[0;34m\u001b[0m\u001b[0;34m\u001b[0m\u001b[0m\n\u001b[0m",
      "\u001b[0;31mNameError\u001b[0m: name 'now' is not defined"
     ]
    }
   ],
   "source": [
    "now.year"
   ]
  },
  {
   "cell_type": "code",
   "execution_count": null,
   "id": "37f60202",
   "metadata": {},
   "outputs": [],
   "source": []
  },
  {
   "cell_type": "code",
   "execution_count": null,
   "id": "2c545a43",
   "metadata": {},
   "outputs": [],
   "source": [
    "#try 캐치문"
   ]
  },
  {
   "cell_type": "code",
   "execution_count": 91,
   "id": "55d433cf",
   "metadata": {},
   "outputs": [
    {
     "name": "stdout",
     "output_type": "stream",
     "text": [
      "10\n"
     ]
    }
   ],
   "source": [
    "# 이친구 같은 경우에는 오류 없이 잘 썼을땐 잘 나오는거고\n",
    "try:\n",
    "    a = 10\n",
    "    # something... \n",
    "    print(a)\n",
    "except :\n",
    "    print('error')"
   ]
  },
  {
   "cell_type": "code",
   "execution_count": 92,
   "id": "9d8ae474",
   "metadata": {},
   "outputs": [
    {
     "name": "stdout",
     "output_type": "stream",
     "text": [
      "error\n"
     ]
    }
   ],
   "source": [
    "# 이친구 같은 경우에는 오류가 있어서 오류.. 라고 뜬것임\n",
    "try:\n",
    "    a = [1,2,3]\n",
    "    #something...\n",
    "    print(a[3])\n",
    "except : \n",
    "    print('error')\n",
    "    \n",
    "    # 이런거를 잘 사용 하면 프로그램이 멈추는 상황을 조금 막을수 있다."
   ]
  },
  {
   "cell_type": "code",
   "execution_count": 108,
   "id": "c20de538",
   "metadata": {},
   "outputs": [
    {
     "name": "stdout",
     "output_type": "stream",
     "text": [
      "list index out of range\n"
     ]
    }
   ],
   "source": [
    "# 이 친구는 어느부분이 오류가 났는지 알 수 있는 것\n",
    "# 프로그램의 오류를 좀더 원활하게 찾기 위해서 이런식으로 문법을 사용한다.\n",
    "try:\n",
    "    a = [1,2,3]\n",
    "    #something...\n",
    "    print(a[3])\n",
    "except Exception as e: \n",
    "    print(e)"
   ]
  },
  {
   "cell_type": "code",
   "execution_count": null,
   "id": "3a5dee7d",
   "metadata": {},
   "outputs": [],
   "source": []
  },
  {
   "cell_type": "code",
   "execution_count": null,
   "id": "b61091bd",
   "metadata": {},
   "outputs": [],
   "source": []
  },
  {
   "cell_type": "code",
   "execution_count": null,
   "id": "2b0326af",
   "metadata": {},
   "outputs": [],
   "source": []
  },
  {
   "cell_type": "code",
   "execution_count": null,
   "id": "c1987972",
   "metadata": {},
   "outputs": [],
   "source": []
  }
 ],
 "metadata": {
  "kernelspec": {
   "display_name": "Python 3 (ipykernel)",
   "language": "python",
   "name": "python3"
  },
  "language_info": {
   "codemirror_mode": {
    "name": "ipython",
    "version": 3
   },
   "file_extension": ".py",
   "mimetype": "text/x-python",
   "name": "python",
   "nbconvert_exporter": "python",
   "pygments_lexer": "ipython3",
   "version": "3.9.7"
  }
 },
 "nbformat": 4,
 "nbformat_minor": 5
}
