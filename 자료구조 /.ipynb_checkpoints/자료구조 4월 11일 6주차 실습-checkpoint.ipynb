{
 "cells": [
  {
   "cell_type": "code",
   "execution_count": 1,
   "id": "e39097a0",
   "metadata": {},
   "outputs": [],
   "source": [
    "class ListNode:\n",
    "    def __init__(self, newItem, nextNode):\n",
    "        self.item = newItem\n",
    "        self.next = nextNode"
   ]
  },
  {
   "cell_type": "code",
   "execution_count": 52,
   "id": "3c0cb125",
   "metadata": {},
   "outputs": [],
   "source": [
    "class LinkedList:\n",
    "    def __init__(self):\n",
    "        self.__head = ListNode('dump', None)\n",
    "        self.__numItems = 0\n",
    "        \n",
    "    def insert(self, i, newItem):\n",
    "        prev = self.__getNode(i-1)\n",
    "        newNode = ListNode(newItem, prev.next)\n",
    "        prev.next = newNode\n",
    "        self.__numItems += 1\n",
    "        \n",
    "    def append(self, newItem):\n",
    "        prev = self.__getNode(self.__numItems -1)\n",
    "        newNode = ListNode(newItem, prev.next)\n",
    "        prev.next = newNode\n",
    "        self.__numItems += 1\n",
    "        \n",
    "    def pop(self, i):\n",
    "        prev = self.__getNode(i-1)\n",
    "        curr = prev.next\n",
    "        prev.next = curr.next\n",
    "        retItem = curr.item\n",
    "        self.__numItems -= 1\n",
    "        return retItem\n",
    "    \n",
    "    def get(self, i):\n",
    "        return self.__getNode(i).item\n",
    "        \n",
    "    def __getNode(self, i):\n",
    "        curr = self.__head\n",
    "        for index in range(i+1):\n",
    "            curr = curr.next\n",
    "        return curr\n",
    "    \n",
    "    def printList(self):\n",
    "        curr = self.__head.next\n",
    "        p_list = []\n",
    "        while curr != None:\n",
    "            p_list.append(curr.item)\n",
    "            curr = curr.next\n",
    "        return p_list\n",
    "        \n",
    "    #def remove(self, x):\n",
    "    #    (prev, curr) = self.__findNode(x)\n",
    "    #    if curr !=None:\n",
    "    #        prev.next = prev.next.next\n",
    "    #        __numItem -= 1\n",
    "    #        return x\n",
    "    #    else:\n",
    "    #        return None\n",
    "    \n",
    "    #이 밑에 remove코드는 교수님이 작성한거 일단 알고 있기.\n",
    "    def remove(self, x):\n",
    "        (prev, curr) = self.__findNode(x)\n",
    "        if curr != None:\n",
    "            prev.next = curr.next\n",
    "            self.__numItems -= 1\n",
    "            return x\n",
    "        else : \n",
    "            return None\n",
    "        \n",
    "    def size(self):\n",
    "        return self.__numItems\n",
    "    \n",
    "    def clear(self):\n",
    "        self.__head = ListNode('dump', None)\n",
    "        self.__numItems = 0\n",
    "        \n",
    "    def isEmpty(self):\n",
    "        if self.__numItems == 0 : return True\n",
    "        else : return False\n",
    "            \n",
    "    def __findNode(self, i:int) -> (ListNode, ListNode):\n",
    "        prev = self.__head \n",
    "        curr = prev.next\n",
    "        while curr != None:\n",
    "            if curr.item == x:\n",
    "                return (prev, curr)\n",
    "            else:\n",
    "                prev = curr; curr = curr.next\n",
    "            return (None, None)"
   ]
  },
  {
   "cell_type": "code",
   "execution_count": null,
   "id": "2123fc67",
   "metadata": {},
   "outputs": [],
   "source": []
  },
  {
   "cell_type": "code",
   "execution_count": 5,
   "id": "da671183",
   "metadata": {},
   "outputs": [],
   "source": [
    "ll = LinkedList()"
   ]
  },
  {
   "cell_type": "code",
   "execution_count": 7,
   "id": "36270d8c",
   "metadata": {},
   "outputs": [],
   "source": [
    "ll.append(1)"
   ]
  },
  {
   "cell_type": "code",
   "execution_count": 8,
   "id": "ac03b748",
   "metadata": {},
   "outputs": [
    {
     "data": {
      "text/plain": [
       "[1]"
      ]
     },
     "execution_count": 8,
     "metadata": {},
     "output_type": "execute_result"
    }
   ],
   "source": [
    "ll.printList()"
   ]
  },
  {
   "cell_type": "code",
   "execution_count": null,
   "id": "5fee214b",
   "metadata": {},
   "outputs": [],
   "source": []
  },
  {
   "cell_type": "code",
   "execution_count": 53,
   "id": "ddb92edf",
   "metadata": {},
   "outputs": [],
   "source": [
    "class LinkedStack:\n",
    "    def __init__(self):\n",
    "        self.__list = LinkedList()\n",
    "        \n",
    "    def push(self, newItem):\n",
    "        self.__list.insert(0, newItem)\n",
    "        \n",
    "    def pop(self):\n",
    "        return self.__list.pop(0)\n",
    "    \n",
    "    def top(self):\n",
    "        if self.isEmpty():\n",
    "            return None\n",
    "        else:\n",
    "            return self.__list.get(0)\n",
    "        \n",
    "    def isEmpty(self) -> bool:\n",
    "        return self.__list.isEmpty()\n",
    "    \n",
    "    def popAll(self):\n",
    "        self.__list.clear()\n",
    "        \n",
    "    def printStack(self):\n",
    "        print(\"Stack from top:\", end = '')\n",
    "        for i in range(self.__list.size()):\n",
    "            print(self.__list.get(i), end = ' ')\n",
    "        print()\n",
    "        \n",
    "        "
   ]
  },
  {
   "cell_type": "markdown",
   "id": "d61d7849",
   "metadata": {},
   "source": [
    "# 밑에는 실습한 내용들 "
   ]
  },
  {
   "cell_type": "code",
   "execution_count": 54,
   "id": "00ff20e5",
   "metadata": {},
   "outputs": [],
   "source": [
    "LS = LinkedStack()"
   ]
  },
  {
   "cell_type": "code",
   "execution_count": 55,
   "id": "48fd977d",
   "metadata": {},
   "outputs": [],
   "source": [
    "LS.push(1)"
   ]
  },
  {
   "cell_type": "code",
   "execution_count": 56,
   "id": "be37fcf9",
   "metadata": {},
   "outputs": [],
   "source": [
    "LS.push(2)"
   ]
  },
  {
   "cell_type": "code",
   "execution_count": 57,
   "id": "c91a4cda",
   "metadata": {},
   "outputs": [
    {
     "name": "stdout",
     "output_type": "stream",
     "text": [
      "Stack from top:2 1 \n"
     ]
    }
   ],
   "source": [
    "LS.printStack()"
   ]
  },
  {
   "cell_type": "code",
   "execution_count": null,
   "id": "618e6be7",
   "metadata": {},
   "outputs": [],
   "source": []
  },
  {
   "cell_type": "code",
   "execution_count": 85,
   "id": "cca76d86",
   "metadata": {},
   "outputs": [],
   "source": [
    "LS.popAll()"
   ]
  },
  {
   "cell_type": "code",
   "execution_count": 86,
   "id": "e1d86129",
   "metadata": {},
   "outputs": [
    {
     "data": {
      "text/plain": [
       "True"
      ]
     },
     "execution_count": 86,
     "metadata": {},
     "output_type": "execute_result"
    }
   ],
   "source": [
    "LS.isEmpty()"
   ]
  },
  {
   "cell_type": "code",
   "execution_count": 87,
   "id": "1f46b3e6",
   "metadata": {},
   "outputs": [],
   "source": [
    "LS.push(1)"
   ]
  },
  {
   "cell_type": "code",
   "execution_count": 88,
   "id": "c2929609",
   "metadata": {},
   "outputs": [],
   "source": [
    "LS.push(2)"
   ]
  },
  {
   "cell_type": "code",
   "execution_count": 89,
   "id": "79270917",
   "metadata": {},
   "outputs": [
    {
     "data": {
      "text/plain": [
       "False"
      ]
     },
     "execution_count": 89,
     "metadata": {},
     "output_type": "execute_result"
    }
   ],
   "source": [
    "LS.isEmpty()"
   ]
  },
  {
   "cell_type": "code",
   "execution_count": 90,
   "id": "b941c261",
   "metadata": {},
   "outputs": [
    {
     "name": "stdout",
     "output_type": "stream",
     "text": [
      "Stack from top:2 1 \n"
     ]
    }
   ],
   "source": [
    "LS.printStack()"
   ]
  },
  {
   "cell_type": "code",
   "execution_count": null,
   "id": "f8217c08",
   "metadata": {},
   "outputs": [],
   "source": []
  },
  {
   "cell_type": "code",
   "execution_count": 91,
   "id": "d2ff955f",
   "metadata": {},
   "outputs": [
    {
     "data": {
      "text/plain": [
       "2"
      ]
     },
     "execution_count": 91,
     "metadata": {},
     "output_type": "execute_result"
    }
   ],
   "source": [
    "LS.pop()"
   ]
  },
  {
   "cell_type": "code",
   "execution_count": 92,
   "id": "c6dfb313",
   "metadata": {},
   "outputs": [
    {
     "name": "stdout",
     "output_type": "stream",
     "text": [
      "Stack from top:1 \n"
     ]
    }
   ],
   "source": [
    "LS.printStack()"
   ]
  },
  {
   "cell_type": "code",
   "execution_count": 93,
   "id": "0d9b271b",
   "metadata": {},
   "outputs": [
    {
     "data": {
      "text/plain": [
       "1"
      ]
     },
     "execution_count": 93,
     "metadata": {},
     "output_type": "execute_result"
    }
   ],
   "source": [
    "LS.pop()"
   ]
  },
  {
   "cell_type": "code",
   "execution_count": 94,
   "id": "af86ac56",
   "metadata": {},
   "outputs": [
    {
     "data": {
      "text/plain": [
       "True"
      ]
     },
     "execution_count": 94,
     "metadata": {},
     "output_type": "execute_result"
    }
   ],
   "source": [
    "LS.isEmpty()"
   ]
  },
  {
   "cell_type": "code",
   "execution_count": null,
   "id": "b4d06494",
   "metadata": {},
   "outputs": [],
   "source": []
  }
 ],
 "metadata": {
  "kernelspec": {
   "display_name": "Python 3 (ipykernel)",
   "language": "python",
   "name": "python3"
  },
  "language_info": {
   "codemirror_mode": {
    "name": "ipython",
    "version": 3
   },
   "file_extension": ".py",
   "mimetype": "text/x-python",
   "name": "python",
   "nbconvert_exporter": "python",
   "pygments_lexer": "ipython3",
   "version": "3.9.7"
  }
 },
 "nbformat": 4,
 "nbformat_minor": 5
}
