{
 "cells": [
  {
   "cell_type": "code",
   "execution_count": 48,
   "id": "b9cd1c9c",
   "metadata": {},
   "outputs": [],
   "source": [
    "class Heap:\n",
    "    def __init__(self,*args):\n",
    "        if len(args) != 0:\n",
    "            self.__A = args[0] \n",
    "        else:\n",
    "            self.__A = []\n",
    "            \n",
    "    def insert(self, x):\n",
    "        self.__A.append(x)\n",
    "        self.__percolateUp(len(self.__A)-1)\n",
    "        \n",
    "    def __percolateUp(self,i:int):\n",
    "        parent = (i - 1) // 2\n",
    "        if i > 0 and self.__A[i] > self.__A[parent]:\n",
    "            self.__A[i], self.__A[parent] = self.__A[parent], self.__A[i]\n",
    "            self.__percolateUp(parent)\n",
    "            \n",
    "    def deletMax(self):\n",
    "        # heap is in self.__A[0...len(self.__A)-1]\n",
    "        if (not self.isEmpty()):\n",
    "            max = self.__A[0]\n",
    "            self.__A[0] = self.__A.pop()\n",
    "            self.__percolateDown(0)\n",
    "            return max\n",
    "        else:\n",
    "            return None\n",
    "        \n",
    "    def __percolateDown(self, i:int):\n",
    "        # Percolate down w/ self.__A[i] as the root\n",
    "        child = 2 * i + 1 \n",
    "        right = 2 * i + 2\n",
    "        if (child <= len(self.__A)-1):\n",
    "            if(right <= len(self.__A)-1 and self.__A[child] < self.__A[right]):\n",
    "                child = right\n",
    "            if self.__A[i] < self.__A[child]:\n",
    "                self.__A[i], self.__A[child] = self.__A[child], self.__A[i]\n",
    "                self.__percolateDown(child)\n",
    "                \n",
    "    def max(self):\n",
    "        return self.__A[0]\n",
    "    \n",
    "    def buildHeap(self):\n",
    "        for i in range((len(self.__A) - 2) // 2, -1, -1):\n",
    "            self.__percolateDown(i)\n",
    "            \n",
    "    def isEmpty(self) -> bool:\n",
    "        return len(self.__A) == 0\n",
    "    \n",
    "    def clear(self):\n",
    "        self.__A = []\n",
    "        \n",
    "    def size(self) -> int:\n",
    "        return len(self.__A)\n",
    "        "
   ]
  },
  {
   "cell_type": "code",
   "execution_count": 49,
   "id": "0c1b269b",
   "metadata": {},
   "outputs": [],
   "source": [
    "h1 = Heap([1, 11, 9, 2, 3])"
   ]
  },
  {
   "cell_type": "code",
   "execution_count": 50,
   "id": "0631b2d6",
   "metadata": {},
   "outputs": [],
   "source": [
    "h1.buildHeap()"
   ]
  },
  {
   "cell_type": "code",
   "execution_count": 51,
   "id": "fd1baabb",
   "metadata": {},
   "outputs": [],
   "source": [
    "h1.clear()"
   ]
  },
  {
   "cell_type": "code",
   "execution_count": 52,
   "id": "fc63e766",
   "metadata": {},
   "outputs": [],
   "source": [
    "h1.insert(7)"
   ]
  },
  {
   "cell_type": "code",
   "execution_count": 53,
   "id": "00e999b6",
   "metadata": {},
   "outputs": [],
   "source": [
    "h1.insert(5)"
   ]
  },
  {
   "cell_type": "code",
   "execution_count": 54,
   "id": "18308acb",
   "metadata": {},
   "outputs": [],
   "source": [
    "h1.insert(9)"
   ]
  },
  {
   "cell_type": "code",
   "execution_count": 55,
   "id": "d9844f9e",
   "metadata": {},
   "outputs": [],
   "source": [
    "h1.insert(4)"
   ]
  },
  {
   "cell_type": "code",
   "execution_count": 56,
   "id": "590229a0",
   "metadata": {},
   "outputs": [],
   "source": [
    "h1.insert(11)"
   ]
  },
  {
   "cell_type": "code",
   "execution_count": 57,
   "id": "5061bb0a",
   "metadata": {},
   "outputs": [],
   "source": [
    "h1.insert(19)"
   ]
  },
  {
   "cell_type": "code",
   "execution_count": 58,
   "id": "77b29f2f",
   "metadata": {},
   "outputs": [],
   "source": [
    "h1.insert(20)"
   ]
  },
  {
   "cell_type": "code",
   "execution_count": 59,
   "id": "dcfdc72d",
   "metadata": {},
   "outputs": [],
   "source": [
    "h1.insert(21)"
   ]
  },
  {
   "cell_type": "code",
   "execution_count": 60,
   "id": "748aa54e",
   "metadata": {},
   "outputs": [],
   "source": [
    "h1.insert(11)"
   ]
  },
  {
   "cell_type": "code",
   "execution_count": 61,
   "id": "089aa04c",
   "metadata": {},
   "outputs": [
    {
     "data": {
      "text/plain": [
       "21"
      ]
     },
     "execution_count": 61,
     "metadata": {},
     "output_type": "execute_result"
    }
   ],
   "source": [
    "h1.deletMax()"
   ]
  },
  {
   "cell_type": "code",
   "execution_count": null,
   "id": "74e20776",
   "metadata": {},
   "outputs": [],
   "source": []
  },
  {
   "cell_type": "code",
   "execution_count": null,
   "id": "b37ac969",
   "metadata": {},
   "outputs": [],
   "source": []
  },
  {
   "cell_type": "code",
   "execution_count": null,
   "id": "9a4cf1f8",
   "metadata": {},
   "outputs": [],
   "source": []
  },
  {
   "cell_type": "code",
   "execution_count": null,
   "id": "72471223",
   "metadata": {},
   "outputs": [],
   "source": []
  },
  {
   "cell_type": "code",
   "execution_count": null,
   "id": "b96c5df2",
   "metadata": {},
   "outputs": [],
   "source": []
  }
 ],
 "metadata": {
  "kernelspec": {
   "display_name": "Python 3 (ipykernel)",
   "language": "python",
   "name": "python3"
  },
  "language_info": {
   "codemirror_mode": {
    "name": "ipython",
    "version": 3
   },
   "file_extension": ".py",
   "mimetype": "text/x-python",
   "name": "python",
   "nbconvert_exporter": "python",
   "pygments_lexer": "ipython3",
   "version": "3.9.7"
  }
 },
 "nbformat": 4,
 "nbformat_minor": 5
}
