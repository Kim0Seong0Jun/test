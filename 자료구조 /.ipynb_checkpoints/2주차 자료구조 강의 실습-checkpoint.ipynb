{
 "cells": [
  {
   "cell_type": "code",
   "execution_count": 1,
   "id": "2aafcd55",
   "metadata": {},
   "outputs": [],
   "source": [
    "# 수열"
   ]
  },
  {
   "cell_type": "code",
   "execution_count": null,
   "id": "1f1254fe",
   "metadata": {},
   "outputs": [],
   "source": []
  },
  {
   "cell_type": "markdown",
   "id": "0959703b",
   "metadata": {},
   "source": []
  },
  {
   "cell_type": "code",
   "execution_count": 12,
   "id": "8b67796e",
   "metadata": {},
   "outputs": [
    {
     "ename": "SyntaxError",
     "evalue": "cannot assign to comparison (1403143738.py, line 1)",
     "output_type": "error",
     "traceback": [
      "\u001b[0;36m  File \u001b[0;32m\"/var/folders/m5/4y33sbsx3v916xjwgc6_bx1h0000gn/T/ipykernel_1549/1403143738.py\"\u001b[0;36m, line \u001b[0;32m1\u001b[0m\n\u001b[0;31m    n=3 > 1,3,3 => 7\u001b[0m\n\u001b[0m      ^\u001b[0m\n\u001b[0;31mSyntaxError\u001b[0m\u001b[0;31m:\u001b[0m cannot assign to comparison\n"
     ]
    }
   ],
   "source": [
    "n=3 > 1,3,3 => 7\n",
    "n=4 > 1,3,3,3 => 10\n",
    "n=5 > 1,3,3,3,3 => 13\n"
   ]
  },
  {
   "cell_type": "code",
   "execution_count": 9,
   "id": "d9ecc5ab",
   "metadata": {},
   "outputs": [
    {
     "name": "stdout",
     "output_type": "stream",
     "text": [
      "5\n",
      "4\n",
      "3\n",
      "2\n",
      "1\n"
     ]
    },
    {
     "data": {
      "text/plain": [
       "13"
      ]
     },
     "execution_count": 9,
     "metadata": {},
     "output_type": "execute_result"
    }
   ],
   "source": [
    "seq(5)"
   ]
  },
  {
   "cell_type": "code",
   "execution_count": 28,
   "id": "50d36937",
   "metadata": {},
   "outputs": [],
   "source": [
    "def seq2(n):\n",
    "    result = 1\n",
    "    for n in range(1,n):\n",
    "        result += 3  #여기는 3씩 더해준다라는 말임\n",
    "    return result"
   ]
  },
  {
   "cell_type": "code",
   "execution_count": null,
   "id": "3419ee15",
   "metadata": {},
   "outputs": [],
   "source": [
    "# 3 => 1, 3, 3\n",
    "# 4 => 1, 3, 3, 3, 10"
   ]
  },
  {
   "cell_type": "code",
   "execution_count": 30,
   "id": "00629646",
   "metadata": {},
   "outputs": [
    {
     "data": {
      "text/plain": [
       "10"
      ]
     },
     "execution_count": 30,
     "metadata": {},
     "output_type": "execute_result"
    }
   ],
   "source": [
    "seq2(4)"
   ]
  },
  {
   "cell_type": "code",
   "execution_count": null,
   "id": "5bcef094",
   "metadata": {},
   "outputs": [],
   "source": []
  },
  {
   "cell_type": "code",
   "execution_count": null,
   "id": "fd1e2759",
   "metadata": {},
   "outputs": [],
   "source": []
  },
  {
   "cell_type": "code",
   "execution_count": 57,
   "id": "7c3d044c",
   "metadata": {},
   "outputs": [],
   "source": [
    "# 피보나치 -> 앞의 숫자와 더하는 것을 말한다.\n",
    "# F1 = 1\n",
    "# F2 = 2 \n",
    "# F3 = F1+F2 = 1+2 = 3\n",
    "# F4 = F2+F3 = 2+3 = 5\n",
    "# F5 = F3+F4 = 3+5 = 8\n",
    "# F6 = F4+F5 = 5+8 = 13\n",
    "# ... 이런식으로 계속 이어지는 것을 피보나치수열 이라고 한다. \n",
    "# 1, 1, 2, 3, 5, 8 . . . "
   ]
  },
  {
   "cell_type": "code",
   "execution_count": 43,
   "id": "f86457b9",
   "metadata": {},
   "outputs": [],
   "source": [
    "# 이건 재귀를 사용한 것 인가? (else 가 들어가면은 재귀를 사용하는 것) - 재귀함수임\n",
    "def fib(n):\n",
    "    if (n<=2) : return 1\n",
    "    else : return (fib(n-1)+fib(n-2))"
   ]
  },
  {
   "cell_type": "code",
   "execution_count": 53,
   "id": "aa0ccf29",
   "metadata": {},
   "outputs": [
    {
     "data": {
      "text/plain": [
       "34"
      ]
     },
     "execution_count": 53,
     "metadata": {},
     "output_type": "execute_result"
    }
   ],
   "source": [
    "fib(9)"
   ]
  },
  {
   "cell_type": "code",
   "execution_count": null,
   "id": "b7286dec",
   "metadata": {},
   "outputs": [],
   "source": []
  },
  {
   "cell_type": "code",
   "execution_count": 61,
   "id": "abad34d5",
   "metadata": {},
   "outputs": [],
   "source": [
    "# 얘는 재귀를 사용하지 않는 것 인가? - 비재귀함수임\n",
    "def fib2(n):\n",
    "    t = [1]*n\n",
    "    for i in range(2, n):\n",
    "        t[i] = t[i-1] + t[i-2]\n",
    "    return t[-1]"
   ]
  },
  {
   "cell_type": "code",
   "execution_count": 62,
   "id": "41f983f0",
   "metadata": {},
   "outputs": [
    {
     "data": {
      "text/plain": [
       "8"
      ]
     },
     "execution_count": 62,
     "metadata": {},
     "output_type": "execute_result"
    }
   ],
   "source": [
    "fib2(6)"
   ]
  },
  {
   "cell_type": "code",
   "execution_count": null,
   "id": "c35acb9b",
   "metadata": {},
   "outputs": [],
   "source": [
    "# 팩토리얼"
   ]
  },
  {
   "cell_type": "code",
   "execution_count": 63,
   "id": "e21ef70f",
   "metadata": {},
   "outputs": [
    {
     "ename": "SyntaxError",
     "evalue": "invalid syntax (1015698390.py, line 1)",
     "output_type": "error",
     "traceback": [
      "\u001b[0;36m  Input \u001b[0;32mIn [63]\u001b[0;36m\u001b[0m\n\u001b[0;31m    n! => 3! => 3*2*1\u001b[0m\n\u001b[0m     ^\u001b[0m\n\u001b[0;31mSyntaxError\u001b[0m\u001b[0;31m:\u001b[0m invalid syntax\n"
     ]
    }
   ],
   "source": [
    "#n! => 3! => 3*2*1"
   ]
  },
  {
   "cell_type": "code",
   "execution_count": 66,
   "id": "ac011f05",
   "metadata": {},
   "outputs": [],
   "source": [
    "def fact(n):   #비재귀함수로 구현한것임\n",
    "    tmp = 1\n",
    "    for i in range(2, n+1):\n",
    "        print(f\"i:{i}\")\n",
    "        tmp = i * tmp\n",
    "    return tmp"
   ]
  },
  {
   "cell_type": "code",
   "execution_count": 67,
   "id": "9ed400d8",
   "metadata": {},
   "outputs": [
    {
     "name": "stdout",
     "output_type": "stream",
     "text": [
      "i:2\n",
      "i:3\n",
      "i:4\n"
     ]
    },
    {
     "data": {
      "text/plain": [
       "24"
      ]
     },
     "execution_count": 67,
     "metadata": {},
     "output_type": "execute_result"
    }
   ],
   "source": [
    "fact(4)"
   ]
  },
  {
   "cell_type": "code",
   "execution_count": null,
   "id": "2a2971af",
   "metadata": {},
   "outputs": [],
   "source": []
  },
  {
   "cell_type": "code",
   "execution_count": 70,
   "id": "7661a67a",
   "metadata": {},
   "outputs": [],
   "source": [
    "def fact2(n):\n",
    "    if n==0 : return 1 \n",
    "    else : return n*fact2(n-1)"
   ]
  },
  {
   "cell_type": "code",
   "execution_count": 71,
   "id": "e8c7d52a",
   "metadata": {},
   "outputs": [
    {
     "data": {
      "text/plain": [
       "24"
      ]
     },
     "execution_count": 71,
     "metadata": {},
     "output_type": "execute_result"
    }
   ],
   "source": [
    "fact2(4)"
   ]
  },
  {
   "cell_type": "code",
   "execution_count": null,
   "id": "a3bf8316",
   "metadata": {},
   "outputs": [],
   "source": []
  },
  {
   "cell_type": "code",
   "execution_count": null,
   "id": "6b3d7ade",
   "metadata": {},
   "outputs": [],
   "source": [
    "# 선택정렬"
   ]
  },
  {
   "cell_type": "code",
   "execution_count": 81,
   "id": "e51b389c",
   "metadata": {},
   "outputs": [],
   "source": [
    "def selectionSort(A, n):  #비재귀함수를 사용했음\n",
    "    for i in range(n):\n",
    "        max_len = n-i\n",
    "        max_num=0\n",
    "        max_num_index=0\n",
    "        for i in range(max_len):\n",
    "            if A[i] > max_num :\n",
    "                max_num = A[i]\n",
    "                max_num_index = i\n",
    "        \n",
    "        tmp = A[max_len-1]\n",
    "        A[max_len-1] = A[max_num_index]\n",
    "        A[max_num_index] = tmp\n",
    "    return A\n",
    "#        print(n-i)"
   ]
  },
  {
   "cell_type": "code",
   "execution_count": 83,
   "id": "04a9b1f6",
   "metadata": {},
   "outputs": [
    {
     "data": {
      "text/plain": [
       "[23, 32, 44, 65]"
      ]
     },
     "execution_count": 83,
     "metadata": {},
     "output_type": "execute_result"
    }
   ],
   "source": [
    "A = [32, 65, 23, 44]\n",
    "selectionSort(A, 4)"
   ]
  },
  {
   "cell_type": "code",
   "execution_count": 74,
   "id": "63a3b3e5",
   "metadata": {},
   "outputs": [],
   "source": [
    "A = [1,3,4,2]"
   ]
  },
  {
   "cell_type": "code",
   "execution_count": 76,
   "id": "9db88f53",
   "metadata": {},
   "outputs": [
    {
     "data": {
      "text/plain": [
       "4"
      ]
     },
     "execution_count": 76,
     "metadata": {},
     "output_type": "execute_result"
    }
   ],
   "source": [
    "len(A)"
   ]
  },
  {
   "cell_type": "code",
   "execution_count": 77,
   "id": "783cf813",
   "metadata": {},
   "outputs": [
    {
     "name": "stdout",
     "output_type": "stream",
     "text": [
      "4\n",
      "3\n",
      "2\n",
      "1\n"
     ]
    }
   ],
   "source": [
    "selectionSort(A, len(A))"
   ]
  },
  {
   "cell_type": "code",
   "execution_count": null,
   "id": "125e9812",
   "metadata": {},
   "outputs": [],
   "source": []
  },
  {
   "cell_type": "code",
   "execution_count": null,
   "id": "8b59bf7e",
   "metadata": {},
   "outputs": [],
   "source": []
  },
  {
   "cell_type": "code",
   "execution_count": null,
   "id": "79442666",
   "metadata": {},
   "outputs": [],
   "source": []
  },
  {
   "cell_type": "code",
   "execution_count": null,
   "id": "0b126df1",
   "metadata": {},
   "outputs": [],
   "source": [
    "# 내가 혼자 연습해보는거"
   ]
  },
  {
   "cell_type": "code",
   "execution_count": 58,
   "id": "bfce816e",
   "metadata": {},
   "outputs": [
    {
     "name": "stdout",
     "output_type": "stream",
     "text": [
      "1\n",
      "1\n",
      "2\n",
      "3\n",
      "5\n",
      "8\n",
      "13\n",
      "21\n",
      "34\n",
      "55\n",
      "89\n",
      "144\n",
      "233\n",
      "377\n"
     ]
    }
   ],
   "source": [
    "def fibonacci(n):\n",
    "    if n <= 1:\n",
    "        return n\n",
    "    else:\n",
    "        return(fibonacci(n-1) + fibonacci(n-2))\n",
    "    \n",
    "for i in range(1,15):\n",
    "    print(fibonacci(i))"
   ]
  },
  {
   "cell_type": "code",
   "execution_count": null,
   "id": "add897b3",
   "metadata": {},
   "outputs": [],
   "source": [
    "# 자료구조를 파이썬으로 어떻게 사용하길래 이런걸 알려주는거지?? \n",
    "# 자료구조에서 어떤식으로 파이썬을 저런 명령어를 사용하는지 궁금하네\n"
   ]
  },
  {
   "cell_type": "code",
   "execution_count": null,
   "id": "efcd1e31",
   "metadata": {},
   "outputs": [],
   "source": []
  },
  {
   "cell_type": "code",
   "execution_count": null,
   "id": "6f72b6ae",
   "metadata": {},
   "outputs": [],
   "source": []
  },
  {
   "cell_type": "code",
   "execution_count": null,
   "id": "fd3cd849",
   "metadata": {},
   "outputs": [],
   "source": []
  },
  {
   "cell_type": "code",
   "execution_count": 6,
   "id": "15a75394",
   "metadata": {},
   "outputs": [
    {
     "ename": "SyntaxError",
     "evalue": "invalid syntax (1849424223.py, line 2)",
     "output_type": "error",
     "traceback": [
      "\u001b[0;36m  File \u001b[0;32m\"/var/folders/m5/4y33sbsx3v916xjwgc6_bx1h0000gn/T/ipykernel_1549/1849424223.py\"\u001b[0;36m, line \u001b[0;32m2\u001b[0m\n\u001b[0;31m    if (n = 1 or n = 2)\u001b[0m\n\u001b[0m          ^\u001b[0m\n\u001b[0;31mSyntaxError\u001b[0m\u001b[0;31m:\u001b[0m invalid syntax\n"
     ]
    }
   ],
   "source": [
    "def fib(n):\n",
    "    if (n = 1 or n = 2)\n",
    "        return 1 \n",
    "    else\n",
    "        return fib(n-1) + fib(n-2)"
   ]
  },
  {
   "cell_type": "code",
   "execution_count": null,
   "id": "f1c2256f",
   "metadata": {},
   "outputs": [],
   "source": []
  }
 ],
 "metadata": {
  "kernelspec": {
   "display_name": "Python 3 (ipykernel)",
   "language": "python",
   "name": "python3"
  },
  "language_info": {
   "codemirror_mode": {
    "name": "ipython",
    "version": 3
   },
   "file_extension": ".py",
   "mimetype": "text/x-python",
   "name": "python",
   "nbconvert_exporter": "python",
   "pygments_lexer": "ipython3",
   "version": "3.9.7"
  }
 },
 "nbformat": 4,
 "nbformat_minor": 5
}
