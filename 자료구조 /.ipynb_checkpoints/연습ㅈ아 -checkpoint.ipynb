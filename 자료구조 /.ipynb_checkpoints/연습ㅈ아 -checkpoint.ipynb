{
 "cells": [
  {
   "cell_type": "code",
   "execution_count": null,
   "id": "a88ff270",
   "metadata": {},
   "outputs": [],
   "source": []
  },
  {
   "cell_type": "code",
   "execution_count": 40,
   "id": "b59f63a5",
   "metadata": {},
   "outputs": [
    {
     "name": "stdout",
     "output_type": "stream",
     "text": [
      "소환사명을 입력하세요:엄마마\n",
      "소환사 정보가 없습니다.\n"
     ]
    }
   ],
   "source": [
    "import requests \n",
    "from bs4 import BeautifulSoup \n",
    "Name = input(\"소환사명을 입력하세요: \") \n",
    "SummonerName = \"\" \n",
    "Ranking = \"\" \n",
    "TierUnranked = \"\" \n",
    "LeagueType = [] \n",
    "Tier = [] \n",
    "LP = [] \n",
    "Wins = [] \n",
    "Losses = [] \n",
    "Ratio = []\n",
    "\n",
    "url='https://www.op.gg/summoner/userName=' + Name \n",
    "hdr = {'Accept-Language': 'ko_KR,en;q=0.8', 'User-Agent': ('Mozilla/5.0 (Linux; Android 6.0; Nexus 5 Build/MRA58N) AppleWebKit/537.36 (KHTML, like Gecko) Chrome/78.0.3904.70 Mobile Safari/537.36')} \n",
    "req = requests.get(url, headers=hdr) \n",
    "html = req.text \n",
    "soup = BeautifulSoup(html, 'html.parser')\n",
    "\n",
    "# 소환사 이름 크롤링 \n",
    "for i in soup.select('div[class=SummonerName]'): \n",
    "    SummonerName = i.text\n",
    "\n",
    "# 랭킹 크롤링 \n",
    "for i in soup.select('span[class=ranking]'): \n",
    "    Ranking = i.text \n",
    "    \n",
    "# 언랭 판별용 티어 크롤링 \n",
    "TierUnranked = soup.select('div.Cell') \n",
    "\n",
    "# 리그 타입 크롤링 \n",
    "for i in soup.select('div[class=LeagueType]'): \n",
    "    LeagueType.append(i.text) \n",
    "    \n",
    "# 티어 크롤링 \n",
    "for i in soup.select('div[class=Tier]'): \n",
    "    Tier.append(i.text) \n",
    "    \n",
    "# 리그 포인트 크롤링 \n",
    "for i in soup.select('div[class=LP]'): \n",
    "    LP.append(i.text) \n",
    "\n",
    "# 승리 패배 판수 크롤링 \n",
    "for i in soup.select('span[class=Wins]'): \n",
    "    Wins.append(i.text) \n",
    "for i in soup.select('span[class=Losses]'): \n",
    "    Losses.append(i.text) \n",
    "    \n",
    "# 승률 크롤링 \n",
    "for i in soup.select('span[class=Ratio]'):\n",
    "    Ratio.append(i.text)\n",
    "\n",
    "if SummonerName != \"\": \n",
    "    check = input(SummonerName + \"님의 솔로랭크 정보가 궁금하시면 '솔랭'을, 자유랭크 정보가 궁금하시면 '자랭'을 입력해주세요: \") \n",
    "    if check == '솔랭': \n",
    "        if 'Unranked' in str(TierUnranked[0]): \n",
    "            print(\"==================================\") \n",
    "            print(SummonerName + \"님은 솔로랭크 Unranked입니다.\") \n",
    "            print(\"==================================\") \n",
    "        else: \n",
    "            print(\"==================================\") \n",
    "            print(SummonerName + \"님의 솔로랭크 정보입니다.\") \n",
    "            print(\"==================================\") \n",
    "            print(\"티어: \" + Tier[0].strip('\\n\\t')) \n",
    "            print(\"LP: \" + LP[0]) \n",
    "            print(\"승/패: \" + Wins[0] + \" \" + Losses[0]) \n",
    "            print(\"승률: \" + Ratio[0]) \n",
    "            \n",
    "    elif check == '자랭': \n",
    "        if 'Unranked' in str(TierUnranked[1]): \n",
    "            print(\"==================================\") \n",
    "            print(SummonerName + \"님은 자유랭크 Unranked입니다.\") \n",
    "            print(\"==================================\") \n",
    "        else: \n",
    "            print(\"=====================================\") \n",
    "            print(SummonerName + \"님의 자유랭크 정보입니다.\") \n",
    "            print(\"=====================================\") \n",
    "            print(\"티어: \" + Tier[1].strip('\\n\\t')) \n",
    "            print(\"LP: \" + LP[1]) \n",
    "            print(\"승/패: \" + Wins[1] + \" \" + Losses[1]) \n",
    "            print(\"승률: \" + Ratio[1]) \n",
    "                \n",
    "    else: print(\"Error! 정확하게 입력해주세요.\") \n",
    "            \n",
    "else:\n",
    "    print(\"소환사 정보가 없습니다.\")\n",
    "\n",
    "    "
   ]
  },
  {
   "cell_type": "code",
   "execution_count": 29,
   "id": "0f5863b9",
   "metadata": {},
   "outputs": [],
   "source": [
    "url='https://www.op.gg/summoner/userName=' + Name \n",
    "hdr = {'Accept-Language': 'ko_KR,en;q=0.8', 'User-Agent': ('Mozilla/5.0 (Linux; Android 6.0; Nexus 5 Build/MRA58N) AppleWebKit/537.36 (KHTML, like Gecko) Chrome/78.0.3904.70 Mobile Safari/537.36')} \n",
    "req = requests.get(url, headers=hdr) \n",
    "html = req.text \n",
    "soup = BeautifulSoup(html, 'html.parser')\n",
    "\n"
   ]
  },
  {
   "cell_type": "code",
   "execution_count": 30,
   "id": "b8394fa3",
   "metadata": {},
   "outputs": [],
   "source": [
    "# 소환사 이름 크롤링 \n",
    "for i in soup.select('div[class=SummonerName]'): \n",
    "    SummonerName = i.text\n"
   ]
  },
  {
   "cell_type": "code",
   "execution_count": 35,
   "id": "71984a74",
   "metadata": {},
   "outputs": [
    {
     "name": "stdout",
     "output_type": "stream",
     "text": [
      "소환사 정보가 없습니다.\n"
     ]
    }
   ],
   "source": [
    "if SummonerName != \"\": \n",
    "    check = input(SummonerName + \"님의 솔로랭크 정보가 궁금하시면 '솔랭'을, 자유랭크 정보가 궁금하시면 '자랭'을 입력해주세요: \") \n",
    "    if check == '솔랭': \n",
    "        if 'Unranked' in str(TierUnranked[0]): \n",
    "            print(\"==================================\") \n",
    "            print(SummonerName + \"님은 솔로랭크 Unranked입니다.\") \n",
    "            print(\"==================================\") \n",
    "        else: \n",
    "            print(\"==================================\") \n",
    "            print(SummonerName + \"님의 솔로랭크 정보입니다.\") \n",
    "            print(\"==================================\") \n",
    "            print(\"티어: \" + Tier[0].strip('\\n\\t')) \n",
    "            print(\"LP: \" + LP[0]) \n",
    "            print(\"승/패: \" + Wins[0] + \" \" + Losses[0]) \n",
    "            print(\"승률: \" + Ratio[0]) \n",
    "            \n",
    "    elif check == '자랭': \n",
    "        if 'Unranked' in str(TierUnranked[1]): \n",
    "            print(\"==================================\") \n",
    "            print(SummonerName + \"님은 자유랭크 Unranked입니다.\") \n",
    "            print(\"==================================\") \n",
    "        else: \n",
    "            print(\"=====================================\") \n",
    "            print(SummonerName + \"님의 자유랭크 정보입니다.\") \n",
    "            print(\"=====================================\") \n",
    "            print(\"티어: \" + Tier[1].strip('\\n\\t')) \n",
    "            print(\"LP: \" + LP[1]) \n",
    "            print(\"승/패: \" + Wins[1] + \" \" + Losses[1]) \n",
    "            print(\"승률: \" + Ratio[1]) \n",
    "                \n",
    "    else: print(\"Error! 정확하게 입력해주세요.\") \n",
    "            \n",
    "else:\n",
    "    print(\"소환사 정보가 없습니다.\")\n",
    "\n"
   ]
  },
  {
   "cell_type": "code",
   "execution_count": null,
   "id": "67916961",
   "metadata": {},
   "outputs": [],
   "source": []
  },
  {
   "cell_type": "code",
   "execution_count": null,
   "id": "64c4ef3a",
   "metadata": {},
   "outputs": [],
   "source": []
  },
  {
   "cell_type": "code",
   "execution_count": null,
   "id": "80c55de0",
   "metadata": {},
   "outputs": [],
   "source": []
  },
  {
   "cell_type": "code",
   "execution_count": null,
   "id": "87d07980",
   "metadata": {},
   "outputs": [],
   "source": []
  },
  {
   "cell_type": "code",
   "execution_count": null,
   "id": "cd6e68f2",
   "metadata": {},
   "outputs": [],
   "source": []
  }
 ],
 "metadata": {
  "kernelspec": {
   "display_name": "Python 3 (ipykernel)",
   "language": "python",
   "name": "python3"
  },
  "language_info": {
   "codemirror_mode": {
    "name": "ipython",
    "version": 3
   },
   "file_extension": ".py",
   "mimetype": "text/x-python",
   "name": "python",
   "nbconvert_exporter": "python",
   "pygments_lexer": "ipython3",
   "version": "3.9.7"
  }
 },
 "nbformat": 4,
 "nbformat_minor": 5
}
