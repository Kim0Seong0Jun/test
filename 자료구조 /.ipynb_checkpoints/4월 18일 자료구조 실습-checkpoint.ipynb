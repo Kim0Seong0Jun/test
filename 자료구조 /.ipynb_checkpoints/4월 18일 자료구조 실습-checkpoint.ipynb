{
 "cells": [
  {
   "cell_type": "markdown",
   "id": "040d5833",
   "metadata": {},
   "source": [
    "# ListQueue"
   ]
  },
  {
   "cell_type": "code",
   "execution_count": null,
   "id": "b44fac45",
   "metadata": {},
   "outputs": [],
   "source": []
  },
  {
   "cell_type": "code",
   "execution_count": 8,
   "id": "73facc94",
   "metadata": {},
   "outputs": [],
   "source": [
    "class ListQueue:\n",
    "    def __init__(self):\n",
    "        self.__queue = []\n",
    "    \n",
    "    def enqueue(self, x):\n",
    "        self.__queue.append(x)\n",
    "        \n",
    "    def dequeue(self):\n",
    "        return self.__queue.pop(0)\n",
    "        \n",
    "    def front(self):\n",
    "        if self.isEmpty():\n",
    "            return None\n",
    "        else:\n",
    "            return self.__queue[0]\n",
    "        \n",
    "    def isEmpty(self):\n",
    "        return (len(self.__queue) == 0) \n",
    "    \n",
    "    def dequeueAll(self):\n",
    "        self.__queue.clear()\n",
    "        \n",
    "    def printQueue(self):\n",
    "        for i in range(len(self.__queue)):\n",
    "            print(self.__queue[i])"
   ]
  },
  {
   "cell_type": "code",
   "execution_count": 9,
   "id": "ccad09e7",
   "metadata": {},
   "outputs": [],
   "source": [
    "LQ = ListQueue()"
   ]
  },
  {
   "cell_type": "code",
   "execution_count": 10,
   "id": "c44671c9",
   "metadata": {},
   "outputs": [],
   "source": [
    "LQ.enqueue(5)\n",
    "LQ.enqueue(6)\n",
    "LQ.enqueue(7)\n"
   ]
  },
  {
   "cell_type": "code",
   "execution_count": 11,
   "id": "a655d35f",
   "metadata": {},
   "outputs": [
    {
     "name": "stdout",
     "output_type": "stream",
     "text": [
      "5\n",
      "6\n",
      "7\n"
     ]
    }
   ],
   "source": [
    "LQ.printQueue()"
   ]
  },
  {
   "cell_type": "code",
   "execution_count": 11,
   "id": "4ca8c2a6",
   "metadata": {},
   "outputs": [
    {
     "data": {
      "text/plain": [
       "5"
      ]
     },
     "execution_count": 11,
     "metadata": {},
     "output_type": "execute_result"
    }
   ],
   "source": [
    "LQ.front()"
   ]
  },
  {
   "cell_type": "code",
   "execution_count": 23,
   "id": "c3db04ae",
   "metadata": {},
   "outputs": [
    {
     "data": {
      "text/plain": [
       "7"
      ]
     },
     "execution_count": 23,
     "metadata": {},
     "output_type": "execute_result"
    }
   ],
   "source": [
    "LQ.dequeue()"
   ]
  },
  {
   "cell_type": "code",
   "execution_count": 18,
   "id": "d2475e38",
   "metadata": {},
   "outputs": [
    {
     "name": "stdout",
     "output_type": "stream",
     "text": [
      "6\n",
      "7\n"
     ]
    }
   ],
   "source": [
    "LQ.printQueue()"
   ]
  },
  {
   "cell_type": "code",
   "execution_count": 21,
   "id": "df7d3253",
   "metadata": {},
   "outputs": [
    {
     "name": "stdout",
     "output_type": "stream",
     "text": [
      "7\n"
     ]
    }
   ],
   "source": [
    "LQ.printQueue()"
   ]
  },
  {
   "cell_type": "code",
   "execution_count": null,
   "id": "e84a8391",
   "metadata": {},
   "outputs": [],
   "source": []
  },
  {
   "cell_type": "code",
   "execution_count": 24,
   "id": "a891f230",
   "metadata": {},
   "outputs": [
    {
     "data": {
      "text/plain": [
       "True"
      ]
     },
     "execution_count": 24,
     "metadata": {},
     "output_type": "execute_result"
    }
   ],
   "source": [
    "LQ.isEmpty()"
   ]
  },
  {
   "cell_type": "code",
   "execution_count": null,
   "id": "55125bcd",
   "metadata": {},
   "outputs": [],
   "source": []
  },
  {
   "cell_type": "markdown",
   "id": "15fdcd97",
   "metadata": {},
   "source": [
    "# LiskedQueue"
   ]
  },
  {
   "cell_type": "code",
   "execution_count": null,
   "id": "0a843f9b",
   "metadata": {},
   "outputs": [],
   "source": []
  },
  {
   "cell_type": "code",
   "execution_count": null,
   "id": "a2341a79",
   "metadata": {},
   "outputs": [],
   "source": [
    "class LinkedQueue:\n",
    "    def __init__(self):\n",
    "        self.__queue = CircularLinkedList()"
   ]
  },
  {
   "cell_type": "code",
   "execution_count": 47,
   "id": "f5ea26b1",
   "metadata": {},
   "outputs": [],
   "source": [
    "class LinkedQueue:\n",
    "    def __init__(self):\n",
    "        self.__queue = CircularLinkedList()\n",
    "        \n",
    "    def enqueue(self, x):\n",
    "        self.__queue.append(x)\n",
    "        \n",
    "    def dequeue(self):\n",
    "        return self.__queue.pop(0)\n",
    "    \n",
    "    def front(self):\n",
    "        return self.__queue.get(0)\n",
    "    \n",
    "    def isEmpty(self):\n",
    "        return (self.__queue.isEmpty())\n",
    "    \n",
    "    def dequeueAll(self):\n",
    "        self.__queue.clear()\n",
    "        \n",
    "    def printQueue(self):\n",
    "        for i in range(self.__queue.size()):\n",
    "            print(self.__queue.get(i))"
   ]
  },
  {
   "cell_type": "code",
   "execution_count": null,
   "id": "6d1e8841",
   "metadata": {},
   "outputs": [],
   "source": []
  },
  {
   "cell_type": "code",
   "execution_count": 48,
   "id": "681239a6",
   "metadata": {},
   "outputs": [
    {
     "ename": "NameError",
     "evalue": "name 'CircularLinkedList' is not defined",
     "output_type": "error",
     "traceback": [
      "\u001b[0;31m---------------------------------------------------------------------------\u001b[0m",
      "\u001b[0;31mNameError\u001b[0m                                 Traceback (most recent call last)",
      "\u001b[0;32m/var/folders/gt/jp16p_mn5flfb8_tljvkcw0r0000gn/T/ipykernel_1945/3000046041.py\u001b[0m in \u001b[0;36m<module>\u001b[0;34m\u001b[0m\n\u001b[0;32m----> 1\u001b[0;31m \u001b[0mLQ\u001b[0m \u001b[0;34m=\u001b[0m \u001b[0mLinkedQueue\u001b[0m\u001b[0;34m(\u001b[0m\u001b[0;34m)\u001b[0m\u001b[0;34m\u001b[0m\u001b[0;34m\u001b[0m\u001b[0m\n\u001b[0m",
      "\u001b[0;32m/var/folders/gt/jp16p_mn5flfb8_tljvkcw0r0000gn/T/ipykernel_1945/3433425636.py\u001b[0m in \u001b[0;36m__init__\u001b[0;34m(self)\u001b[0m\n\u001b[1;32m      1\u001b[0m \u001b[0;32mclass\u001b[0m \u001b[0mLinkedQueue\u001b[0m\u001b[0;34m:\u001b[0m\u001b[0;34m\u001b[0m\u001b[0;34m\u001b[0m\u001b[0m\n\u001b[1;32m      2\u001b[0m     \u001b[0;32mdef\u001b[0m \u001b[0m__init__\u001b[0m\u001b[0;34m(\u001b[0m\u001b[0mself\u001b[0m\u001b[0;34m)\u001b[0m\u001b[0;34m:\u001b[0m\u001b[0;34m\u001b[0m\u001b[0;34m\u001b[0m\u001b[0m\n\u001b[0;32m----> 3\u001b[0;31m         \u001b[0mself\u001b[0m\u001b[0;34m.\u001b[0m\u001b[0m__queue\u001b[0m \u001b[0;34m=\u001b[0m \u001b[0mCircularLinkedList\u001b[0m\u001b[0;34m(\u001b[0m\u001b[0;34m)\u001b[0m\u001b[0;34m\u001b[0m\u001b[0;34m\u001b[0m\u001b[0m\n\u001b[0m\u001b[1;32m      4\u001b[0m \u001b[0;34m\u001b[0m\u001b[0m\n\u001b[1;32m      5\u001b[0m     \u001b[0;32mdef\u001b[0m \u001b[0menqueue\u001b[0m\u001b[0;34m(\u001b[0m\u001b[0mself\u001b[0m\u001b[0;34m,\u001b[0m \u001b[0mx\u001b[0m\u001b[0;34m)\u001b[0m\u001b[0;34m:\u001b[0m\u001b[0;34m\u001b[0m\u001b[0;34m\u001b[0m\u001b[0m\n",
      "\u001b[0;31mNameError\u001b[0m: name 'CircularLinkedList' is not defined"
     ]
    }
   ],
   "source": [
    "LQ = LinkedQueue()"
   ]
  },
  {
   "cell_type": "code",
   "execution_count": null,
   "id": "f7dd8fd2",
   "metadata": {},
   "outputs": [],
   "source": []
  },
  {
   "cell_type": "code",
   "execution_count": 7,
   "id": "a5261c94",
   "metadata": {},
   "outputs": [],
   "source": []
  },
  {
   "cell_type": "code",
   "execution_count": null,
   "id": "1a5c78da",
   "metadata": {},
   "outputs": [],
   "source": []
  },
  {
   "cell_type": "code",
   "execution_count": 5,
   "id": "ac1ded81",
   "metadata": {},
   "outputs": [
    {
     "ename": "ModuleNotFoundError",
     "evalue": "No module named 'DS'",
     "output_type": "error",
     "traceback": [
      "\u001b[0;31m---------------------------------------------------------------------------\u001b[0m",
      "\u001b[0;31mModuleNotFoundError\u001b[0m                       Traceback (most recent call last)",
      "\u001b[0;32m/var/folders/gt/jp16p_mn5flfb8_tljvkcw0r0000gn/T/ipykernel_10623/3150009901.py\u001b[0m in \u001b[0;36m<module>\u001b[0;34m\u001b[0m\n\u001b[1;32m      1\u001b[0m \u001b[0;31m# linkedQueue\u001b[0m\u001b[0;34m\u001b[0m\u001b[0;34m\u001b[0m\u001b[0m\n\u001b[0;32m----> 2\u001b[0;31m \u001b[0;32mfrom\u001b[0m \u001b[0mDS\u001b[0m\u001b[0;34m.\u001b[0m\u001b[0mlist\u001b[0m\u001b[0;34m.\u001b[0m\u001b[0mcircularLinkedList\u001b[0m \u001b[0;32mimport\u001b[0m \u001b[0mCircularLinkedList\u001b[0m\u001b[0;34m\u001b[0m\u001b[0;34m\u001b[0m\u001b[0m\n\u001b[0m",
      "\u001b[0;31mModuleNotFoundError\u001b[0m: No module named 'DS'"
     ]
    }
   ],
   "source": [
    "# linkedQueue\n",
    "from DS.list.circularLinkedList import CircularLinkedList"
   ]
  },
  {
   "cell_type": "code",
   "execution_count": 2,
   "id": "9d0888c7",
   "metadata": {},
   "outputs": [],
   "source": [
    "class LinkedQueue:\n",
    "    def __init__(self):\n",
    "        self.__queue = CircularLinkedList()\n",
    "        \n",
    "        def enqueue(self, x):\n",
    "            self.__queue.append(x)\n",
    "            \n",
    "        def dequeue(self):\n",
    "            return self.__queue.pop(0)\n",
    "        \n",
    "        def front(self):\n",
    "            return self.__queue.get(0)\n",
    "        \n",
    "        def isEmpty(self) -> bool:\n",
    "            return self.__queue.isEmpty()\n",
    "        \n",
    "        def dequeueAll(self):\n",
    "            self.__queue.clear()\n",
    "            \n",
    "        def printQueue(self):\n",
    "            print(\"Queue from front:\", end = ' ')\n",
    "            for i in range(self.__queue.size()):\n",
    "                print(self.__queue.get(i), end = ' ')\n",
    "            print()"
   ]
  },
  {
   "cell_type": "code",
   "execution_count": 3,
   "id": "91147082",
   "metadata": {},
   "outputs": [
    {
     "ename": "NameError",
     "evalue": "name 'CircularLinkedList' is not defined",
     "output_type": "error",
     "traceback": [
      "\u001b[0;31m---------------------------------------------------------------------------\u001b[0m",
      "\u001b[0;31mNameError\u001b[0m                                 Traceback (most recent call last)",
      "\u001b[0;32m/var/folders/gt/jp16p_mn5flfb8_tljvkcw0r0000gn/T/ipykernel_10623/2676524611.py\u001b[0m in \u001b[0;36m<module>\u001b[0;34m\u001b[0m\n\u001b[0;32m----> 1\u001b[0;31m \u001b[0mq1\u001b[0m \u001b[0;34m=\u001b[0m \u001b[0mLinkedQueue\u001b[0m\u001b[0;34m(\u001b[0m\u001b[0;34m)\u001b[0m\u001b[0;34m\u001b[0m\u001b[0;34m\u001b[0m\u001b[0m\n\u001b[0m\u001b[1;32m      2\u001b[0m \u001b[0mq1\u001b[0m\u001b[0;34m.\u001b[0m\u001b[0menqueue\u001b[0m\u001b[0;34m(\u001b[0m\u001b[0;34m\"Mon\"\u001b[0m\u001b[0;34m)\u001b[0m\u001b[0;34m\u001b[0m\u001b[0;34m\u001b[0m\u001b[0m\n",
      "\u001b[0;32m/var/folders/gt/jp16p_mn5flfb8_tljvkcw0r0000gn/T/ipykernel_10623/2243920758.py\u001b[0m in \u001b[0;36m__init__\u001b[0;34m(self)\u001b[0m\n\u001b[1;32m      1\u001b[0m \u001b[0;32mclass\u001b[0m \u001b[0mLinkedQueue\u001b[0m\u001b[0;34m:\u001b[0m\u001b[0;34m\u001b[0m\u001b[0;34m\u001b[0m\u001b[0m\n\u001b[1;32m      2\u001b[0m     \u001b[0;32mdef\u001b[0m \u001b[0m__init__\u001b[0m\u001b[0;34m(\u001b[0m\u001b[0mself\u001b[0m\u001b[0;34m)\u001b[0m\u001b[0;34m:\u001b[0m\u001b[0;34m\u001b[0m\u001b[0;34m\u001b[0m\u001b[0m\n\u001b[0;32m----> 3\u001b[0;31m         \u001b[0mself\u001b[0m\u001b[0;34m.\u001b[0m\u001b[0m__queue\u001b[0m \u001b[0;34m=\u001b[0m \u001b[0mCircularLinkedList\u001b[0m\u001b[0;34m(\u001b[0m\u001b[0;34m)\u001b[0m\u001b[0;34m\u001b[0m\u001b[0;34m\u001b[0m\u001b[0m\n\u001b[0m\u001b[1;32m      4\u001b[0m \u001b[0;34m\u001b[0m\u001b[0m\n\u001b[1;32m      5\u001b[0m         \u001b[0;32mdef\u001b[0m \u001b[0menqueue\u001b[0m\u001b[0;34m(\u001b[0m\u001b[0mself\u001b[0m\u001b[0;34m,\u001b[0m \u001b[0mx\u001b[0m\u001b[0;34m)\u001b[0m\u001b[0;34m:\u001b[0m\u001b[0;34m\u001b[0m\u001b[0;34m\u001b[0m\u001b[0m\n",
      "\u001b[0;31mNameError\u001b[0m: name 'CircularLinkedList' is not defined"
     ]
    }
   ],
   "source": [
    "q1 = LinkedQueue()\n",
    "q1.enqueue(\"Mon\")"
   ]
  },
  {
   "cell_type": "code",
   "execution_count": null,
   "id": "f1452c68",
   "metadata": {},
   "outputs": [],
   "source": []
  },
  {
   "cell_type": "code",
   "execution_count": null,
   "id": "031bbe85",
   "metadata": {},
   "outputs": [],
   "source": []
  },
  {
   "cell_type": "code",
   "execution_count": null,
   "id": "a8fd27f3",
   "metadata": {},
   "outputs": [],
   "source": []
  }
 ],
 "metadata": {
  "kernelspec": {
   "display_name": "Python 3 (ipykernel)",
   "language": "python",
   "name": "python3"
  },
  "language_info": {
   "codemirror_mode": {
    "name": "ipython",
    "version": 3
   },
   "file_extension": ".py",
   "mimetype": "text/x-python",
   "name": "python",
   "nbconvert_exporter": "python",
   "pygments_lexer": "ipython3",
   "version": "3.9.7"
  }
 },
 "nbformat": 4,
 "nbformat_minor": 5
}
