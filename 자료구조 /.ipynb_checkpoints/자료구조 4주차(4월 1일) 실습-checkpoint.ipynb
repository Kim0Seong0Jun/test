{
 "cells": [
  {
   "cell_type": "code",
   "execution_count": null,
   "id": "b5a7722d",
   "metadata": {},
   "outputs": [],
   "source": [
    "# 파이썬 리스트 실습"
   ]
  },
  {
   "cell_type": "code",
   "execution_count": 4,
   "id": "2a44135f",
   "metadata": {},
   "outputs": [],
   "source": [
    "from IPython.core.interactiveshell import InteractiveShell\n",
    "InteractiveShell.ast_node_interactivity='all'"
   ]
  },
  {
   "cell_type": "code",
   "execution_count": 8,
   "id": "ddf7ec75",
   "metadata": {},
   "outputs": [
    {
     "data": {
      "text/plain": [
       "[1, 2, 3, 4, 5]"
      ]
     },
     "execution_count": 8,
     "metadata": {},
     "output_type": "execute_result"
    },
    {
     "data": {
      "text/plain": [
       "1"
      ]
     },
     "execution_count": 8,
     "metadata": {},
     "output_type": "execute_result"
    },
    {
     "data": {
      "text/plain": [
       "[1, 7, 2, 3, 4, 5]"
      ]
     },
     "execution_count": 8,
     "metadata": {},
     "output_type": "execute_result"
    }
   ],
   "source": [
    "a = [1,2,3,4,5]\n",
    "a\n",
    "a.count(2) # a안의 2의 숫자는 몇번째에 있냐 말 임 - count - \n",
    "a.insert(1, 7) # a의 1번째에 7을 넣어라 이말임 -insert-\n",
    "a"
   ]
  },
  {
   "cell_type": "code",
   "execution_count": 9,
   "id": "08968460",
   "metadata": {},
   "outputs": [
    {
     "data": {
      "text/plain": [
       "7"
      ]
     },
     "execution_count": 9,
     "metadata": {},
     "output_type": "execute_result"
    }
   ],
   "source": [
    "a[1]"
   ]
  },
  {
   "cell_type": "code",
   "execution_count": 10,
   "id": "532aad83",
   "metadata": {},
   "outputs": [],
   "source": [
    "a.sort() # a안의 원소들을 정리를 해주는것 이다. "
   ]
  },
  {
   "cell_type": "code",
   "execution_count": 11,
   "id": "8e36ba7d",
   "metadata": {},
   "outputs": [
    {
     "data": {
      "text/plain": [
       "[1, 2, 3, 4, 5, 7]"
      ]
     },
     "execution_count": 11,
     "metadata": {},
     "output_type": "execute_result"
    }
   ],
   "source": [
    "a"
   ]
  },
  {
   "cell_type": "code",
   "execution_count": 16,
   "id": "2593c7d1",
   "metadata": {},
   "outputs": [
    {
     "data": {
      "text/plain": [
       "[7, 5, 4, 3, 2, 1]"
      ]
     },
     "execution_count": 16,
     "metadata": {},
     "output_type": "execute_result"
    }
   ],
   "source": [
    "a.reverse() # a안의 원소들을 뒤집어서 보여준다는 말 임 - reverse - \n",
    "a"
   ]
  },
  {
   "cell_type": "code",
   "execution_count": null,
   "id": "fb6848f9",
   "metadata": {},
   "outputs": [],
   "source": []
  },
  {
   "cell_type": "code",
   "execution_count": 19,
   "id": "379073b9",
   "metadata": {},
   "outputs": [
    {
     "data": {
      "text/plain": [
       "4"
      ]
     },
     "execution_count": 19,
     "metadata": {},
     "output_type": "execute_result"
    },
    {
     "data": {
      "text/plain": [
       "[7, 3, 2, 1]"
      ]
     },
     "execution_count": 19,
     "metadata": {},
     "output_type": "execute_result"
    }
   ],
   "source": [
    "a.pop(1) # a의 1번째 원소를 삭제한다 라는 말 임 - pop -\n",
    "a"
   ]
  },
  {
   "cell_type": "code",
   "execution_count": 20,
   "id": "21140128",
   "metadata": {},
   "outputs": [],
   "source": [
    "a.insert(1, 4) # 이건 내가 실수로 삭제해서 다시 넣은건데 1번째 자리에 4를 집어넣는다 라는 말임 "
   ]
  },
  {
   "cell_type": "code",
   "execution_count": 21,
   "id": "67cdb5cb",
   "metadata": {},
   "outputs": [
    {
     "data": {
      "text/plain": [
       "[7, 4, 3, 2, 1]"
      ]
     },
     "execution_count": 21,
     "metadata": {},
     "output_type": "execute_result"
    }
   ],
   "source": [
    "a"
   ]
  },
  {
   "cell_type": "code",
   "execution_count": 22,
   "id": "caf1c2a2",
   "metadata": {},
   "outputs": [],
   "source": [
    "value = a.pop(1) # 따로 그 원소만 빼서 둔다 라는 말임 "
   ]
  },
  {
   "cell_type": "code",
   "execution_count": 23,
   "id": "f7353b93",
   "metadata": {},
   "outputs": [
    {
     "data": {
      "text/plain": [
       "4"
      ]
     },
     "execution_count": 23,
     "metadata": {},
     "output_type": "execute_result"
    }
   ],
   "source": [
    "value"
   ]
  },
  {
   "cell_type": "code",
   "execution_count": 24,
   "id": "3ac656c4",
   "metadata": {},
   "outputs": [
    {
     "data": {
      "text/plain": [
       "[7, 3, 2, 1]"
      ]
     },
     "execution_count": 24,
     "metadata": {},
     "output_type": "execute_result"
    }
   ],
   "source": [
    "a"
   ]
  },
  {
   "cell_type": "code",
   "execution_count": 26,
   "id": "26a555c5",
   "metadata": {},
   "outputs": [
    {
     "data": {
      "text/plain": [
       "1"
      ]
     },
     "execution_count": 26,
     "metadata": {},
     "output_type": "execute_result"
    }
   ],
   "source": [
    "a.count(2) # 괄호 안의 원소가 몇개가 있는지 말해주는 것임 - count -"
   ]
  },
  {
   "cell_type": "code",
   "execution_count": 27,
   "id": "c4a85ec7",
   "metadata": {},
   "outputs": [
    {
     "data": {
      "text/plain": [
       "1"
      ]
     },
     "execution_count": 27,
     "metadata": {},
     "output_type": "execute_result"
    }
   ],
   "source": [
    "a.index(3) # 3이라는 원소가 몇번째 자리에 있는지 알려주는 것이다. "
   ]
  },
  {
   "cell_type": "code",
   "execution_count": null,
   "id": "709fd2d0",
   "metadata": {},
   "outputs": [],
   "source": []
  },
  {
   "cell_type": "code",
   "execution_count": null,
   "id": "ed9e4b4a",
   "metadata": {},
   "outputs": [],
   "source": [
    "# insert, pop, -> shift  리스트에서 사용을 하게 되면은 쉬프트가 되서 연결된리스트를 사용한다. "
   ]
  },
  {
   "cell_type": "code",
   "execution_count": null,
   "id": "c8a77240",
   "metadata": {},
   "outputs": [],
   "source": []
  },
  {
   "cell_type": "markdown",
   "id": "648a5781",
   "metadata": {},
   "source": [
    "# linkedlist"
   ]
  },
  {
   "cell_type": "code",
   "execution_count": null,
   "id": "3c86a99c",
   "metadata": {},
   "outputs": [],
   "source": [
    "# class구조를 알아야 한다고함. "
   ]
  },
  {
   "cell_type": "code",
   "execution_count": 61,
   "id": "a3d64c22",
   "metadata": {},
   "outputs": [],
   "source": [
    "# class는 객체들을 한번에 모아서 관리하기 쉽게 만드는 것이다. \n",
    "class custom_math(): # class는 객체로 보게 된다. \n",
    "    def __init__(self,a,b):\n",
    "        self.a = a\n",
    "        self.b = b\n",
    "    \n",
    "    def get_sum(self): # 연산자를 사용할때는 이런식으로 self연산자를 넣어줘야 한다. \n",
    "        return self.a+self.b\n",
    "    \n",
    "    def get_divid(self): # divid는 분활하다, 나누다 라는 말임. 아마 임의로 넣어준 말인듯. \n",
    "        return self.a/self.b # 이런식으로 더하기도 되고, 나누기도 된다는 말을 해주고 싶어서 예시를 들어준듯 함. "
   ]
  },
  {
   "cell_type": "code",
   "execution_count": 62,
   "id": "c2d7d96c",
   "metadata": {},
   "outputs": [],
   "source": [
    "cm = custom_math(3,5)"
   ]
  },
  {
   "cell_type": "code",
   "execution_count": 63,
   "id": "ce86aecf",
   "metadata": {},
   "outputs": [
    {
     "data": {
      "text/plain": [
       "8"
      ]
     },
     "execution_count": 63,
     "metadata": {},
     "output_type": "execute_result"
    }
   ],
   "source": [
    "cm.get_sum()"
   ]
  },
  {
   "cell_type": "code",
   "execution_count": 35,
   "id": "0ff9e1d3",
   "metadata": {},
   "outputs": [
    {
     "data": {
      "text/plain": [
       "3"
      ]
     },
     "execution_count": 35,
     "metadata": {},
     "output_type": "execute_result"
    }
   ],
   "source": [
    "cm.get_sum(1,2)"
   ]
  },
  {
   "cell_type": "code",
   "execution_count": 45,
   "id": "1431df12",
   "metadata": {},
   "outputs": [
    {
     "data": {
      "text/plain": [
       "0.6"
      ]
     },
     "execution_count": 45,
     "metadata": {},
     "output_type": "execute_result"
    }
   ],
   "source": [
    "cm.get_divid(3,5)"
   ]
  },
  {
   "cell_type": "code",
   "execution_count": null,
   "id": "dbdfcf28",
   "metadata": {},
   "outputs": [],
   "source": []
  },
  {
   "cell_type": "code",
   "execution_count": null,
   "id": "284bfdfc",
   "metadata": {},
   "outputs": [],
   "source": []
  },
  {
   "cell_type": "code",
   "execution_count": 13,
   "id": "d4cb7c3e",
   "metadata": {},
   "outputs": [],
   "source": [
    "# class\n",
    "def get_sum(a,b):\n",
    "    c = a+b\n",
    "    return c"
   ]
  },
  {
   "cell_type": "code",
   "execution_count": 29,
   "id": "53fc61b0",
   "metadata": {},
   "outputs": [
    {
     "data": {
      "text/plain": [
       "7"
      ]
     },
     "execution_count": 29,
     "metadata": {},
     "output_type": "execute_result"
    }
   ],
   "source": [
    "get_sum(3,4)"
   ]
  },
  {
   "cell_type": "code",
   "execution_count": null,
   "id": "acffc15e",
   "metadata": {},
   "outputs": [],
   "source": []
  },
  {
   "cell_type": "markdown",
   "id": "37defb77",
   "metadata": {},
   "source": [
    "#LinkedList"
   ]
  },
  {
   "cell_type": "code",
   "execution_count": 167,
   "id": "7ee20e48",
   "metadata": {},
   "outputs": [],
   "source": [
    "class ListNode:\n",
    "    def __init__(self, newItem, nextNode):\n",
    "        self.item = newItem\n",
    "        self.next = nextNode"
   ]
  },
  {
   "cell_type": "code",
   "execution_count": null,
   "id": "de8e276d",
   "metadata": {},
   "outputs": [],
   "source": [
    "# 이거 다시 실습한번 해보라고 하는데 오 정말 쉽지 않다 정말 ;; "
   ]
  },
  {
   "cell_type": "code",
   "execution_count": 168,
   "id": "c52cb334",
   "metadata": {},
   "outputs": [],
   "source": [
    "class LinkedList:\n",
    "    def __init__(self):\n",
    "        self.__head = ListNode('dump', None)\n",
    "        self.__numItems = 0\n",
    "        \n",
    "    def insert(self, i, newItem):\n",
    "        prev = self.__getNode(i-1)\n",
    "        newNode = ListNode(newItem, prev.next)\n",
    "        prev.next = newNode\n",
    "        self.__numItems += 1\n",
    "        \n",
    "    def append(self, newItem):\n",
    "        prev = self.__getNode(self.__numItems -1)\n",
    "        newNode = ListNode(newItem, prev.next)\n",
    "        prev.next = newNode\n",
    "        self.__numItems += 1\n",
    "        \n",
    "    def pop(self, i):\n",
    "        prev = self.__getNode(i-1)\n",
    "        curr = prev.next\n",
    "        prev.next = curr.next\n",
    "        retItem = curr.item\n",
    "        self.__numItems -= 1\n",
    "        return retItem\n",
    "    \n",
    "    def get(self, i):\n",
    "        return self.__getNode(i).item\n",
    "        \n",
    "    def __getNode(self, i):\n",
    "        curr = self.__head\n",
    "        for index in range(i+1):\n",
    "            curr = curr.next\n",
    "        return curr\n",
    "    \n",
    "    def printList(self):\n",
    "        curr = self.__head.next\n",
    "        p_list = []\n",
    "        while curr != None:\n",
    "            p_list.append(curr.item)\n",
    "            curr = curr.next\n",
    "        return p_list\n",
    "        \n",
    "    def remove(self, x):\n",
    "        (prev, curr) = self.__findNode(x)\n",
    "        if curr !=None:\n",
    "            prev.next = prev.next.next\n",
    "            __numItem -= 1\n",
    "            return x\n",
    "        else:\n",
    "            return None\n",
    "            \n",
    "    def __findNode(self, i:int) -> (ListNode, ListNode):\n",
    "        prev = self.__head \n",
    "        curr = prev.next\n",
    "        while curr != None:\n",
    "            if curr.item == x:\n",
    "                return (prev, curr)\n",
    "            else:\n",
    "                prev = curr; curr = curr.next\n",
    "            return (None, None)"
   ]
  },
  {
   "cell_type": "code",
   "execution_count": null,
   "id": "94ee3cb5",
   "metadata": {},
   "outputs": [],
   "source": []
  },
  {
   "cell_type": "code",
   "execution_count": null,
   "id": "89f2f595",
   "metadata": {},
   "outputs": [],
   "source": []
  },
  {
   "cell_type": "code",
   "execution_count": 169,
   "id": "88e4676c",
   "metadata": {},
   "outputs": [],
   "source": [
    "LL = LinkedList()"
   ]
  },
  {
   "cell_type": "code",
   "execution_count": 170,
   "id": "8a2401c6",
   "metadata": {},
   "outputs": [],
   "source": [
    "for x in range(10):\n",
    "    LL.append(x)"
   ]
  },
  {
   "cell_type": "code",
   "execution_count": 171,
   "id": "0038a2fd",
   "metadata": {},
   "outputs": [
    {
     "data": {
      "text/plain": [
       "0"
      ]
     },
     "execution_count": 171,
     "metadata": {},
     "output_type": "execute_result"
    }
   ],
   "source": [
    "LL.get(0)"
   ]
  },
  {
   "cell_type": "code",
   "execution_count": 172,
   "id": "19be96ad",
   "metadata": {},
   "outputs": [
    {
     "data": {
      "text/plain": [
       "4"
      ]
     },
     "execution_count": 172,
     "metadata": {},
     "output_type": "execute_result"
    }
   ],
   "source": [
    "LL.get(4)"
   ]
  },
  {
   "cell_type": "code",
   "execution_count": 173,
   "id": "87098825",
   "metadata": {},
   "outputs": [
    {
     "data": {
      "text/plain": [
       "[0, 1, 2, 3, 4, 5, 6, 7, 8, 9]"
      ]
     },
     "execution_count": 173,
     "metadata": {},
     "output_type": "execute_result"
    }
   ],
   "source": [
    "LL.printList()"
   ]
  },
  {
   "cell_type": "code",
   "execution_count": 174,
   "id": "371f0a8a",
   "metadata": {},
   "outputs": [
    {
     "data": {
      "text/plain": [
       "2"
      ]
     },
     "execution_count": 174,
     "metadata": {},
     "output_type": "execute_result"
    }
   ],
   "source": [
    "LL.pop(2)"
   ]
  },
  {
   "cell_type": "code",
   "execution_count": 175,
   "id": "b70e1ee2",
   "metadata": {},
   "outputs": [
    {
     "data": {
      "text/plain": [
       "[0, 1, 3, 4, 5, 6, 7, 8, 9]"
      ]
     },
     "execution_count": 175,
     "metadata": {},
     "output_type": "execute_result"
    }
   ],
   "source": [
    "LL.printList()"
   ]
  },
  {
   "cell_type": "code",
   "execution_count": 178,
   "id": "89da9674",
   "metadata": {},
   "outputs": [],
   "source": [
    "LL.remove(7)"
   ]
  },
  {
   "cell_type": "code",
   "execution_count": 179,
   "id": "0c40803d",
   "metadata": {},
   "outputs": [
    {
     "data": {
      "text/plain": [
       "[0, 1, 3, 4, 5, 6, 7, 8, 9]"
      ]
     },
     "execution_count": 179,
     "metadata": {},
     "output_type": "execute_result"
    }
   ],
   "source": [
    "LL.printList()"
   ]
  },
  {
   "cell_type": "code",
   "execution_count": null,
   "id": "d518a42b",
   "metadata": {},
   "outputs": [],
   "source": []
  }
 ],
 "metadata": {
  "kernelspec": {
   "display_name": "Python 3 (ipykernel)",
   "language": "python",
   "name": "python3"
  },
  "language_info": {
   "codemirror_mode": {
    "name": "ipython",
    "version": 3
   },
   "file_extension": ".py",
   "mimetype": "text/x-python",
   "name": "python",
   "nbconvert_exporter": "python",
   "pygments_lexer": "ipython3",
   "version": "3.9.7"
  }
 },
 "nbformat": 4,
 "nbformat_minor": 5
}
