{
 "cells": [
  {
   "cell_type": "code",
   "execution_count": null,
   "id": "41304a1b",
   "metadata": {},
   "outputs": [],
   "source": [
    "# 중간고사 문제들은 여태 강의중에 실습했던 것들로 코딩문제를 낼 예정이라고 함 \n",
    "# 중간고사 시험범위가 이제 실습때 코딩을 했었던 문제를 위주로 낸다고 함 \n",
    "# 코딩 테스트 관련 문제를 풀었었는데, 중간고사에서는 강의 시간에 했던것들로 제출을 한다고 말함. \n",
    "# 알고리즘의 내용을 이해하는 쪽으로 공부를 하면 될것 같다고 말함\n",
    "# 문제를 그대로 외우는것도 방법이지만, 빈칸을 뚫어놓을때 알고리즘을 이해를 하고 있어야 빈칸에 답을 넣을수 있다. \n",
    "# 알고리즘 구조에 대해서 이해를 하는 방향으로 공부를 하면 충분히 좋은 점수를 받을수 있을거라고 말을 함. \n",
    "13-3"
   ]
  },
  {
   "cell_type": "markdown",
   "id": "0146e9ab",
   "metadata": {},
   "source": [
    "# 첫 번째 - 수열"
   ]
  },
  {
   "cell_type": "code",
   "execution_count": null,
   "id": "eff4f058",
   "metadata": {},
   "outputs": [],
   "source": [
    "# 첫번째 - 수열 \n",
    "# 재귀함수를 이용해서 여기서 값을 넣으면 값이 들어가서 1이 될때 까지 계속 반복하는 구조를 했었음"
   ]
  },
  {
   "cell_type": "code",
   "execution_count": 39,
   "id": "1cf6dab6",
   "metadata": {},
   "outputs": [],
   "source": [
    "def seq(n):\n",
    "    print(n)\n",
    "    if (n==1):\n",
    "        return 1\n",
    "    else : \n",
    "        return (seq(n-1)+3)"
   ]
  },
  {
   "cell_type": "code",
   "execution_count": 41,
   "id": "20e4983d",
   "metadata": {},
   "outputs": [
    {
     "name": "stdout",
     "output_type": "stream",
     "text": [
      "6\n",
      "5\n",
      "4\n",
      "3\n",
      "2\n",
      "1\n"
     ]
    },
    {
     "data": {
      "text/plain": [
       "16"
      ]
     },
     "execution_count": 41,
     "metadata": {},
     "output_type": "execute_result"
    }
   ],
   "source": [
    "# 교수님이 언급했었던 seq(6)을 넣었을때 어떤 값이 나오는지에 대해 나온다고 했었음.\n",
    "seq(6) "
   ]
  },
  {
   "cell_type": "code",
   "execution_count": 16,
   "id": "d29d95f5",
   "metadata": {},
   "outputs": [],
   "source": [
    "n=3 => 1,3,3 => 7\n",
    "n=4 => 1,3,3,3 => 10\n",
    "n=5 => 1,3,3,3,3 => 13\n",
    "n=6 => 1,3,3,3,3,3 => 16 \n",
    "# 여기서 교수님이 n의 값을 6으로 설정을 해서, 위의 알고리즘에 넣었을때 보기를 몇개를 준다음에 선택을 할수 있도록 문제를 낼 것 같음\n",
    "# 제귀함수를 써서 수열을 구하는것을 실습으로 진행했음 -> 이거 아마 2주차 내용인거 같은데 이거 다시 한번 봐야겠다,,, "
   ]
  },
  {
   "cell_type": "markdown",
   "id": "8089b7a0",
   "metadata": {},
   "source": [
    "# 원반(하노이탑) "
   ]
  },
  {
   "cell_type": "code",
   "execution_count": 26,
   "id": "ff7c640d",
   "metadata": {},
   "outputs": [],
   "source": [
    "# 재귀함수, 무브함수를 계속 진행을 해서 원반을 총 몇번 이동을 해야 원하는 위치로 가는지 보여주는 것. \n",
    "# n의 값이 커도 충분히 값을 구할수 있을거라고 하는데.. 시험볼때 그냥 이 알고리즘 복붙으로 해야겠다;; \n",
    "def move(n, a, b, c):\n",
    "    # n 원반 count, \n",
    "    # a : from\n",
    "    # b : to\n",
    "    # c : sub\n",
    "    if n > 0:\n",
    "        move(n-1, a, c, b)\n",
    "        print(f'n:{n}, {a} -> {b}')\n",
    "        move(n-1, c, b, a)\n"
   ]
  },
  {
   "cell_type": "code",
   "execution_count": 27,
   "id": "c8d748a1",
   "metadata": {},
   "outputs": [
    {
     "name": "stdout",
     "output_type": "stream",
     "text": [
      "n:1, 1 -> 2\n",
      "n:2, 1 -> 3\n",
      "n:1, 2 -> 3\n"
     ]
    }
   ],
   "source": [
    "move(2, 1, 3, 2)"
   ]
  },
  {
   "cell_type": "markdown",
   "id": "8388793c",
   "metadata": {},
   "source": [
    "# 코딩테스트에서 같이 풀어봤던 문제 (없는 숫자 더하기)"
   ]
  },
  {
   "cell_type": "code",
   "execution_count": null,
   "id": "adacfcb4",
   "metadata": {},
   "outputs": [],
   "source": [
    "# 없는 숫자를 끼리 더하는 문제 실습을 했었음\n",
    "# 이러한 환경이 주어지고, 입출력 예제가 주어진다면,\n",
    "# 펑션을 써서 이 펑션을 가져와서 정답을 낼수 있을거 같다..? \n",
    "# 아마 문제지에 지문의 전처리는 교수님이 미리 적어놓고 우리가 어떤식으로 풀어야 하냐. 이런식으로 낼 듯.\n",
    "# https://programmers.co.kr/learn/courses/30/lessons/86051"
   ]
  },
  {
   "cell_type": "code",
   "execution_count": 27,
   "id": "ad739dc8",
   "metadata": {},
   "outputs": [],
   "source": [
    "def solution(numbers):\n",
    "    answer = 0\n",
    "    base_list = [0,1,2,3,4,5,6,7,8,9]\n",
    "    for x in base_list:\n",
    "        if x not in numbers:\n",
    "            answer += x\n",
    "    print(numbers)\n",
    "    return answer"
   ]
  },
  {
   "cell_type": "markdown",
   "id": "65dc1127",
   "metadata": {},
   "source": [
    "# 코딩테스트에서 같이 풀어봤던 문제 (음양 더하기)"
   ]
  },
  {
   "cell_type": "code",
   "execution_count": null,
   "id": "e06dd1b7",
   "metadata": {},
   "outputs": [],
   "source": [
    "# for문을 사용해서 문제를 풀어보기도 했었고, zip펑션을 사용해서 풀기도 했었음\n",
    "# for 문에서 같이 불러와서 같이 비교하고, 직접 값을 더하는 구조(zip말하는 듯)를 만들어서 문제를 해결할수도 있습니다...?...."
   ]
  },
  {
   "cell_type": "code",
   "execution_count": null,
   "id": "efae5626",
   "metadata": {},
   "outputs": [],
   "source": [
    "def solution(absolutes, signs):\n",
    "    answer = 0\n",
    "#     print(absolutes)\n",
    "#     for x in range(len(absolutes)):\n",
    "#         if signs[x] == False:\n",
    "#             answer += absolutes[x]*-1\n",
    "#         else : answer += absolutes[x]\n",
    "    for absolute, sign in zip(absolutes, signs):\n",
    "        if sign == False : \n",
    "            answer += (absolute * -1)\n",
    "        else : answer += absolute\n",
    "    \n",
    "    \n",
    "    return answer\n",
    "\n",
    "# absolutes는 절댓값임\n",
    "# 위에 5개의 주석처리는 for문으로 사용한 것\n",
    "# 밑에 4개의 줄은 zip을 사용해서 나타낸 것 "
   ]
  },
  {
   "cell_type": "code",
   "execution_count": null,
   "id": "8ca7b9c7",
   "metadata": {},
   "outputs": [],
   "source": []
  },
  {
   "cell_type": "markdown",
   "id": "34b95c42",
   "metadata": {},
   "source": [
    "# 파이썬 기초 실습에 대해서"
   ]
  },
  {
   "cell_type": "code",
   "execution_count": 53,
   "id": "2f1df60c",
   "metadata": {},
   "outputs": [],
   "source": [
    "# 결과값(아웃풋) 한번에 여러개 출력\n",
    "from IPython.core.interactiveshell import InteractiveShell\n",
    "InteractiveShell.ast_node_interactivity = \"all\""
   ]
  },
  {
   "cell_type": "code",
   "execution_count": 46,
   "id": "e5c3caa1",
   "metadata": {},
   "outputs": [],
   "source": [
    "b = [1,2,3,4,5]"
   ]
  },
  {
   "cell_type": "code",
   "execution_count": 47,
   "id": "9ee4df19",
   "metadata": {},
   "outputs": [
    {
     "data": {
      "text/plain": [
       "1"
      ]
     },
     "execution_count": 47,
     "metadata": {},
     "output_type": "execute_result"
    }
   ],
   "source": [
    "# 이 펑션들 실행이 안되니까 강의들 찾으면서 다시 코드 짜놓자. \n",
    "b.count(2) # 10분부터 다시 듣기,,,;; "
   ]
  },
  {
   "cell_type": "code",
   "execution_count": 48,
   "id": "0eca5605",
   "metadata": {},
   "outputs": [],
   "source": [
    "b.insert(1, 7)"
   ]
  },
  {
   "cell_type": "code",
   "execution_count": 49,
   "id": "468cad7e",
   "metadata": {},
   "outputs": [
    {
     "data": {
      "text/plain": [
       "7"
      ]
     },
     "execution_count": 49,
     "metadata": {},
     "output_type": "execute_result"
    }
   ],
   "source": [
    "b[1] "
   ]
  },
  {
   "cell_type": "code",
   "execution_count": 50,
   "id": "041e13d5",
   "metadata": {},
   "outputs": [],
   "source": [
    "b.sort() # a에 sort를 시키면 1,2,3,4,5,7으로 정렬이 되고"
   ]
  },
  {
   "cell_type": "code",
   "execution_count": 51,
   "id": "1d47e2e2",
   "metadata": {},
   "outputs": [],
   "source": [
    "b.reverse() # reverse를 하면 역순으로 정렬이 된다. (7,5,4,3,2,1)"
   ]
  },
  {
   "cell_type": "code",
   "execution_count": 52,
   "id": "ba8247b6",
   "metadata": {},
   "outputs": [
    {
     "data": {
      "text/plain": [
       "[7, 5, 4, 3, 2, 1]"
      ]
     },
     "execution_count": 52,
     "metadata": {},
     "output_type": "execute_result"
    }
   ],
   "source": [
    "b"
   ]
  },
  {
   "cell_type": "code",
   "execution_count": 1,
   "id": "76354b31",
   "metadata": {},
   "outputs": [],
   "source": [
    "a = [1,7,2,3,4,5]"
   ]
  },
  {
   "cell_type": "code",
   "execution_count": 2,
   "id": "7a12c0b0",
   "metadata": {},
   "outputs": [],
   "source": [
    "a.sort()"
   ]
  },
  {
   "cell_type": "code",
   "execution_count": 3,
   "id": "5682012a",
   "metadata": {},
   "outputs": [],
   "source": [
    "a.reverse()"
   ]
  },
  {
   "cell_type": "code",
   "execution_count": 4,
   "id": "41297883",
   "metadata": {},
   "outputs": [
    {
     "name": "stdout",
     "output_type": "stream",
     "text": [
      "[7, 5, 4, 3, 2, 1]\n"
     ]
    }
   ],
   "source": [
    "print(a)"
   ]
  },
  {
   "cell_type": "code",
   "execution_count": null,
   "id": "3dd480e8",
   "metadata": {},
   "outputs": [],
   "source": []
  },
  {
   "cell_type": "markdown",
   "id": "0dea02c8",
   "metadata": {},
   "source": [
    "  # LinkedList"
   ]
  },
  {
   "cell_type": "code",
   "execution_count": 5,
   "id": "bf12189a",
   "metadata": {},
   "outputs": [],
   "source": [
    "class ListNode: #리스트 노드를 실행시킨다음에\n",
    "    def __init__(self, newItem, nextNode):\n",
    "        self.item = newItem\n",
    "        self.next = nextNode"
   ]
  },
  {
   "cell_type": "code",
   "execution_count": 8,
   "id": "b8fa908b",
   "metadata": {},
   "outputs": [],
   "source": [
    "class LinkedList: #링크드리스트를 만들어서 \n",
    "    def __init__(self):\n",
    "        self.__head = ListNode('dump', None)\n",
    "        self.__numItems = 0\n",
    "        # 링크드 리스트 펑션중에서 인서트에 대해서 어떻게 실행이 되는지 간단히 알고 있어야 한다고 함\n",
    "    def insert(self, i, newItem): #인서트일때는 값을 어떻게 처리를 하는지, \n",
    "        prev = self.__getNode(i-1)\n",
    "        newNode = ListNode(newItem, prev.next) # 가르키는 방향이 전값이 새로운 노드를 가르키고, \n",
    "        self.numItems += 1\n",
    "           \n",
    "    def __getNode(self,i):\n",
    "        curr = self.__head\n",
    "        for index in range(i+1):\n",
    "            curr = curr.next\n",
    "        return curr\n",
    "    # 같은 부분인데 pop에 대해서도 말함. \n",
    "    def pop(self, i:int): #i번 노드 삭제\n",
    "        if(i>= 0 and i<= self.numItemse-1):\n",
    "            prev = self.__getNode(i-1)\n",
    "            curr = prev.next # 이런 프로세스에 대해서 이해를 하고 있어야 한다고 함.\n",
    "            reprev.next = curr.next\n",
    "            self.__numItemse -= 1\n",
    "            return reItem"
   ]
  },
  {
   "cell_type": "markdown",
   "id": "0070ce94",
   "metadata": {},
   "source": [
    "# 배열 리스트, 연결 리스트의 차이점"
   ]
  },
  {
   "cell_type": "code",
   "execution_count": null,
   "id": "b5ed719b",
   "metadata": {},
   "outputs": [],
   "source": [
    "# 자료구조 3주차(수행시간 탬플릿 2) 4분 42초 참고하기\n",
    "# 작업                 배열리스트                      연결리스트               (n) = 느린 속도, (1) = 빠른 속도 \n",
    "# insert(i)     위치접근 (1), 삽입 작업(n)       위치접근(n), 삽입 작업(1)\n",
    "# pop(i)        위치접근 (1), 삭제 작업(n)       위치접근(n), 삭제 작업(1)\n",
    "# remove(i)     원소찾기 (n), 삭제 작업(n)       원소찾기(n), 삭제 작업(1)\n",
    "# get(i)               (1)                           (n)\n",
    "\n",
    "# 어떤게 속도가 더 빠른지 구분을 할수 있어야 한다. "
   ]
  },
  {
   "cell_type": "code",
   "execution_count": null,
   "id": "d1d81ccd",
   "metadata": {},
   "outputs": [],
   "source": []
  },
  {
   "cell_type": "markdown",
   "id": "a25dc210",
   "metadata": {},
   "source": [
    "# 리스트 노드 실습 내용 (4월 11일 6주차 실습내용 파일에 있음)"
   ]
  },
  {
   "cell_type": "code",
   "execution_count": null,
   "id": "95a3f7d1",
   "metadata": {},
   "outputs": [],
   "source": [
    "class ListNode:\n",
    "    def __init__(self, newItem, nextNode):\n",
    "        self.item = newItem\n",
    "        self.next = nextNode\n",
    "        \n",
    "class LinkedList:\n",
    "    def __init__(self):\n",
    "        self.__head = ListNode('dump', None)\n",
    "        self.__numItems = 0\n",
    "        \n",
    "    def insert(self, i, newItem):\n",
    "        prev = self.__getNode(i-1)\n",
    "        newNode = ListNode(newItem, prev.next)\n",
    "        prev.next = newNode\n",
    "        self.__numItems += 1\n",
    "        \n",
    "    def append(self, newItem):\n",
    "        prev = self.__getNode(self.__numItems -1)\n",
    "        newNode = ListNode(newItem, prev.next)\n",
    "        prev.next = newNode\n",
    "        self.__numItems += 1\n",
    "        \n",
    "    def pop(self, i):\n",
    "        prev = self.__getNode(i-1)\n",
    "        curr = prev.next\n",
    "        prev.next = curr.next\n",
    "        retItem = curr.item\n",
    "        self.__numItems -= 1\n",
    "        return retItem\n",
    "    # 각 펑션의 프로세서가 어떻게 실행이 되는지 -> 커넥트 값이 어떤걸 가르키고 있는지 구조에 대해서 이해를 하고 있으면 \n",
    "    # 문제를 충분히 풀수 있다고 말씀하셨음 \n",
    "    # ex) pop쪽에서 \"prev.next = curr.next\"에서 curr은 prev.next 이고, prev.next는 어떤값으 가르키고 있냐? \n",
    "    # 정답은 curr.next를 가르키고 있다. 이런식으로 문제를 풀면 될 듯 \n",
    "    \n",
    "    def get(self, i):\n",
    "        return self.__getNode(i).item\n",
    "        \n",
    "    def __getNode(self, i):\n",
    "        curr = self.__head\n",
    "        for index in range(i+1):\n",
    "            curr = curr.next\n",
    "        return curr\n",
    "    \n",
    "    def printList(self):\n",
    "        curr = self.__head.next\n",
    "        p_list = []\n",
    "        while curr != None:\n",
    "            p_list.append(curr.item)\n",
    "            curr = curr.next\n",
    "        return p_list"
   ]
  },
  {
   "cell_type": "markdown",
   "id": "1a1f9458",
   "metadata": {},
   "source": [
    "# class LinkedStack"
   ]
  },
  {
   "cell_type": "code",
   "execution_count": null,
   "id": "c46984ea",
   "metadata": {},
   "outputs": [],
   "source": [
    "# 얘도 결국 linkedlist객체를 가져온 상태임.\n",
    "class LinkedStack:\n",
    "    def __init__(self):\n",
    "        self.__list = LinkedList()\n",
    "        \n",
    "    def push(self, newItem):\n",
    "        self.__list.insert(0, newItem)\n",
    "        \n",
    "    def pop(self):\n",
    "        return self.__list.pop(0)\n",
    "    \n",
    "    def top(self):\n",
    "        if self.isEmpty():\n",
    "            return None\n",
    "        else:\n",
    "            return self.__list.get(0)\n",
    "        \n",
    "    def isEmpty(self) -> bool:\n",
    "        return self.__list.isEmpty()\n",
    "    \n",
    "    def popAll(self):\n",
    "        self.__list.clear()\n",
    "        \n",
    "    def printStack(self):\n",
    "        print(\"Stack from top:\", end = '')\n",
    "        for i in range(self.__list.size()):\n",
    "            print(self.__list.get(i), end = ' ')\n",
    "        print()\n",
    "        \n",
    "# 이런 펑션은 한번 쭉 보면 될 것 같다고 함 (아마 시험에 나올 확률은 조금 적을 듯)\n",
    "# 스택의 특징이 맨 마지막에 푸쉬가 된 값이 맨 처음으로 나오는 특징이 있는데, 그런거를 이해를 하면서 링크드 객체를 실행을해서 실습을 했는데\n",
    "# 그때 어떤 값이 출력이 되는지 이해를 하고 있어야 한다고 함 ( 이건 아마 위에 LinkedStack 짜놓은 코드를 가져와서 코드를 실행시켜서 \n",
    "# 어떤 값이 나오는지 문제로 나올듯..)\n"
   ]
  },
  {
   "cell_type": "markdown",
   "id": "f873cac5",
   "metadata": {},
   "source": [
    "# 코딩테스트 \"완주하지 못한 선수\" "
   ]
  },
  {
   "cell_type": "code",
   "execution_count": null,
   "id": "7469024b",
   "metadata": {},
   "outputs": [],
   "source": [
    "# 문제를 이해하고 있으면 좋을것 같습니다. 라고 말했음 \n",
    "# https://programmers.co.kr/learn/courses/30/lessons/42576\n",
    "\n",
    "def solution(participant, completion):\n",
    "    part = {}\n",
    "    for x in participant: # 여기서는 선수 전체가 들어갔지만 밑에 completion은 \n",
    "        if x not in part : part[x]=1\n",
    "        else : part[x] += 1\n",
    "        \n",
    "    for x in completion: # 얘는 완주자를 빼야하기 때문에 팝으로 값을 빼는 과정을 거쳐서 사람을 빼오는 문제였음\n",
    "        part[x]-=1\n",
    "        if part[x] == 0:\n",
    "            part.pop(x) # 여기 빈칸을 뚫어놓고 여기에 어떤 코드가 들어가야하는지 업팬드인지. 팝인지 \n",
    "                        # 넣을줄 알아야 한다고함 -> 이게 문제로 나올듯 ^^;; \n",
    "    \n",
    "    return list(part.keys())[0] "
   ]
  },
  {
   "cell_type": "code",
   "execution_count": null,
   "id": "407ab372",
   "metadata": {},
   "outputs": [],
   "source": []
  },
  {
   "cell_type": "markdown",
   "id": "2d974d98",
   "metadata": {},
   "source": [
    "# ListQueue "
   ]
  },
  {
   "cell_type": "code",
   "execution_count": 13,
   "id": "06cb949b",
   "metadata": {},
   "outputs": [],
   "source": [
    "# 큐도 결국 스택이랑 비슷하지만 차이점은 값을 append(업팬드)를 하고 팝을 할때 enqueue를 했을때 업팬드를 해서 값이 뒤로 들어가서 맨 \n",
    "# 나중에 들어간 값이 팝으로 처음으로 나온다는 차이점이 있음. \n",
    "# \n",
    "class ListQueue:\n",
    "    def __init__(self):\n",
    "        self.__queue = []\n",
    "    \n",
    "    def enqueue(self, x):\n",
    "        self.__queue.append(x)\n",
    "        \n",
    "    def dequeue(self):\n",
    "        return self.__queue.pop(0)\n",
    "        \n",
    "    def front(self):\n",
    "        if self.isEmpty():\n",
    "            return None\n",
    "        else:\n",
    "            return self.__queue[0]\n",
    "        \n",
    "    def isEmpty(self):\n",
    "        return (len(self.__queue) == 0) \n",
    "    \n",
    "    def dequeueAll(self):\n",
    "        self.__queue.clear()\n",
    "        \n",
    "    def printQueue(self):\n",
    "        for i in range(len(self.__queue)):\n",
    "            print(self.__queue[i])"
   ]
  },
  {
   "cell_type": "code",
   "execution_count": 14,
   "id": "bcc6e820",
   "metadata": {},
   "outputs": [],
   "source": [
    "LQ = ListQueue()"
   ]
  },
  {
   "cell_type": "code",
   "execution_count": 15,
   "id": "4d6b290b",
   "metadata": {},
   "outputs": [],
   "source": [
    "LQ.enqueue(5)"
   ]
  },
  {
   "cell_type": "code",
   "execution_count": 16,
   "id": "b08f5537",
   "metadata": {},
   "outputs": [],
   "source": [
    "LQ.enqueue(6)"
   ]
  },
  {
   "cell_type": "code",
   "execution_count": 17,
   "id": "58ca205b",
   "metadata": {},
   "outputs": [],
   "source": [
    "LQ.enqueue(7)"
   ]
  },
  {
   "cell_type": "code",
   "execution_count": 18,
   "id": "a785eaf2",
   "metadata": {},
   "outputs": [
    {
     "data": {
      "text/plain": [
       "5"
      ]
     },
     "execution_count": 18,
     "metadata": {},
     "output_type": "execute_result"
    }
   ],
   "source": [
    "LQ.dequeue()"
   ]
  },
  {
   "cell_type": "code",
   "execution_count": 19,
   "id": "8a26d0d1",
   "metadata": {},
   "outputs": [
    {
     "name": "stdout",
     "output_type": "stream",
     "text": [
      "6\n"
     ]
    }
   ],
   "source": [
    "print( LQ.front())"
   ]
  },
  {
   "cell_type": "code",
   "execution_count": 14,
   "id": "4bb1ad44",
   "metadata": {},
   "outputs": [
    {
     "data": {
      "text/plain": [
       "5"
      ]
     },
     "execution_count": 14,
     "metadata": {},
     "output_type": "execute_result"
    }
   ],
   "source": [
    "LQ.front() # 값들을 위에 처럼 넣어두고 젤 처음값(LQ.front())이 무엇으로 나오는지 이해를 하고 있으면 될 것 같다고 말함."
   ]
  },
  {
   "cell_type": "code",
   "execution_count": null,
   "id": "84fb4aeb",
   "metadata": {},
   "outputs": [],
   "source": []
  },
  {
   "cell_type": "markdown",
   "id": "249134ae",
   "metadata": {},
   "source": [
    "# 코딩테스트 \"숫자 문자열과 영단어\""
   ]
  },
  {
   "cell_type": "code",
   "execution_count": null,
   "id": "abf75151",
   "metadata": {},
   "outputs": [],
   "source": [
    "def solution(s):\n",
    "    answer = 0\n",
    "    #리플레이스(replace)를 사용한다고 함 \n",
    "    mapping = {\n",
    "        'zero':\"0\", 'one':'1', 'two':'2',\n",
    "        'three':'3', 'four':'4', 'five':'5', \n",
    "        'six':'6', 'seven':'7', 'eight':'8', \n",
    "        'nine':'9'\n",
    "    }\n",
    "    \n",
    "    for k,v in mapping.items():\n",
    "        s = s.replace(k,v)\n",
    "    \n",
    "    # s = s.replace('zero','0')\n",
    "    # s = s.replace('one','1')\n",
    "    # s = s.replace('two','2')\n",
    "    # s = s.replace('three','3')\n",
    "    # s = s.replace('four','4')\n",
    "    # s = s.replace('five','5')\n",
    "    # s = s.replace('six','6')\n",
    "    # s = s.replace('seven','7')\n",
    "    # s = s.replace('eight','8')\n",
    "    # s = s.replace('nine','9')\n",
    "    \n",
    "    return int(s)"
   ]
  },
  {
   "cell_type": "code",
   "execution_count": null,
   "id": "af19ed82",
   "metadata": {},
   "outputs": [],
   "source": [
    "# 주석 처리 방법으로 할수도 있고, 주석처리 안한 부분으로도 할 수 있는데 \n",
    "# 간략히 하기 위해서는 주석처리 안한부분으로 사용하는게 더 간략하다. "
   ]
  },
  {
   "cell_type": "code",
   "execution_count": null,
   "id": "5296fd35",
   "metadata": {},
   "outputs": [],
   "source": [
    "# 값을 치환하여 파이썬의 replace함수를 사용해서 치환을 했음\n",
    "# 이렇게 해서 문자를 10개 에서 15개 정도 문제를 제출할 예정이라고 함 \n",
    "# 난이도는 그렇게 큰 난이도는 아니라고 했음 \n",
    "# 수업에 대해서 알고리즘 이해를 하고 있으면, 충분히 풀수 있을거라고 말함 \n",
    "# 한두문제 정도는 수업 했던 자료중에 바이너리서치나 이런거를 코드를 실행을 했던게 있는데 \n",
    "# 그런거에서 한두문제를 추가를 해서 제출을 하도록 하겠다고 말을 함 \n",
    "# 전체적으로 리스트, 큐 에대해서 이해를 하고 있으면은 충분히 풀수 있는 문제로 제출을 할거라고 말함\n",
    "# 이번 정리한 내용의 강의를 중심으로 리스트 큐를 한번 실습을 해보면 충분히 맞출수 있는 정도의 난이도라고 말을 함"
   ]
  },
  {
   "cell_type": "markdown",
   "id": "cc177cb1",
   "metadata": {},
   "source": [
    "# 이진탐색(Binary Search) \n",
    "한두문제를 주고 아마 시험의 번별력을 높히기 위한 문제인듯"
   ]
  },
  {
   "cell_type": "code",
   "execution_count": 3,
   "id": "0f985d5f",
   "metadata": {},
   "outputs": [],
   "source": [
    "# 이진탐색 (Binary Search) 자료구조 3주차 마지막 실습 초부터 다시 들어보기\n",
    "# for문을 사용하면, 처음부터 찾아서 시간이 더 걸리는데\n",
    "# 이진탐색(Binary_Search)는 어레이에서 중간을 짤라서 탐색을 하기 때문에 시간이 덜 걸린다. \n",
    "# 범위를 좁하가면서 찾는것임. \n",
    "# 1-100 까지 찾는건 별로 안걸리지만, 대용량 데이터를 사용할때는 요긴하게 사용한다. (어플하나당 4만 10만 되기 때문에 이걸 사용)\n",
    "# 서치 알고리즘에서 좀 많이 사용한다. \n",
    "# 이진탐색을 사용을 하면 시간측정해본다고함. "
   ]
  },
  {
   "cell_type": "code",
   "execution_count": 4,
   "id": "80a0efa8",
   "metadata": {},
   "outputs": [
    {
     "name": "stdout",
     "output_type": "stream",
     "text": [
      "find\n"
     ]
    }
   ],
   "source": [
    "# a = [1,2,3,4,5,6,7,8,9,10] <- 코드 실행전 a를 지정해줘야 한다. (문자는 아무거나 사용해도 가능)\n",
    "target=7 # 내가 찾는 숫자\n",
    "start = 0\n",
    "end = len(a)-1 # -1부터 시작하는 이유는 0부터 시작하기 때문에 어레이에서는 첫번째는 0으로 계산하기 때문. \n",
    "count = 0\n",
    "\n",
    "while(True):\n",
    "    count += 1\n",
    "    mid =  (start+end)//2 # 중간값지정, (시작과 끝값에서)나누기 2 반복문을 사용하기 때문에 계속 중간값을 찾아주는 명령\n",
    "    if a[mid] == target: # 중간값이 target (내가 찾는값)이 맞는지 명령\n",
    "        print('find')\n",
    "        break\n",
    "    elif a[mid] < target :\n",
    "        start = mid+1 # 미드값이 4가 나왔었는데 거기서 1을 더해줘서 또 위에 과정을 다시 거치도록 하는 작업. 6~10에서 찾는 과정\n",
    "    else :\n",
    "        end = mid-1"
   ]
  },
  {
   "cell_type": "code",
   "execution_count": 19,
   "id": "0d41f9c7",
   "metadata": {},
   "outputs": [],
   "source": [
    "A = [x for x in range(1000)] # 10만개의 값중 내가 원하는 값을 찾을때 얼마나 걸리는지 측정"
   ]
  },
  {
   "cell_type": "code",
   "execution_count": 35,
   "id": "6eafe884",
   "metadata": {},
   "outputs": [],
   "source": [
    "# 위에것을 약간 간소화 한다고 하면 (펑션으로 만들어본다고 함) (얼마만큼 걸렸는지..?)\n",
    "# def get_time_bs(A, target):\n",
    "#     start_time = time.time()\n",
    "    \n",
    "#     start = 0\n",
    "#     end = len(A)-1\n",
    "    \n",
    "#     while(True):\n",
    "# #        count += 1\n",
    "#         mid =  (start+end)//2 # 중간값지정, (시작과 끝값에서)나누기 2 반복문을 사용하기 때문에 계속 중간값을 찾아주는 명령\n",
    "#         if A[mid] == target: # 중간값이 target (내가 찾는값)이 맞는지 명령\n",
    "#             print('Find')\n",
    "#             break\n",
    "#         elif A[mid] < target :\n",
    "#             start = mid+1 # 미드값이 4가 나왔었는데 거기서 1을 더해줘서 또 위에 과정을 다시 거치도록 하는 작업. 6~10에서 찾는 과정\n",
    "#         else :\n",
    "#             end = mid-1\n",
    "    \n",
    "#     end_time = time.time() - start_time\n",
    "#     return end_time"
   ]
  },
  {
   "cell_type": "code",
   "execution_count": 34,
   "id": "f0064889",
   "metadata": {},
   "outputs": [],
   "source": [
    "# A = [x for x in range(100000000)]\n",
    "# get_time_bs(A,32100000)"
   ]
  },
  {
   "cell_type": "code",
   "execution_count": 5,
   "id": "a7089679",
   "metadata": {},
   "outputs": [
    {
     "data": {
      "text/plain": [
       "4"
      ]
     },
     "execution_count": 5,
     "metadata": {},
     "output_type": "execute_result"
    }
   ],
   "source": [
    "# 이진탐색을 이용해서 찾았을때 몇번만에 찾았는지 숫자로 보여주는 코드\n",
    "count #(이진탐색을 하면 4번만에 찾을수 있다.)"
   ]
  },
  {
   "cell_type": "code",
   "execution_count": 6,
   "id": "15c46ad5",
   "metadata": {},
   "outputs": [],
   "source": [
    "# for문으로 돌렸을때 몇번 만에 찾는지에 대한 코드\n",
    "count = 0\n",
    "for i in range(10):\n",
    "    count += 1\n",
    "    if a[i] == target:\n",
    "        break"
   ]
  },
  {
   "cell_type": "code",
   "execution_count": 7,
   "id": "20ffee65",
   "metadata": {},
   "outputs": [
    {
     "data": {
      "text/plain": [
       "7"
      ]
     },
     "execution_count": 7,
     "metadata": {},
     "output_type": "execute_result"
    }
   ],
   "source": [
    "count #일반적으로 for문을 사용할경우 7번만에 찾을수 있다고 함)"
   ]
  },
  {
   "cell_type": "code",
   "execution_count": null,
   "id": "e5d9338f",
   "metadata": {},
   "outputs": [],
   "source": []
  },
  {
   "cell_type": "code",
   "execution_count": null,
   "id": "64429c67",
   "metadata": {},
   "outputs": [],
   "source": []
  }
 ],
 "metadata": {
  "kernelspec": {
   "display_name": "Python 3 (ipykernel)",
   "language": "python",
   "name": "python3"
  },
  "language_info": {
   "codemirror_mode": {
    "name": "ipython",
    "version": 3
   },
   "file_extension": ".py",
   "mimetype": "text/x-python",
   "name": "python",
   "nbconvert_exporter": "python",
   "pygments_lexer": "ipython3",
   "version": "3.9.7"
  }
 },
 "nbformat": 4,
 "nbformat_minor": 5
}
