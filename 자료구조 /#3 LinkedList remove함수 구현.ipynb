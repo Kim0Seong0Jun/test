{
 "cells": [
  {
   "cell_type": "code",
   "execution_count": 30,
   "id": "8a8d0ddc",
   "metadata": {},
   "outputs": [],
   "source": [
    "import datetime\n",
    "\n",
    "class ListNode:\n",
    "    def __init__(self, newItem, nextNode):\n",
    "        self.item = newItem\n",
    "        self.next = nextNode\n",
    "\n",
    "class LinkedList:\n",
    "    def __init__(self):\n",
    "        self.__head = ListNode('dump', None)\n",
    "        self.__numItems = 0\n",
    "    \n",
    "    def insert(self, i, newItem):\n",
    "        prev = self.__getNode(i-1)\n",
    "        newNode = ListNode(newItem, prev.next)\n",
    "        prev.next = newNode\n",
    "        self.__numItems += 1\n",
    "\n",
    "    def append(self, newItem):\n",
    "        prev = self.__getNode(self.__numItems -1)\n",
    "        newNode = ListNode(newItem, prev.next)\n",
    "        prev.next = newNode\n",
    "        self.__numItems += 1\n",
    "        \n",
    "    def pop(self, i):\n",
    "        prev = self.__getNode(i-1)\n",
    "        curr = prev.next\n",
    "        prev.next = curr.next\n",
    "        retItem = curr.item\n",
    "        self.__numItems -= 1\n",
    "        return retItem\n",
    "    \n",
    "    def get(self, i):\n",
    "        return self.__getNode(i).item\n",
    "    \n",
    "    def __getNode(self, i):\n",
    "        curr = self.__head\n",
    "        for index in range(i+1):\n",
    "            curr = curr.next\n",
    "        return curr\n",
    "    \n",
    "    def printList(self):\n",
    "        curr = self.__head.next\n",
    "        p_list = []\n",
    "        while curr != None:\n",
    "            p_list.append(curr.item)\n",
    "            curr = curr.next\n",
    "        return p_list\n",
    "    \n",
    "    def remove(self,x):\n",
    "        (prev, curr) = self.__findNode(x)\n",
    "        if curr != None:\n",
    "                prev.next = curr.next\n",
    "                self.__numItems -= 1\n",
    "\n",
    "    def __findNode(self, x) -> (ListNode, ListNode):\n",
    "        prev = self.__head\n",
    "        curr = prev.next\n",
    "        while curr != None:\n",
    "            if curr.item == x:\n",
    "                return (prev, curr)\n",
    "            else:\n",
    "                prev = curr; curr = curr.next\n",
    "        return(None, None)\n",
    "    "
   ]
  },
  {
   "cell_type": "code",
   "execution_count": 24,
   "id": "dfc95d9d",
   "metadata": {},
   "outputs": [],
   "source": [
    "LL = LinkedList()"
   ]
  },
  {
   "cell_type": "code",
   "execution_count": 25,
   "id": "2c493ab2",
   "metadata": {},
   "outputs": [],
   "source": [
    "for x in range(10):\n",
    "    LL.append(x)"
   ]
  },
  {
   "cell_type": "code",
   "execution_count": 26,
   "id": "0b008dcf",
   "metadata": {},
   "outputs": [
    {
     "data": {
      "text/plain": [
       "[0, 1, 2, 3, 4, 5, 6, 7, 8, 9]"
      ]
     },
     "execution_count": 26,
     "metadata": {},
     "output_type": "execute_result"
    }
   ],
   "source": [
    "LL.printList()"
   ]
  },
  {
   "cell_type": "code",
   "execution_count": 27,
   "id": "ab55d8cb",
   "metadata": {},
   "outputs": [],
   "source": [
    "LL.remove(4)"
   ]
  },
  {
   "cell_type": "code",
   "execution_count": 28,
   "id": "5da83cbe",
   "metadata": {},
   "outputs": [
    {
     "data": {
      "text/plain": [
       "[0, 1, 2, 3, 5, 6, 7, 8, 9]"
      ]
     },
     "execution_count": 28,
     "metadata": {},
     "output_type": "execute_result"
    }
   ],
   "source": [
    "LL.printList()"
   ]
  },
  {
   "cell_type": "code",
   "execution_count": 31,
   "id": "43155d8b",
   "metadata": {},
   "outputs": [
    {
     "name": "stdout",
     "output_type": "stream",
     "text": [
      "2022-04-02 23:52:08.563719\n"
     ]
    }
   ],
   "source": [
    "now = datetime.datetime.now()\n",
    "print(now)"
   ]
  },
  {
   "cell_type": "code",
   "execution_count": null,
   "id": "f28f41e8",
   "metadata": {},
   "outputs": [],
   "source": []
  }
 ],
 "metadata": {
  "kernelspec": {
   "display_name": "Python 3 (ipykernel)",
   "language": "python",
   "name": "python3"
  },
  "language_info": {
   "codemirror_mode": {
    "name": "ipython",
    "version": 3
   },
   "file_extension": ".py",
   "mimetype": "text/x-python",
   "name": "python",
   "nbconvert_exporter": "python",
   "pygments_lexer": "ipython3",
   "version": "3.9.7"
  }
 },
 "nbformat": 4,
 "nbformat_minor": 5
}
