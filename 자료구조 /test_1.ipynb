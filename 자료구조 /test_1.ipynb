{
 "cells": [
  {
   "cell_type": "code",
   "execution_count": 8,
   "id": "6ba5d2b5",
   "metadata": {},
   "outputs": [],
   "source": [
    "import datetime\n"
   ]
  },
  {
   "cell_type": "code",
   "execution_count": 1,
   "id": "43be5039",
   "metadata": {},
   "outputs": [],
   "source": [
    "\n",
    "class ListNode:\n",
    "    def __init__(self, newItem, nextNode):\n",
    "        self.item = newItem\n",
    "        self.next = nextNode\n",
    "\n",
    "class LinkedList:\n",
    "    def __init__(self):\n",
    "        self.__head = ListNode('dump', None)\n",
    "        self.__numItems = 0\n",
    "    \n",
    "    def insert(self, i, newItem):\n",
    "        prev = self.__getNode(i-1)\n",
    "        newNode = ListNode(newItem, prev.next)\n",
    "        prev.next = newNode\n",
    "        self.__numItems += 1\n",
    "\n",
    "    def append(self, newItem):\n",
    "        prev = self.__getNode(self.__numItems -1)\n",
    "        newNode = ListNode(newItem, prev.next)\n",
    "        prev.next = newNode\n",
    "        self.__numItems += 1\n",
    "        \n",
    "    def pop(self, i):\n",
    "        prev = self.__getNode(i-1)\n",
    "        curr = prev.next\n",
    "        prev.next = curr.next\n",
    "        retItem = curr.item\n",
    "        self.__numItems -= 1\n",
    "        return retItem\n",
    "    \n",
    "    def get(self, i):\n",
    "        return self.__getNode(i).item\n",
    "    \n",
    "    def __getNode(self, i):\n",
    "        curr = self.__head\n",
    "        for index in range(i+1):\n",
    "            curr = curr.next\n",
    "        return curr\n",
    "    \n",
    "    def printList(self):\n",
    "        curr = self.__head.next\n",
    "        p_list = []\n",
    "        while curr != None:\n",
    "            p_list.append(curr.item)\n",
    "            curr = curr.next\n",
    "        return p_list\n",
    "    \n",
    "    def remove(self,x):\n",
    "        (prev, curr) = self.__findNode(x)\n",
    "        if curr != None:\n",
    "                prev.next = curr.next\n",
    "                self.__numItems -= 1\n",
    "                return x\n",
    "        else:\n",
    "                return None\n",
    "            \n",
    "    def __findNode(self, i:int) -> (ListNode, ListNode):\n",
    "        prev = self.__head\n",
    "        curr = prev.next\n",
    "        while curr != None:\n",
    "            if curr.item == x:\n",
    "                return (prev, curr)\n",
    "            else:\n",
    "                prev = curr; curr = curr.next\n",
    "        return(None, None)\n",
    "    "
   ]
  },
  {
   "cell_type": "code",
   "execution_count": 2,
   "id": "8c2368fd",
   "metadata": {},
   "outputs": [],
   "source": [
    "LL = LinkedList()"
   ]
  },
  {
   "cell_type": "code",
   "execution_count": 3,
   "id": "e60e3d0a",
   "metadata": {},
   "outputs": [],
   "source": [
    "for x in range(10):\n",
    "    LL.append(x)"
   ]
  },
  {
   "cell_type": "code",
   "execution_count": 4,
   "id": "ab1f86f5",
   "metadata": {},
   "outputs": [
    {
     "data": {
      "text/plain": [
       "[0, 1, 2, 3, 4, 5, 6, 7, 8, 9]"
      ]
     },
     "execution_count": 4,
     "metadata": {},
     "output_type": "execute_result"
    }
   ],
   "source": [
    "LL.printList()"
   ]
  },
  {
   "cell_type": "code",
   "execution_count": 5,
   "id": "f764ba2e",
   "metadata": {},
   "outputs": [
    {
     "data": {
      "text/plain": [
       "7"
      ]
     },
     "execution_count": 5,
     "metadata": {},
     "output_type": "execute_result"
    }
   ],
   "source": [
    "LL.remove(7)"
   ]
  },
  {
   "cell_type": "code",
   "execution_count": 6,
   "id": "f8b6a31d",
   "metadata": {},
   "outputs": [
    {
     "data": {
      "text/plain": [
       "[0, 1, 2, 3, 4, 5, 6, 7, 8]"
      ]
     },
     "execution_count": 6,
     "metadata": {},
     "output_type": "execute_result"
    }
   ],
   "source": [
    "LL.printList()"
   ]
  },
  {
   "cell_type": "code",
   "execution_count": 10,
   "id": "bf544b14",
   "metadata": {},
   "outputs": [
    {
     "name": "stdout",
     "output_type": "stream",
     "text": [
      "2022-04-02 23:00:49.042129\n"
     ]
    }
   ],
   "source": [
    "now = datetime.datetime.now()\n",
    "print(now)"
   ]
  },
  {
   "cell_type": "code",
   "execution_count": null,
   "id": "35994732",
   "metadata": {},
   "outputs": [],
   "source": []
  },
  {
   "cell_type": "code",
   "execution_count": null,
   "id": "f40a4d26",
   "metadata": {},
   "outputs": [],
   "source": []
  },
  {
   "cell_type": "code",
   "execution_count": null,
   "id": "c68d5d4d",
   "metadata": {},
   "outputs": [],
   "source": []
  },
  {
   "cell_type": "code",
   "execution_count": null,
   "id": "2bfaed9b",
   "metadata": {},
   "outputs": [],
   "source": []
  },
  {
   "cell_type": "code",
   "execution_count": null,
   "id": "2c76fd45",
   "metadata": {},
   "outputs": [],
   "source": []
  },
  {
   "cell_type": "code",
   "execution_count": null,
   "id": "9380d1f2",
   "metadata": {},
   "outputs": [],
   "source": []
  }
 ],
 "metadata": {
  "kernelspec": {
   "display_name": "Python 3 (ipykernel)",
   "language": "python",
   "name": "python3"
  },
  "language_info": {
   "codemirror_mode": {
    "name": "ipython",
    "version": 3
   },
   "file_extension": ".py",
   "mimetype": "text/x-python",
   "name": "python",
   "nbconvert_exporter": "python",
   "pygments_lexer": "ipython3",
   "version": "3.9.7"
  }
 },
 "nbformat": 4,
 "nbformat_minor": 5
}
