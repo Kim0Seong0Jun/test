{
 "cells": [
  {
   "cell_type": "code",
   "execution_count": 10,
   "id": "65e86333",
   "metadata": {},
   "outputs": [],
   "source": [
    "# 이거는 주석인가? \n",
    "# ㅇㅋㅇㅋ \n",
    "# 파이썬을 설치해서 주피터 노트북을 설치하는 방법으로 난 했음 \n",
    "\n",
    "def move(n, a, b, c):\n",
    "    # n 원반 count(숫자), \n",
    "    # a : from\n",
    "    # b : to\n",
    "    # c : sub \n",
    "    if n > 0:\n",
    "        move(n-1, a, c, b)\n",
    "        print(f'n:{n}, {a}-> {b}')\n",
    "        move(n-1, c, b, a)\n",
    "        "
   ]
  },
  {
   "cell_type": "code",
   "execution_count": null,
   "id": "15d73e61",
   "metadata": {},
   "outputs": [],
   "source": []
  },
  {
   "cell_type": "code",
   "execution_count": 11,
   "id": "0a532f95",
   "metadata": {},
   "outputs": [
    {
     "name": "stdout",
     "output_type": "stream",
     "text": [
      "n:1, 1-> 2\n",
      "n:2, 1-> 3\n",
      "n:1, 2-> 3\n"
     ]
    }
   ],
   "source": [
    "move(2, 1, 3, 2)"
   ]
  },
  {
   "cell_type": "code",
   "execution_count": 49,
   "id": "5239756c",
   "metadata": {},
   "outputs": [
    {
     "ename": "IndentationError",
     "evalue": "unexpected indent (3299106915.py, line 2)",
     "output_type": "error",
     "traceback": [
      "\u001b[0;36m  File \u001b[0;32m\"/var/folders/m5/4y33sbsx3v916xjwgc6_bx1h0000gn/T/ipykernel_1727/3299106915.py\"\u001b[0;36m, line \u001b[0;32m2\u001b[0m\n\u001b[0;31m    if(n > 0) then{\u001b[0m\n\u001b[0m    ^\u001b[0m\n\u001b[0;31mIndentationError\u001b[0m\u001b[0;31m:\u001b[0m unexpected indent\n"
     ]
    }
   ],
   "source": [
    "move(n, a, b, c)\n",
    "     if (n > 0) then{\n",
    "         move(n-1, a, c, b);\n",
    "         a에 있는 원반을 b로 옮긴다;\n",
    "         move(n-1, c, b, a);\n",
    "     }\n",
    " "
   ]
  },
  {
   "cell_type": "code",
   "execution_count": null,
   "id": "496b1469",
   "metadata": {},
   "outputs": [],
   "source": []
  },
  {
   "cell_type": "code",
   "execution_count": null,
   "id": "cc5cfe69",
   "metadata": {},
   "outputs": [],
   "source": []
  },
  {
   "cell_type": "code",
   "execution_count": null,
   "id": "c6c78d97",
   "metadata": {},
   "outputs": [],
   "source": []
  },
  {
   "cell_type": "code",
   "execution_count": 54,
   "id": "091aaecd",
   "metadata": {},
   "outputs": [
    {
     "data": {
      "text/plain": [
       "'\\nimport numpy as np\\nimport matplotlib.pyplot as plt\\n'"
      ]
     },
     "execution_count": 54,
     "metadata": {},
     "output_type": "execute_result"
    }
   ],
   "source": [
    "'''\n",
    "import numpy as np\n",
    "import matplotlib.pyplot as plt\n",
    "'''"
   ]
  },
  {
   "cell_type": "code",
   "execution_count": 55,
   "id": "516fcc85",
   "metadata": {},
   "outputs": [
    {
     "data": {
      "image/png": "[encoded data removed]",
      "text/plain": [
       "<Figure size 432x288 with 1 Axes>"
      ]
     },
     "metadata": {
      "needs_background": "light"
     },
     "output_type": "display_data"
    }
   ],
   "source": [
    "x = [1, 2, 3, 4]\n",
    "y = [4, 5, 6, 7]\n",
    "plt.plot(x, y);"
   ]
  },
  {
   "cell_type": "code",
   "execution_count": 3,
   "id": "dd19d380",
   "metadata": {},
   "outputs": [],
   "source": [
    "from IPython.core.interactiveshell import InteractiveShell # 코딩한 줄을 다 보여주게 되는 것 \n",
    "InteractiveShell.ast_node_interactivity='all' "
   ]
  },
  {
   "cell_type": "code",
   "execution_count": 1,
   "id": "f7a9d71e",
   "metadata": {},
   "outputs": [],
   "source": [
    "import math\n",
    "import datetime # 현재 시간을 명령하고 싶을때는 라이브러리를 붙혀줘야 한다.\n",
    "now = datetime.datetime.now() # 그담에 now하고 지정을 해줘야함. \n"
   ]
  },
  {
   "cell_type": "code",
   "execution_count": 25,
   "id": "50e75a6f",
   "metadata": {},
   "outputs": [
    {
     "name": "stdout",
     "output_type": "stream",
     "text": [
      "7\n",
      "10\n",
      "12.566370614359172\n",
      "2022-03-27 22:13:27.011272\n"
     ]
    }
   ],
   "source": [
    "print(5+2)\n",
    "print(5*2)\n",
    "print(math.pi*2**2)\n",
    "print(datetime.datetime.now())"
   ]
  },
  {
   "cell_type": "code",
   "execution_count": 31,
   "id": "a356cec9",
   "metadata": {},
   "outputs": [
    {
     "name": "stdout",
     "output_type": "stream",
     "text": [
      "140277046188400\n",
      "140277046188432\n"
     ]
    }
   ],
   "source": [
    "a = 3\n",
    "print(id(a))\n",
    "a += 1\n",
    "print(id(a))"
   ]
  },
  {
   "cell_type": "code",
   "execution_count": null,
   "id": "8c0cbf41",
   "metadata": {},
   "outputs": [],
   "source": []
  },
  {
   "cell_type": "code",
   "execution_count": 40,
   "id": "29852a74",
   "metadata": {},
   "outputs": [
    {
     "name": "stdout",
     "output_type": "stream",
     "text": [
      "hello world!\n",
      "x is 77 th\n",
      "5's element is TEST\n"
     ]
    }
   ],
   "source": [
    "print('hello world!')\n",
    "x = 77\n",
    "print('x is', x, 'th')\n",
    "print(\"5's element is\", end = \" \")\n",
    "print(\"TEST\")"
   ]
  },
  {
   "cell_type": "code",
   "execution_count": 41,
   "id": "4a97ed9e",
   "metadata": {},
   "outputs": [
    {
     "name": "stdout",
     "output_type": "stream",
     "text": [
      "MY name is TOM\n"
     ]
    }
   ],
   "source": [
    "print('MY', 'name', 'is', 'TOM')"
   ]
  },
  {
   "cell_type": "code",
   "execution_count": 53,
   "id": "7c6c6517",
   "metadata": {},
   "outputs": [
    {
     "name": "stdout",
     "output_type": "stream",
     "text": [
      "My-name-is-TOM\n",
      "x is 90 th\n",
      "x is 90th\n"
     ]
    }
   ],
   "source": [
    "print('My', 'name', 'is', 'TOM', sep = '-')\n",
    "x = 90\n",
    "print(\"x is\", x, \"th\")\n",
    "print('x is ', x, 'th', sep = \"\")"
   ]
  },
  {
   "cell_type": "code",
   "execution_count": null,
   "id": "9d3491ab",
   "metadata": {},
   "outputs": [],
   "source": [
    "# 수의 처리"
   ]
  },
  {
   "cell_type": "code",
   "execution_count": 60,
   "id": "8b1c95b4",
   "metadata": {},
   "outputs": [
    {
     "name": "stdout",
     "output_type": "stream",
     "text": [
      "z is 18.5\n",
      "a is 18.5\n"
     ]
    }
   ],
   "source": [
    "x = 7\n",
    "y = 11.5\n",
    "z = x+y\n",
    "print('z is', z)\n",
    "a = (x+y)  # int는 정수형 이라는 말이다.\n",
    "print('a is', a)"
   ]
  },
  {
   "cell_type": "code",
   "execution_count": 69,
   "id": "9312b3ae",
   "metadata": {},
   "outputs": [
    {
     "name": "stdout",
     "output_type": "stream",
     "text": [
      "10\n",
      "6.666666666666667\n",
      "6\n"
     ]
    }
   ],
   "source": [
    "x = (20 + 35) % 15 # % 숫자 -> 숫자로 나누고 나머지 값을 보여주는 것. \n",
    "print(x) \n",
    "\n",
    "print(20/3)\n",
    "print(20//3) # //는 앞에 있는 값만 불러오는 것임."
   ]
  },
  {
   "cell_type": "code",
   "execution_count": 73,
   "id": "e8ed20ca",
   "metadata": {},
   "outputs": [
    {
     "name": "stdout",
     "output_type": "stream",
     "text": [
      "['lion', 'in', 'oil']\n",
      "5's element\n",
      "5\"s element\n",
      "5's element\n"
     ]
    }
   ],
   "source": [
    "list = ['lion', 'in', 'oil']\n",
    "print(list)\n",
    "print(\"5's element\")\n",
    "print('5\"s element')\n",
    "print('''5's element''')"
   ]
  },
  {
   "cell_type": "code",
   "execution_count": 81,
   "id": "7beeb1c1",
   "metadata": {},
   "outputs": [
    {
     "name": "stdout",
     "output_type": "stream",
     "text": [
      "3\n"
     ]
    }
   ],
   "source": [
    "sum = 0\n",
    "for i in range(3, +1):\n",
    "    sum += A[i]\n",
    "    \n",
    "print(i)"
   ]
  },
  {
   "cell_type": "code",
   "execution_count": 84,
   "id": "dd07163d",
   "metadata": {},
   "outputs": [
    {
     "ename": "NameError",
     "evalue": "name 'A' is not defined",
     "output_type": "error",
     "traceback": [
      "\u001b[0;31m---------------------------------------------------------------------------\u001b[0m",
      "\u001b[0;31mNameError\u001b[0m                                 Traceback (most recent call last)",
      "\u001b[0;32m/var/folders/m5/4y33sbsx3v916xjwgc6_bx1h0000gn/T/ipykernel_4569/893460544.py\u001b[0m in \u001b[0;36m<module>\u001b[0;34m\u001b[0m\n\u001b[1;32m      1\u001b[0m \u001b[0msum\u001b[0m \u001b[0;34m=\u001b[0m \u001b[0;36m0\u001b[0m\u001b[0;34m;\u001b[0m \u001b[0mi\u001b[0m \u001b[0;34m=\u001b[0m \u001b[0;36m3\u001b[0m\u001b[0;34m\u001b[0m\u001b[0;34m\u001b[0m\u001b[0m\n\u001b[1;32m      2\u001b[0m \u001b[0;32mwhile\u001b[0m \u001b[0mi\u001b[0m \u001b[0;34m<=\u001b[0m \u001b[0;36m5\u001b[0m\u001b[0;34m:\u001b[0m\u001b[0;34m\u001b[0m\u001b[0;34m\u001b[0m\u001b[0m\n\u001b[0;32m----> 3\u001b[0;31m     \u001b[0msum\u001b[0m \u001b[0;34m+=\u001b[0m \u001b[0mA\u001b[0m\u001b[0;34m[\u001b[0m\u001b[0mi\u001b[0m\u001b[0;34m]\u001b[0m\u001b[0;34m\u001b[0m\u001b[0;34m\u001b[0m\u001b[0m\n\u001b[0m\u001b[1;32m      4\u001b[0m     \u001b[0mi\u001b[0m \u001b[0;34m+=\u001b[0m \u001b[0;36m1\u001b[0m\u001b[0;34m\u001b[0m\u001b[0;34m\u001b[0m\u001b[0m\n",
      "\u001b[0;31mNameError\u001b[0m: name 'A' is not defined"
     ]
    }
   ],
   "source": [
    "sum = 0; i = 3\n",
    "while i <= N:\n",
    "    sum += A[i]\n",
    "    i += 1"
   ]
  },
  {
   "cell_type": "code",
   "execution_count": 93,
   "id": "b8119bed",
   "metadata": {},
   "outputs": [
    {
     "name": "stdout",
     "output_type": "stream",
     "text": [
      "0 1 2 3 4 5 6 7 8 9 10 11 12 13 14 15 16 17 18 19 20 21 22 23 24 25 26 27 28 29 30 31 32 33 34 35 36 37 38 39 40 41 42 43 44 45 46 47 48 49 50 51 52 53 54 55 56 57 58 59 60 61 62 63 64 65 66 67 68 69 70 71 72 73 74 75 76 77 78 79 80 81 82 83 84 85 86 87 88 89 90 91 92 93 94 95 96 97 98 99 100 "
     ]
    }
   ],
   "source": [
    "for i in range(101):\n",
    "    print(i, end=' ')"
   ]
  },
  {
   "cell_type": "code",
   "execution_count": 98,
   "id": "589cb837",
   "metadata": {},
   "outputs": [
    {
     "name": "stdout",
     "output_type": "stream",
     "text": [
      "0 5 10 15 20 25 30 35 40 45 50 55 60 65 70 75 80 85 90 95 100 "
     ]
    }
   ],
   "source": [
    "for i in range(0, 101, 5):\n",
    "    print(i, end=' ')"
   ]
  },
  {
   "cell_type": "code",
   "execution_count": 96,
   "id": "19f71d73",
   "metadata": {},
   "outputs": [
    {
     "name": "stdout",
     "output_type": "stream",
     "text": [
      "101 99 97 95 93 91 89 87 85 83 81 79 77 75 73 71 69 67 65 63 61 59 57 55 53 51 49 47 45 43 41 39 37 35 33 31 29 27 25 23 21 19 17 15 13 11 9 7 5 3 1 "
     ]
    }
   ],
   "source": [
    "for i in range(101, 0, -2):\n",
    "    print(i, end=' ')"
   ]
  },
  {
   "cell_type": "code",
   "execution_count": 99,
   "id": "a43fd65c",
   "metadata": {},
   "outputs": [
    {
     "name": "stdout",
     "output_type": "stream",
     "text": [
      "0 1 2 3 "
     ]
    }
   ],
   "source": [
    "for i in [0,1,2,3]:\n",
    "    print(i, end = ' ')"
   ]
  },
  {
   "cell_type": "code",
   "execution_count": 113,
   "id": "dac334c0",
   "metadata": {},
   "outputs": [
    {
     "name": "stdout",
     "output_type": "stream",
     "text": [
      "0 1 2 3 "
     ]
    }
   ],
   "source": [
    "s = [0,1,2,3]\n",
    "for i in s:\n",
    "    print(i, end = ' ')"
   ]
  },
  {
   "cell_type": "code",
   "execution_count": 116,
   "id": "b1aba6b3",
   "metadata": {},
   "outputs": [
    {
     "data": {
      "text/plain": [
       "(1, 'korea', 3.5, 1)"
      ]
     },
     "execution_count": 116,
     "metadata": {},
     "output_type": "execute_result"
    },
    {
     "data": {
      "text/plain": [
       "tuple"
      ]
     },
     "execution_count": 116,
     "metadata": {},
     "output_type": "execute_result"
    }
   ],
   "source": [
    "# 튜플 - 불변한 순서가 있는 객체의 집합임. \n",
    "# list형과 \n",
    "\n",
    "t = (1, \"korea\", 3.5, 1)\n",
    "t\n",
    "type(t)"
   ]
  },
  {
   "cell_type": "code",
   "execution_count": 123,
   "id": "4cbaeeca",
   "metadata": {},
   "outputs": [
    {
     "data": {
      "text/plain": [
       "(1, 'korea')"
      ]
     },
     "execution_count": 123,
     "metadata": {},
     "output_type": "execute_result"
    },
    {
     "data": {
      "text/plain": [
       "4"
      ]
     },
     "execution_count": 123,
     "metadata": {},
     "output_type": "execute_result"
    },
    {
     "name": "stdout",
     "output_type": "stream",
     "text": [
      "1\n"
     ]
    },
    {
     "data": {
      "text/plain": [
       "(1, 'korea', 3.5, 1, 1, 'korea', 3.5, 1)"
      ]
     },
     "execution_count": 123,
     "metadata": {},
     "output_type": "execute_result"
    },
    {
     "name": "stdout",
     "output_type": "stream",
     "text": [
      "korea\n"
     ]
    },
    {
     "data": {
      "text/plain": [
       "(1, 'korea', 3.5, 1, 1, 'korea', 3.5, 1)"
      ]
     },
     "execution_count": 123,
     "metadata": {},
     "output_type": "execute_result"
    },
    {
     "name": "stdout",
     "output_type": "stream",
     "text": [
      "3.5\n"
     ]
    },
    {
     "data": {
      "text/plain": [
       "(1, 'korea', 3.5, 1, 1, 'korea', 3.5, 1)"
      ]
     },
     "execution_count": 123,
     "metadata": {},
     "output_type": "execute_result"
    },
    {
     "name": "stdout",
     "output_type": "stream",
     "text": [
      "1\n"
     ]
    },
    {
     "data": {
      "text/plain": [
       "(1, 'korea', 3.5, 1, 1, 'korea', 3.5, 1)"
      ]
     },
     "execution_count": 123,
     "metadata": {},
     "output_type": "execute_result"
    }
   ],
   "source": [
    "t[0], t[1]\n",
    "len(t)\n",
    "for i in t:\n",
    "    print(i)"
   ]
  },
  {
   "cell_type": "code",
   "execution_count": 127,
   "id": "33deefec",
   "metadata": {},
   "outputs": [
    {
     "data": {
      "text/plain": [
       "(1, 'korea', 3.5, 1, 1, 'korea', 3.5, 1)"
      ]
     },
     "execution_count": 127,
     "metadata": {},
     "output_type": "execute_result"
    }
   ],
   "source": [
    "t * 2"
   ]
  },
  {
   "cell_type": "code",
   "execution_count": 132,
   "id": "0f75a883",
   "metadata": {},
   "outputs": [
    {
     "data": {
      "text/plain": [
       "(5, 9)"
      ]
     },
     "execution_count": 132,
     "metadata": {},
     "output_type": "execute_result"
    },
    {
     "data": {
      "text/plain": [
       "9"
      ]
     },
     "execution_count": 132,
     "metadata": {},
     "output_type": "execute_result"
    }
   ],
   "source": [
    "a = ((1, 2), (3, 4), (5, 9))\n",
    "a[2]\n",
    "a[2][1]"
   ]
  },
  {
   "cell_type": "code",
   "execution_count": null,
   "id": "9a455fda",
   "metadata": {},
   "outputs": [],
   "source": []
  },
  {
   "cell_type": "code",
   "execution_count": 5,
   "id": "e9eee32b",
   "metadata": {},
   "outputs": [],
   "source": [
    "import time\n",
    "import datetime"
   ]
  },
  {
   "cell_type": "code",
   "execution_count": null,
   "id": "80d68919",
   "metadata": {},
   "outputs": [],
   "source": []
  },
  {
   "cell_type": "code",
   "execution_count": 7,
   "id": "349ebc6e",
   "metadata": {},
   "outputs": [
    {
     "name": "stdout",
     "output_type": "stream",
     "text": [
      "8\n"
     ]
    }
   ],
   "source": [
    "print(2**3)"
   ]
  },
  {
   "cell_type": "code",
   "execution_count": null,
   "id": "dc8449f7",
   "metadata": {},
   "outputs": [],
   "source": [
    "# 파이썬 함수 구현"
   ]
  },
  {
   "cell_type": "code",
   "execution_count": 8,
   "id": "e409599e",
   "metadata": {},
   "outputs": [
    {
     "name": "stdout",
     "output_type": "stream",
     "text": [
      "8\n",
      "92\n",
      "45\n",
      "8\n",
      "2.0\n",
      "29\n",
      "1\n",
      "원의 넓이 : 113.04\n",
      "원의 둘레 : 37.68\n",
      "2022-03-30 23:19:49.970263\n",
      "2022년03월30일\n",
      "23시19분49초\n",
      "2022년03월30일 23시19분49초\n"
     ]
    }
   ],
   "source": [
    "import datetime # 시간표시 하기 위해선 시간모듈을 사용해야 한다.\n",
    "\n",
    "print(3 + 5) # 더하기\n",
    "print(98 - 6) # 빼기 \n",
    "print(5 * 9) # 곱하기\n",
    "print(2 ** 3) # 거듭제곱\n",
    "print(10/5) # 나누기\n",
    "print(88//3) # 나누기 연산 후 소수점 이하의 수를 버리고, 정수 부분의 수만 구함\n",
    "print(88%3) # 나누기 연산 후 몫이 아닌 나머지를 구함 \n",
    "print(f\"원의 넓이 : {6*6*3.14}\") # 원의 넓이\n",
    "print(f\"원의 둘레 : {2*6*3.14}\") # 원의 둘레\n",
    "\n",
    "now = datetime.datetime.now()\n",
    "print(now)\n",
    "nowDate = now.strftime('%Y년%m월%d일') #strftime - 날짜/시간을 문자열로 변환을 시키는 것 이다.\n",
    "print(nowDate)\n",
    "nowTime = now.strftime('%H시%M분%S초')\n",
    "print(nowTime)\n",
    "nowDatetime = now.strftime('%Y년%m월%d일 %H시%M분%S초')\n",
    "print(nowDatetime)\n"
   ]
  },
  {
   "cell_type": "code",
   "execution_count": null,
   "id": "0d7624e3",
   "metadata": {},
   "outputs": [],
   "source": []
  },
  {
   "cell_type": "code",
   "execution_count": 2,
   "id": "3ae2ffa1",
   "metadata": {},
   "outputs": [
    {
     "name": "stdout",
     "output_type": "stream",
     "text": [
      "[1, 2, 3, 1, 2, 3, 1, 2, 3]\n"
     ]
    }
   ],
   "source": [
    "a = [1,2,3]\n",
    "b = a * 3\n",
    "print(b)"
   ]
  },
  {
   "cell_type": "code",
   "execution_count": null,
   "id": "2fb8ba7f",
   "metadata": {},
   "outputs": [],
   "source": []
  },
  {
   "cell_type": "code",
   "execution_count": 57,
   "id": "709a5ac4",
   "metadata": {},
   "outputs": [],
   "source": [
    "a = [1, 2, 3, 4, 5]\n",
    "b = ['IOS', 'MacOS', 'IpadOS']\n",
    "c = []\n",
    "d = list()"
   ]
  },
  {
   "cell_type": "code",
   "execution_count": 37,
   "id": "6d46b8b6",
   "metadata": {},
   "outputs": [
    {
     "name": "stdout",
     "output_type": "stream",
     "text": [
      "[1, 2, 3, 4, 5, 'IOS', 'MacOS', 'IpadOS']\n"
     ]
    }
   ],
   "source": [
    "print(a + b)"
   ]
  },
  {
   "cell_type": "code",
   "execution_count": 61,
   "id": "d727bd4b",
   "metadata": {},
   "outputs": [
    {
     "name": "stdout",
     "output_type": "stream",
     "text": [
      "[1, 2, 3, 4, 5]\n",
      "1\n"
     ]
    }
   ],
   "source": [
    "a = [1, 2, 3, 4, 5]\n",
    "b = ['IOS', 'MacOS', 'IpadOS']\n",
    "c = []\n",
    "d = list()\n",
    "c = a.copy()\n",
    "print(c)\n",
    "print(b.count('IOS'))"
   ]
  },
  {
   "cell_type": "code",
   "execution_count": null,
   "id": "2475f0df",
   "metadata": {},
   "outputs": [],
   "source": []
  },
  {
   "cell_type": "code",
   "execution_count": null,
   "id": "7af0992b",
   "metadata": {},
   "outputs": [],
   "source": []
  },
  {
   "cell_type": "code",
   "execution_count": null,
   "id": "35d9894e",
   "metadata": {},
   "outputs": [],
   "source": []
  }
 ],
 "metadata": {
  "kernelspec": {
   "display_name": "Python 3 (ipykernel)",
   "language": "python",
   "name": "python3"
  },
  "language_info": {
   "codemirror_mode": {
    "name": "ipython",
    "version": 3
   },
   "file_extension": ".py",
   "mimetype": "text/x-python",
   "name": "python",
   "nbconvert_exporter": "python",
   "pygments_lexer": "ipython3",
   "version": "3.9.7"
  }
 },
 "nbformat": 4,
 "nbformat_minor": 5
}
