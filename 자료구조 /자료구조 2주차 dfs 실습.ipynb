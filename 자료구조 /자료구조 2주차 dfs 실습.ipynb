{
 "cells": [
  {
   "cell_type": "code",
   "execution_count": 1,
   "id": "eaf32549",
   "metadata": {},
   "outputs": [],
   "source": [
    "#dfs(깊이 우선 탐색)  <--> bfs(너비 우선 탐색) 이렇게 반댓말이 존재한다. \n",
    "\n",
    "#dfs(깊이 우선 탐색)는 \n",
    "#미로를 탐색할 때 한 방향으로 갈 수 있을 때까지 계속 가다가 더 이상 갈 수 없게 되면 다시 가장 가까운 갈림길로 돌아와서 이곳부터 다시 탐색\n",
    "\n",
    "#bfs(너비 우선 탐색)는 \n",
    "#시작 정점으로부터 가까운 정점을 먼저 방문하고 멀리 떨어져 있는 정점을 나중에 방문하는 순회 방법이다.  \n",
    "\n",
    "#노드와 이들을 연결하는 간석으로 이루어진 그래프에서 시작 노드로부터 방문할 수 있는 모든 노드를 방문하는 작업"
   ]
  },
  {
   "cell_type": "code",
   "execution_count": 3,
   "id": "0aab2b8e",
   "metadata": {},
   "outputs": [],
   "source": [
    "graph = {'A':['B','C'],\n",
    "      'B':['A','D','E'],\n",
    "      'C':['A','G','H'],\n",
    "      'D':['B'],\n",
    "      'E':['B','F'],\n",
    "      'F':['E'],\n",
    "      'G':['C'],\n",
    "      'H':['C']}"
   ]
  },
  {
   "cell_type": "code",
   "execution_count": 4,
   "id": "ab3a7847",
   "metadata": {},
   "outputs": [
    {
     "data": {
      "text/plain": [
       "{'A': ['B', 'C'],\n",
       " 'B': ['A', 'D', 'E'],\n",
       " 'C': ['A', 'G', 'H'],\n",
       " 'D': ['B'],\n",
       " 'E': ['B', 'F'],\n",
       " 'F': ['E'],\n",
       " 'G': ['C'],\n",
       " 'H': ['C']}"
      ]
     },
     "execution_count": 4,
     "metadata": {},
     "output_type": "execute_result"
    }
   ],
   "source": [
    "graph"
   ]
  },
  {
   "cell_type": "code",
   "execution_count": 9,
   "id": "469d2569",
   "metadata": {},
   "outputs": [],
   "source": [
    "# 비재귀함수로 구현한것.\n",
    "def dfs_iteration(graph, root):\n",
    "    visited = []\n",
    "    stack = [root]\n",
    "    while(stack) :\n",
    "        node = stack.pop()\n",
    "        if(node not in visited):\n",
    "            visited.append(node)\n",
    "            stack.extend(graph[node])\n",
    "    return visited"
   ]
  },
  {
   "cell_type": "code",
   "execution_count": 11,
   "id": "93e84971",
   "metadata": {},
   "outputs": [
    {
     "data": {
      "text/plain": [
       "['B', 'C']"
      ]
     },
     "execution_count": 11,
     "metadata": {},
     "output_type": "execute_result"
    }
   ],
   "source": [
    "graph['A']"
   ]
  },
  {
   "cell_type": "code",
   "execution_count": 10,
   "id": "f46f1a63",
   "metadata": {},
   "outputs": [
    {
     "data": {
      "text/plain": [
       "['A', 'C', 'H', 'G', 'B', 'E', 'F', 'D']"
      ]
     },
     "execution_count": 10,
     "metadata": {},
     "output_type": "execute_result"
    }
   ],
   "source": [
    "dfs_iteration(graph, 'A')"
   ]
  },
  {
   "cell_type": "code",
   "execution_count": null,
   "id": "8a21a3d4",
   "metadata": {},
   "outputs": [],
   "source": []
  },
  {
   "cell_type": "code",
   "execution_count": 15,
   "id": "274a9f6d",
   "metadata": {},
   "outputs": [],
   "source": [
    "# 인터넷에서 흔히 찾아볼수 있는 알고리즘 임 -> 강의 다 듣고 한번 검색하고 다시 공부해보기\n",
    "\n",
    "#재귀함수를 이용한 알고리즘\n",
    "def dfs_recursive(praph, start, visited=[]):\n",
    "    \n",
    "    visited.append(start)\n",
    "    print(visited)\n",
    "    \n",
    "    for node in graph[start]:\n",
    "        if node not in visited:\n",
    "            dfs_recursive(graph, node, visited)\n",
    "            \n",
    "    return visited"
   ]
  },
  {
   "cell_type": "code",
   "execution_count": 16,
   "id": "402c173b",
   "metadata": {},
   "outputs": [
    {
     "name": "stdout",
     "output_type": "stream",
     "text": [
      "['A']\n",
      "['A', 'B']\n",
      "['A', 'B', 'D']\n",
      "['A', 'B', 'D', 'E']\n",
      "['A', 'B', 'D', 'E', 'F']\n",
      "['A', 'B', 'D', 'E', 'F', 'C']\n",
      "['A', 'B', 'D', 'E', 'F', 'C', 'G']\n",
      "['A', 'B', 'D', 'E', 'F', 'C', 'G', 'H']\n"
     ]
    },
    {
     "data": {
      "text/plain": [
       "['A', 'B', 'D', 'E', 'F', 'C', 'G', 'H']"
      ]
     },
     "execution_count": 16,
     "metadata": {},
     "output_type": "execute_result"
    }
   ],
   "source": [
    "dfs_recursive(graph, 'A')"
   ]
  },
  {
   "cell_type": "code",
   "execution_count": null,
   "id": "46dafb0e",
   "metadata": {},
   "outputs": [],
   "source": []
  },
  {
   "cell_type": "code",
   "execution_count": null,
   "id": "3cdb0d2f",
   "metadata": {},
   "outputs": [],
   "source": []
  },
  {
   "cell_type": "code",
   "execution_count": null,
   "id": "0d49e33c",
   "metadata": {},
   "outputs": [],
   "source": []
  },
  {
   "cell_type": "code",
   "execution_count": null,
   "id": "1f850e74",
   "metadata": {},
   "outputs": [],
   "source": []
  },
  {
   "cell_type": "code",
   "execution_count": null,
   "id": "f0f3d1e3",
   "metadata": {},
   "outputs": [],
   "source": [
    "fib_fast(n):\n",
    "    f[1] "
   ]
  },
  {
   "cell_type": "code",
   "execution_count": null,
   "id": "48afa4a6",
   "metadata": {},
   "outputs": [],
   "source": []
  },
  {
   "cell_type": "code",
   "execution_count": null,
   "id": "cd8504c9",
   "metadata": {},
   "outputs": [],
   "source": []
  }
 ],
 "metadata": {
  "kernelspec": {
   "display_name": "Python 3 (ipykernel)",
   "language": "python",
   "name": "python3"
  },
  "language_info": {
   "codemirror_mode": {
    "name": "ipython",
    "version": 3
   },
   "file_extension": ".py",
   "mimetype": "text/x-python",
   "name": "python",
   "nbconvert_exporter": "python",
   "pygments_lexer": "ipython3",
   "version": "3.9.7"
  }
 },
 "nbformat": 4,
 "nbformat_minor": 5
}
